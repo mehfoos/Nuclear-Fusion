{
 "cells": [
  {
   "cell_type": "markdown",
   "metadata": {},
   "source": [
    "In this notebook, we explore the Saha equation using F. Chen's expression."
   ]
  },
  {
   "cell_type": "markdown",
   "metadata": {
    "heading_collapsed": true
   },
   "source": [
    "#### <span style=\"color:GoldenRod \"> Import modules </span>"
   ]
  },
  {
   "cell_type": "code",
   "execution_count": 1,
   "metadata": {
    "hidden": true
   },
   "outputs": [
    {
     "ename": "ModuleNotFoundError",
     "evalue": "No module named 'sympy'",
     "output_type": "error",
     "traceback": [
      "\u001b[1;31m---------------------------------------------------------------------------\u001b[0m",
      "\u001b[1;31mModuleNotFoundError\u001b[0m                       Traceback (most recent call last)",
      "\u001b[1;32m~\\AppData\\Local\\Temp/ipykernel_4724/3791073316.py\u001b[0m in \u001b[0;36m<module>\u001b[1;34m\u001b[0m\n\u001b[0;32m      1\u001b[0m \u001b[1;32mimport\u001b[0m \u001b[0mnumpy\u001b[0m \u001b[1;32mas\u001b[0m \u001b[0mnp\u001b[0m\u001b[1;33m\u001b[0m\u001b[1;33m\u001b[0m\u001b[0m\n\u001b[1;32m----> 2\u001b[1;33m \u001b[1;32mfrom\u001b[0m \u001b[0msympy\u001b[0m\u001b[1;33m.\u001b[0m\u001b[0msolvers\u001b[0m \u001b[1;32mimport\u001b[0m \u001b[0msolve\u001b[0m\u001b[1;33m\u001b[0m\u001b[1;33m\u001b[0m\u001b[0m\n\u001b[0m\u001b[0;32m      3\u001b[0m \u001b[1;32mfrom\u001b[0m \u001b[0msympy\u001b[0m \u001b[1;32mimport\u001b[0m \u001b[0mSymbol\u001b[0m\u001b[1;33m\u001b[0m\u001b[1;33m\u001b[0m\u001b[0m\n\u001b[0;32m      4\u001b[0m \u001b[1;32mfrom\u001b[0m \u001b[0mscipy\u001b[0m \u001b[1;32mimport\u001b[0m \u001b[0mconstants\u001b[0m \u001b[1;32mas\u001b[0m \u001b[0msc\u001b[0m\u001b[1;33m\u001b[0m\u001b[1;33m\u001b[0m\u001b[0m\n\u001b[0;32m      5\u001b[0m \u001b[1;32mfrom\u001b[0m \u001b[0mmatplotlib\u001b[0m \u001b[1;32mimport\u001b[0m \u001b[0mpyplot\u001b[0m \u001b[1;32mas\u001b[0m \u001b[0mplt\u001b[0m\u001b[1;33m\u001b[0m\u001b[1;33m\u001b[0m\u001b[0m\n",
      "\u001b[1;31mModuleNotFoundError\u001b[0m: No module named 'sympy'"
     ]
    }
   ],
   "source": [
    "import numpy as np\n",
    "from sympy.solvers import solve\n",
    "from sympy import Symbol\n",
    "from scipy import constants as sc\n",
    "from matplotlib import pyplot as plt\n",
    "from decimal import *\n",
    "import plasmapy\n",
    "import astropy"
   ]
  },
  {
   "cell_type": "code",
   "execution_count": null,
   "metadata": {
    "code_folding": [],
    "hidden": true
   },
   "outputs": [],
   "source": [
    "def sciprint(x):\n",
    "    print(f\"x = {x:0.1g}\")"
   ]
  },
  {
   "cell_type": "markdown",
   "metadata": {
    "tags": []
   },
   "source": [
    "# The Saha-Boltzmann equation: first impressions"
   ]
  },
  {
   "cell_type": "markdown",
   "metadata": {},
   "source": [
    "$$\\frac{n_i}{n_n} \\sim 2.4 \\cdot 10^{21} \\frac{T^{3/2}}{n_i} e^{-U_i / k_B T}$$\n",
    "\n",
    "Where  $n_i$ and $n_n$ are the density of ionized atoms and of neutral atoms (in [nb.m$^{-3}$]), $T$ is the temperature (in [K]), $k_B$ is Boltzmann's constant and $U_i$ is the ionisation energy of the specie considered (in [J])."
   ]
  },
  {
   "cell_type": "markdown",
   "metadata": {},
   "source": [
    "It is generally more convenient to define: $$x = \\frac{n_i}{n}$$ where where $n = n_i + n_n$."
   ]
  },
  {
   "cell_type": "markdown",
   "metadata": {},
   "source": [
    "<span style=\"color:ForestGreen\">\n",
    "<strong>Exercise:</strong> Show that this expression can be rewritten as:\n",
    "$$ \\frac{x^2}{1-x} = 2.4 \\cdot 10^{21} \\frac{T^{3/2}}{n} e^{-U_i / k_B T}$$    \n",
    "</span>"
   ]
  },
  {
   "cell_type": "markdown",
   "metadata": {
    "heading_collapsed": true,
    "jp-MarkdownHeadingCollapsed": true,
    "tags": []
   },
   "source": [
    "### <span style=\"color:GoldenRod \"> 1. Numerical computation </span>"
   ]
  },
  {
   "cell_type": "markdown",
   "metadata": {
    "hidden": true
   },
   "source": [
    "#### <span style=\"color:GoldenRod \"> 1.1. First, we compute the right hand-side term. </span>"
   ]
  },
  {
   "cell_type": "code",
   "execution_count": null,
   "metadata": {
    "hidden": true
   },
   "outputs": [],
   "source": [
    "def rhs_Saha_Chen(n,T,Ui):\n",
    "    \"\"\"Computes the right hand side of Saha's equation for a given temperature T\"\"\"\n",
    "    rhs = 2.4*1e21*(T**(3/2)/n)*np.exp(-(Ui/(sc.k*T)))\n",
    "    return rhs"
   ]
  },
  {
   "cell_type": "markdown",
   "metadata": {
    "hidden": true
   },
   "source": [
    "#### <span style=\"color:GoldenRod \"> 1.2. Then, we solve for the ionisation fraction $x$. </span>"
   ]
  },
  {
   "cell_type": "code",
   "execution_count": null,
   "metadata": {
    "hidden": true
   },
   "outputs": [],
   "source": [
    "#Assuming x > 0 forces the solver to return only positive solutions\n",
    "x = Symbol('x', positive=True) "
   ]
  },
  {
   "cell_type": "code",
   "execution_count": null,
   "metadata": {
    "hidden": true
   },
   "outputs": [],
   "source": [
    "def solve_Saha(n,T,Ui):\n",
    "    \"\"\"Computes the ionisation fraction x for a given temperature T\"\"\"\n",
    "    #Note: sympy.solvers.solve struggles when rhs is large. So let's use two cases:\n",
    "    if (rhs_Saha_Chen(n,T,Ui) <= 1e2):\n",
    "        sol = solve((x**2/(1-x)) - rhs_Saha_Chen(n,T,Ui),x) \n",
    "    else:\n",
    "        sol = [1 - 1/rhs_Saha_Chen(n,T,Ui)] #for x->1, x²/(1-x)-> 1/(1-x)\n",
    "    if len(sol)==0:\n",
    "        sol = [np.nan]  #If there is no solution, returns a NaN rather than an empty array.\n",
    "    return sol"
   ]
  },
  {
   "cell_type": "markdown",
   "metadata": {
    "heading_collapsed": true,
    "jp-MarkdownHeadingCollapsed": true,
    "tags": []
   },
   "source": [
    "### 2. Examples"
   ]
  },
  {
   "cell_type": "markdown",
   "metadata": {
    "hidden": true
   },
   "source": [
    "#### 2.1. ITER Plasma:"
   ]
  },
  {
   "cell_type": "markdown",
   "metadata": {
    "hidden": true
   },
   "source": [
    "$n \\sim 1 \\cdot 10^{19} \\text{ m}^{-3}$ and $T \\sim 8 \\text{ keV}$, $U_i \\sim 15.6 \\text{ eV (for Deuterium)}$"
   ]
  },
  {
   "cell_type": "code",
   "execution_count": null,
   "metadata": {
    "hidden": true,
    "scrolled": true
   },
   "outputs": [],
   "source": [
    "n = 1e19 #[nb.m^-3]\n",
    "T = 8e3 * sc.electron_volt / sc.k #[K]\n",
    "Ui = 15.5*sc.electron_volt #13.6 eV -> [J], ionisation energy of hydrogen\n",
    "\n",
    "x_i = solve_Saha(n,T,Ui)[0]\n",
    "sciprint(x_i)"
   ]
  },
  {
   "cell_type": "markdown",
   "metadata": {
    "hidden": true
   },
   "source": [
    "#### 2.2. This room:"
   ]
  },
  {
   "cell_type": "markdown",
   "metadata": {
    "hidden": true
   },
   "source": [
    "$n \\sim 3 \\cdot 10^{25} \\text{ m}^{-3}$, $T \\sim 300 \\text{ K}$ and $U_i \\sim 14.5 \\text{ eV}$ (for $N_2$)"
   ]
  },
  {
   "cell_type": "code",
   "execution_count": null,
   "metadata": {
    "hidden": true
   },
   "outputs": [],
   "source": [
    "n = 3e25 #[nb.m^-3]\n",
    "T = 300 #[K]\n",
    "Ui = 14.5*sc.electron_volt #14.5 eV -> [J], ionisation energy of N2\n",
    "\n",
    "x_i = solve_Saha(n,T,Ui)[0]\n",
    "sciprint(x_i)"
   ]
  },
  {
   "cell_type": "markdown",
   "metadata": {
    "hidden": true
   },
   "source": [
    "<span style=\"color:GoldenRod \">\n",
    "Note: This extremely low value of ionisation is unrealistically low, because Saha's equation does not take into account ionisation by cosmic rays which takes the real $n_i / n_n$ ratio closer to $10^{-22}$. That's still not much.\n",
    "</span>"
   ]
  },
  {
   "cell_type": "markdown",
   "metadata": {
    "hidden": true
   },
   "source": [
    "#### 2.3. A wood burning stove:"
   ]
  },
  {
   "cell_type": "markdown",
   "metadata": {
    "hidden": true
   },
   "source": [
    "$n \\sim 3 \\cdot 10^{25} \\text{ m}^{-3}$, $T \\sim 460 \\ ^\\circ\\text{C}$ and $U_i \\sim 14.5 \\text{ eV}$ (for $N_2$)"
   ]
  },
  {
   "cell_type": "code",
   "execution_count": null,
   "metadata": {
    "hidden": true
   },
   "outputs": [],
   "source": [
    "n = 3e25 #[nb.m^-3]\n",
    "T = 460 + 273.15 #[K]\n",
    "Ui = 14.5*sc.electron_volt #14.5 eV -> [J], ionisation energy of N2\n",
    "\n",
    "x_i = solve_Saha(n,T,Ui)[0]\n",
    "sciprint(x_i)"
   ]
  },
  {
   "cell_type": "markdown",
   "metadata": {
    "hidden": true
   },
   "source": [
    "#### 2.4. Lightning"
   ]
  },
  {
   "cell_type": "markdown",
   "metadata": {
    "hidden": true
   },
   "source": [
    "$n \\sim 3 \\cdot 10^{25} \\text{ m}^{-3}$ and $T \\sim 20,000  \\ ^\\circ\\text{C}$, $U_i \\sim 14.5 \\text{ eV}$ (for $N_2$)"
   ]
  },
  {
   "cell_type": "code",
   "execution_count": null,
   "metadata": {
    "hidden": true
   },
   "outputs": [],
   "source": [
    "n = 3e25 #[nb.m^-3]\n",
    "T = 20000 #[K]\n",
    "Ui = 14.5*sc.electron_volt #14.5 eV -> [J], ionisation energy of N2\n",
    "\n",
    "x_i = solve_Saha(n,T,Ui)[0]\n",
    "sciprint(x_i)"
   ]
  },
  {
   "cell_type": "markdown",
   "metadata": {
    "heading_collapsed": true,
    "jp-MarkdownHeadingCollapsed": true,
    "tags": []
   },
   "source": [
    "### 3. Plotting x in terms of _T_ "
   ]
  },
  {
   "cell_type": "markdown",
   "metadata": {
    "hidden": true
   },
   "source": [
    "#### 3.1. At atmospheric density"
   ]
  },
  {
   "cell_type": "code",
   "execution_count": null,
   "metadata": {
    "code_folding": [],
    "hidden": true
   },
   "outputs": [],
   "source": [
    "n = 3e25 #[nb.m^-3]\n",
    "Ui = 14.5*sc.electron_volt #14.5 eV -> [J], ionisation energy of N2\n",
    "\n",
    "Ts = np.logspace(0,7,100)\n",
    "xs = []\n",
    "for j in range(0, len(Ts)):\n",
    "    xs = xs + solve_Saha(n,Ts[j],Ui)"
   ]
  },
  {
   "cell_type": "code",
   "execution_count": null,
   "metadata": {
    "hidden": true
   },
   "outputs": [],
   "source": [
    "plt.cla()\n",
    "plt.plot(Ts, xs)\n",
    "\n",
    "plt.xlabel(r'$T$ (K)')\n",
    "plt.semilogx()\n",
    "plt.ylabel('ionisation fraction x')\n",
    "plt.show()"
   ]
  },
  {
   "cell_type": "markdown",
   "metadata": {
    "hidden": true
   },
   "source": [
    "#### 3.2. At other densities"
   ]
  },
  {
   "cell_type": "code",
   "execution_count": null,
   "metadata": {
    "hidden": true
   },
   "outputs": [],
   "source": [
    "Ts = np.logspace(0,7,100)\n",
    "Ui = 13.6*sc.electron_volt #Hydrogen. Remember, the usual T-rho diagram is for hydrogen\n",
    "\n",
    "plt.cla()\n",
    "\n",
    "for n in [1e23, 1e24, 1e25, 1e26, 1e27]:\n",
    "    xs = []\n",
    "    for j in range(0, len(Ts)):\n",
    "        xs = xs + solve_Saha(n,Ts[j],Ui)\n",
    "        label = f\"n = {n:0.1g} [m^-3]\"\n",
    "\n",
    "    plt.plot(Ts, xs, label=label)\n",
    "    \n",
    "plt.xlabel(r'$T$ (K)')\n",
    "plt.semilogx()\n",
    "plt.ylabel('ionisation fraction x')\n",
    "plt.legend()\n",
    "plt.show()"
   ]
  },
  {
   "cell_type": "markdown",
   "metadata": {
    "heading_collapsed": true,
    "jp-MarkdownHeadingCollapsed": true,
    "tags": []
   },
   "source": [
    "### 4. Plotting the Saha equation in the Temperature-Density diagram"
   ]
  },
  {
   "cell_type": "markdown",
   "metadata": {
    "hidden": true
   },
   "source": [
    "Let us now assume that $x=1/2$.\n",
    "\n",
    "We can show that the Saha equation becomes:\n",
    "\n",
    "$$ \\frac{n}{2} = 2.4 \\cdot 10^{21} T^{3/2} e^{-U_i/k_B T} $$"
   ]
  },
  {
   "cell_type": "code",
   "execution_count": null,
   "metadata": {
    "hidden": true
   },
   "outputs": [],
   "source": [
    "Ts = np.logspace(2,10,100)\n",
    "ns = []\n",
    "for T in Ts:\n",
    "    n = 2*2.4e21*T**(3/2)*np.exp(-Ui/(sc.k*T))\n",
    "    ns = ns+[n]\n",
    "    \n",
    "ns = np.array([n if 1e12<n<1e29 else np.nan for n in ns])"
   ]
  },
  {
   "cell_type": "code",
   "execution_count": null,
   "metadata": {
    "hidden": true
   },
   "outputs": [],
   "source": [
    "plt.plot(np.log10(ns*sc.m_p*1e-3), np.log10(Ts), color='red', linewidth=3)\n",
    "plt.xlim([-12, 11])\n",
    "plt.ylim([1.8, 11.2])\n",
    "plt.show()"
   ]
  },
  {
   "cell_type": "code",
   "execution_count": null,
   "metadata": {
    "hidden": true
   },
   "outputs": [],
   "source": [
    "plt.plot(ns*sc.m_p*1e-3, Ts, color='red', linewidth=3)\n",
    "plt.xlim([0, 0.15])\n",
    "plt.ylim([1e2, 2e5])\n",
    "plt.show()"
   ]
  },
  {
   "cell_type": "markdown",
   "metadata": {
    "heading_collapsed": true,
    "jp-MarkdownHeadingCollapsed": true,
    "tags": []
   },
   "source": [
    "### <span style=\"color:GoldenRod \"> 5. Estimating the average charge </span>"
   ]
  },
  {
   "cell_type": "markdown",
   "metadata": {
    "hidden": true
   },
   "source": [
    "This plasmapy function needs a patch. I am working on it!"
   ]
  },
  {
   "cell_type": "code",
   "execution_count": null,
   "metadata": {
    "hidden": true
   },
   "outputs": [],
   "source": [
    "import astropy.units as u\n",
    "\n",
    "#e.g. ITER\n",
    "n = 1e19 * u.m ** -3\n",
    "T = 8e3 * u.eV \n",
    "Z_n = 1\n",
    "print('ITER', plasmapy.formulary.ionization.ionization_balance(n, T))\n",
    "\n",
    "#e.g. This room\n",
    "n = 3e25 * u.m ** -3\n",
    "T = 300 *u.K\n",
    "print('This room', plasmapy.formulary.ionization.ionization_balance(n, T))\n",
    "\n",
    "#e.g. A wood burning stove\n",
    "n = 3e25 * u.m ** -3\n",
    "T = (460 + 273.15) * u.K\n",
    "print('Flame', plasmapy.formulary.ionization.ionization_balance(n, T))\n",
    "\n",
    "#e.g. Lightning\n",
    "n = 3e25 * u.m ** -3\n",
    "T = 20000 * u.K\n",
    "print('Lightning', plasmapy.formulary.ionization.ionization_balance(n, T))\n",
    "\n",
    "#e.g. Laser Plasma interaction\n",
    "T = 300 * u.eV\n",
    "n = 2e21 * u.cm ** -3\n",
    "\n",
    "print('Laser/Plasma', plasmapy.formulary.ionization.ionization_balance(n, T))"
   ]
  }
 ],
 "metadata": {
  "kernelspec": {
   "display_name": "Python 3.9.7 ('.venv': venv)",
   "language": "python",
   "name": "python3"
  },
  "language_info": {
   "codemirror_mode": {
    "name": "ipython",
    "version": 3
   },
   "file_extension": ".py",
   "mimetype": "text/x-python",
   "name": "python",
   "nbconvert_exporter": "python",
   "pygments_lexer": "ipython3",
   "version": "3.9.7"
  },
  "varInspector": {
   "cols": {
    "lenName": 16,
    "lenType": 16,
    "lenVar": 40
   },
   "kernels_config": {
    "python": {
     "delete_cmd_postfix": "",
     "delete_cmd_prefix": "del ",
     "library": "var_list.py",
     "varRefreshCmd": "print(var_dic_list())"
    },
    "r": {
     "delete_cmd_postfix": ") ",
     "delete_cmd_prefix": "rm(",
     "library": "var_list.r",
     "varRefreshCmd": "cat(var_dic_list()) "
    }
   },
   "types_to_exclude": [
    "module",
    "function",
    "builtin_function_or_method",
    "instance",
    "_Feature"
   ],
   "window_display": false
  },
  "vscode": {
   "interpreter": {
    "hash": "86190ccbe3451d9c7889f0cc9247f282c008d6fa2e41cbfc6d7f2bbc5a6cee59"
   }
  }
 },
 "nbformat": 4,
 "nbformat_minor": 4
}
