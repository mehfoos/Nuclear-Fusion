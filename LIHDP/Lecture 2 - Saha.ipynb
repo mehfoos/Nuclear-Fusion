{
 "cells": [
  {
   "cell_type": "markdown",
   "metadata": {},
   "source": [
    "In this notebook, we explore the Saha equation using F. Chen's expression."
   ]
  },
  {
   "cell_type": "markdown",
   "metadata": {
    "heading_collapsed": true
   },
   "source": [
    "#### <span style=\"color:GoldenRod \"> Import modules </span>"
   ]
  },
  {
   "cell_type": "code",
   "execution_count": 1,
   "metadata": {
    "hidden": true
   },
   "outputs": [],
   "source": [
    "import numpy as np\n",
    "from sympy.solvers import solve\n",
    "from sympy import Symbol\n",
    "from scipy import constants as sc\n",
    "from matplotlib import pyplot as plt\n",
    "from decimal import *\n",
    "import plasmapy\n",
    "import astropy"
   ]
  },
  {
   "cell_type": "code",
   "execution_count": 2,
   "metadata": {
    "code_folding": [],
    "hidden": true
   },
   "outputs": [],
   "source": [
    "def sciprint(x):\n",
    "    print(f\"x = {x:0.1g}\")"
   ]
  },
  {
   "cell_type": "markdown",
   "metadata": {
    "tags": []
   },
   "source": [
    "# The Saha-Boltzmann equation: first impressions"
   ]
  },
  {
   "cell_type": "markdown",
   "metadata": {},
   "source": [
    "$$\\frac{n_i}{n_n} \\sim 2.4 \\cdot 10^{21} \\frac{T^{3/2}}{n_i} e^{-U_i / k_B T}$$\n",
    "\n",
    "Where  $n_i$ and $n_n$ are the density of ionized atoms and of neutral atoms (in [nb.m$^{-3}$]), $T$ is the temperature (in [K]), $k_B$ is Boltzmann's constant and $U_i$ is the ionisation energy of the specie considered (in [J])."
   ]
  },
  {
   "cell_type": "markdown",
   "metadata": {},
   "source": [
    "It is generally more convenient to define: $$x = \\frac{n_i}{n}$$ where where $n = n_i + n_n$."
   ]
  },
  {
   "cell_type": "markdown",
   "metadata": {},
   "source": [
    "<span style=\"color:ForestGreen\">\n",
    "<strong>Exercise:</strong> Show that this expression can be rewritten as:\n",
    "$$ \\frac{x^2}{1-x} = 2.4 \\cdot 10^{21} \\frac{T^{3/2}}{n} e^{-U_i / k_B T}$$    \n",
    "</span>"
   ]
  },
  {
   "cell_type": "markdown",
   "metadata": {
    "heading_collapsed": true,
    "jp-MarkdownHeadingCollapsed": true,
    "tags": []
   },
   "source": [
    "### <span style=\"color:GoldenRod \"> 1. Numerical computation </span>"
   ]
  },
  {
   "cell_type": "markdown",
   "metadata": {
    "hidden": true
   },
   "source": [
    "#### <span style=\"color:GoldenRod \"> 1.1. First, we compute the right hand-side term. </span>"
   ]
  },
  {
   "cell_type": "code",
   "execution_count": 3,
   "metadata": {
    "hidden": true
   },
   "outputs": [],
   "source": [
    "def rhs_Saha_Chen(n,T,Ui):\n",
    "    \"\"\"Computes the right hand side of Saha's equation for a given temperature T\"\"\"\n",
    "    rhs = 2.4*1e21*(T**(3/2)/n)*np.exp(-(Ui/(sc.k*T)))\n",
    "    return rhs"
   ]
  },
  {
   "cell_type": "markdown",
   "metadata": {
    "hidden": true
   },
   "source": [
    "#### <span style=\"color:GoldenRod \"> 1.2. Then, we solve for the ionisation fraction $x$. </span>"
   ]
  },
  {
   "cell_type": "code",
   "execution_count": 4,
   "metadata": {
    "hidden": true
   },
   "outputs": [],
   "source": [
    "#Assuming x > 0 forces the solver to return only positive solutions\n",
    "x = Symbol('x', positive=True) "
   ]
  },
  {
   "cell_type": "code",
   "execution_count": 5,
   "metadata": {
    "hidden": true
   },
   "outputs": [],
   "source": [
    "def solve_Saha(n,T,Ui):\n",
    "    \"\"\"Computes the ionisation fraction x for a given temperature T\"\"\"\n",
    "    #Note: sympy.solvers.solve struggles when rhs is large. So let's use two cases:\n",
    "    if (rhs_Saha_Chen(n,T,Ui) <= 1e2):\n",
    "        sol = solve((x**2/(1-x)) - rhs_Saha_Chen(n,T,Ui),x) \n",
    "    else:\n",
    "        sol = [1 - 1/rhs_Saha_Chen(n,T,Ui)] #for x->1, x²/(1-x)-> 1/(1-x)\n",
    "    if len(sol)==0:\n",
    "        sol = [np.nan]  #If there is no solution, returns a NaN rather than an empty array.\n",
    "    return sol"
   ]
  },
  {
   "cell_type": "markdown",
   "metadata": {
    "heading_collapsed": true,
    "jp-MarkdownHeadingCollapsed": true,
    "tags": []
   },
   "source": [
    "### 2. Examples"
   ]
  },
  {
   "cell_type": "markdown",
   "metadata": {
    "hidden": true
   },
   "source": [
    "#### 2.1. ITER Plasma:"
   ]
  },
  {
   "cell_type": "markdown",
   "metadata": {
    "hidden": true
   },
   "source": [
    "$n \\sim 1 \\cdot 10^{19} \\text{ m}^{-3}$ and $T \\sim 8 \\text{ keV}$, $U_i \\sim 15.6 \\text{ eV (for Deuterium)}$"
   ]
  },
  {
   "cell_type": "code",
   "execution_count": 6,
   "metadata": {
    "hidden": true,
    "scrolled": true
   },
   "outputs": [
    {
     "name": "stdout",
     "output_type": "stream",
     "text": [
      "x = 1\n"
     ]
    }
   ],
   "source": [
    "n = 1e19 #[nb.m^-3]\n",
    "T = 8e3 * sc.electron_volt / sc.k #[K]\n",
    "Ui = 15.5*sc.electron_volt #13.6 eV -> [J], ionisation energy of hydrogen\n",
    "\n",
    "x_i = solve_Saha(n,T,Ui)[0]\n",
    "sciprint(x_i)"
   ]
  },
  {
   "cell_type": "markdown",
   "metadata": {
    "hidden": true
   },
   "source": [
    "#### 2.2. This room:"
   ]
  },
  {
   "cell_type": "markdown",
   "metadata": {
    "hidden": true
   },
   "source": [
    "$n \\sim 3 \\cdot 10^{25} \\text{ m}^{-3}$, $T \\sim 300 \\text{ K}$ and $U_i \\sim 14.5 \\text{ eV}$ (for $N_2$)"
   ]
  },
  {
   "cell_type": "code",
   "execution_count": 7,
   "metadata": {
    "hidden": true
   },
   "outputs": [
    {
     "name": "stdout",
     "output_type": "stream",
     "text": [
      "x = 1e-122\n"
     ]
    }
   ],
   "source": [
    "n = 3e25 #[nb.m^-3]\n",
    "T = 300 #[K]\n",
    "Ui = 14.5*sc.electron_volt #14.5 eV -> [J], ionisation energy of N2\n",
    "\n",
    "x_i = solve_Saha(n,T,Ui)[0]\n",
    "sciprint(x_i)"
   ]
  },
  {
   "cell_type": "markdown",
   "metadata": {
    "hidden": true
   },
   "source": [
    "<span style=\"color:GoldenRod \">\n",
    "Note: This extremely low value of ionisation is unrealistically low, because Saha's equation does not take into account ionisation by cosmic rays which takes the real $n_i / n_n$ ratio closer to $10^{-22}$. That's still not much.\n",
    "</span>"
   ]
  },
  {
   "cell_type": "markdown",
   "metadata": {
    "hidden": true
   },
   "source": [
    "#### 2.3. A wood burning stove:"
   ]
  },
  {
   "cell_type": "markdown",
   "metadata": {
    "hidden": true
   },
   "source": [
    "$n \\sim 3 \\cdot 10^{25} \\text{ m}^{-3}$, $T \\sim 460 \\ ^\\circ\\text{C}$ and $U_i \\sim 14.5 \\text{ eV}$ (for $N_2$)"
   ]
  },
  {
   "cell_type": "code",
   "execution_count": 8,
   "metadata": {
    "hidden": true
   },
   "outputs": [
    {
     "name": "stdout",
     "output_type": "stream",
     "text": [
      "x = 2e-50\n"
     ]
    }
   ],
   "source": [
    "n = 3e25 #[nb.m^-3]\n",
    "T = 460 + 273.15 #[K]\n",
    "Ui = 14.5*sc.electron_volt #14.5 eV -> [J], ionisation energy of N2\n",
    "\n",
    "x_i = solve_Saha(n,T,Ui)[0]\n",
    "sciprint(x_i)"
   ]
  },
  {
   "cell_type": "markdown",
   "metadata": {
    "hidden": true
   },
   "source": [
    "#### 2.4. Lightning"
   ]
  },
  {
   "cell_type": "markdown",
   "metadata": {
    "hidden": true
   },
   "source": [
    "$n \\sim 3 \\cdot 10^{25} \\text{ m}^{-3}$ and $T \\sim 20,000  \\ ^\\circ\\text{C}$, $U_i \\sim 14.5 \\text{ eV}$ (for $N_2$)"
   ]
  },
  {
   "cell_type": "code",
   "execution_count": 9,
   "metadata": {
    "hidden": true
   },
   "outputs": [
    {
     "name": "stdout",
     "output_type": "stream",
     "text": [
      "x = 0.2\n"
     ]
    }
   ],
   "source": [
    "n = 3e25 #[nb.m^-3]\n",
    "T = 20000 #[K]\n",
    "Ui = 14.5*sc.electron_volt #14.5 eV -> [J], ionisation energy of N2\n",
    "\n",
    "x_i = solve_Saha(n,T,Ui)[0]\n",
    "sciprint(x_i)"
   ]
  },
  {
   "cell_type": "markdown",
   "metadata": {
    "heading_collapsed": true,
    "jp-MarkdownHeadingCollapsed": true,
    "tags": []
   },
   "source": [
    "### 3. Plotting x in terms of _T_ "
   ]
  },
  {
   "cell_type": "markdown",
   "metadata": {
    "hidden": true
   },
   "source": [
    "#### 3.1. At atmospheric density"
   ]
  },
  {
   "cell_type": "code",
   "execution_count": 10,
   "metadata": {
    "code_folding": [],
    "hidden": true
   },
   "outputs": [],
   "source": [
    "n = 3e25 #[nb.m^-3]\n",
    "Ui = 14.5*sc.electron_volt #14.5 eV -> [J], ionisation energy of N2\n",
    "\n",
    "Ts = np.logspace(0,7,100)\n",
    "xs = []\n",
    "for j in range(0, len(Ts)):\n",
    "    xs = xs + solve_Saha(n,Ts[j],Ui)"
   ]
  },
  {
   "cell_type": "code",
   "execution_count": 11,
   "metadata": {
    "hidden": true
   },
   "outputs": [
    {
     "data": {
      "image/png": "[encoded data removed]",
      "text/plain": [
       "<Figure size 640x480 with 1 Axes>"
      ]
     },
     "metadata": {},
     "output_type": "display_data"
    }
   ],
   "source": [
    "plt.cla()\n",
    "plt.plot(Ts, xs)\n",
    "\n",
    "plt.xlabel(r'$T$ (K)')\n",
    "plt.semilogx()\n",
    "plt.ylabel('ionisation fraction x')\n",
    "plt.show()"
   ]
  },
  {
   "cell_type": "markdown",
   "metadata": {
    "hidden": true
   },
   "source": [
    "#### 3.2. At other densities"
   ]
  },
  {
   "cell_type": "code",
   "execution_count": 12,
   "metadata": {
    "hidden": true
   },
   "outputs": [
    {
     "data": {
      "image/png": "[encoded data removed]",
      "text/plain": [
       "<Figure size 640x480 with 1 Axes>"
      ]
     },
     "metadata": {},
     "output_type": "display_data"
    }
   ],
   "source": [
    "Ts = np.logspace(0,7,100)\n",
    "Ui = 13.6*sc.electron_volt #Hydrogen. Remember, the usual T-rho diagram is for hydrogen\n",
    "\n",
    "plt.cla()\n",
    "\n",
    "for n in [1e23, 1e24, 1e25, 1e26, 1e27]:\n",
    "    xs = []\n",
    "    for j in range(0, len(Ts)):\n",
    "        xs = xs + solve_Saha(n,Ts[j],Ui)\n",
    "        label = f\"n = {n:0.1g} [m^-3]\"\n",
    "\n",
    "    plt.plot(Ts, xs, label=label)\n",
    "    \n",
    "plt.xlabel(r'$T$ (K)')\n",
    "plt.semilogx()\n",
    "plt.ylabel('ionisation fraction x')\n",
    "plt.legend()\n",
    "plt.show()"
   ]
  },
  {
   "cell_type": "markdown",
   "metadata": {
    "heading_collapsed": true,
    "jp-MarkdownHeadingCollapsed": true,
    "tags": []
   },
   "source": [
    "### 4. Plotting the Saha equation in the Temperature-Density diagram"
   ]
  },
  {
   "cell_type": "markdown",
   "metadata": {
    "hidden": true
   },
   "source": [
    "Let us now assume that $x=1/2$.\n",
    "\n",
    "We can show that the Saha equation becomes:\n",
    "\n",
    "$$ \\frac{n}{2} = 2.4 \\cdot 10^{21} T^{3/2} e^{-U_i/k_B T} $$"
   ]
  },
  {
   "cell_type": "code",
   "execution_count": 13,
   "metadata": {
    "hidden": true
   },
   "outputs": [],
   "source": [
    "Ts = np.logspace(2,10,100)\n",
    "ns = []\n",
    "for T in Ts:\n",
    "    n = 2*2.4e21*T**(3/2)*np.exp(-Ui/(sc.k*T))\n",
    "    ns = ns+[n]\n",
    "    \n",
    "ns = np.array([n if 1e12<n<1e29 else np.nan for n in ns])"
   ]
  },
  {
   "cell_type": "code",
   "execution_count": 14,
   "metadata": {
    "hidden": true
   },
   "outputs": [
    {
     "data": {
      "image/png": "[encoded data removed]",
      "text/plain": [
       "<Figure size 640x480 with 1 Axes>"
      ]
     },
     "metadata": {},
     "output_type": "display_data"
    }
   ],
   "source": [
    "plt.plot(np.log10(ns*sc.m_p*1e-3), np.log10(Ts), color='red', linewidth=3)\n",
    "plt.xlim([-12, 11])\n",
    "plt.ylim([1.8, 11.2])\n",
    "plt.show()"
   ]
  },
  {
   "cell_type": "code",
   "execution_count": 15,
   "metadata": {
    "hidden": true
   },
   "outputs": [
    {
     "data": {
      "image/png": "[encoded data removed]",
      "text/plain": [
       "<Figure size 640x480 with 1 Axes>"
      ]
     },
     "metadata": {},
     "output_type": "display_data"
    }
   ],
   "source": [
    "plt.plot(ns*sc.m_p*1e-3, Ts, color='red', linewidth=3)\n",
    "plt.xlim([0, 0.15])\n",
    "plt.ylim([1e2, 2e5])\n",
    "plt.show()"
   ]
  },
  {
   "cell_type": "markdown",
   "metadata": {
    "heading_collapsed": true,
    "jp-MarkdownHeadingCollapsed": true,
    "tags": []
   },
   "source": [
    "### <span style=\"color:GoldenRod \"> 5. Estimating the average charge </span>"
   ]
  },
  {
   "cell_type": "markdown",
   "metadata": {
    "hidden": true
   },
   "source": [
    "This plasmapy function needs a patch. I am working on it!"
   ]
  },
  {
   "cell_type": "code",
   "execution_count": 19,
   "metadata": {
    "hidden": true
   },
   "outputs": [
    {
     "name": "stdout",
     "output_type": "stream",
     "text": [
      "ITER 140.26535387816983\n",
      "This room nan\n",
      "Flame -0.42655098477739123\n",
      "Lightning 0.3805460624208602\n",
      "Laser/Plasma 14.094832073313064\n"
     ]
    }
   ],
   "source": [
    "import astropy.units as u\n",
    "\n",
    "#e.g. ITER\n",
    "n = 1e19 * u.m ** -3\n",
    "T = 8e3 * u.eV \n",
    "Z_n = 1\n",
    "print('ITER', plasmapy.formulary.ionization.ionization_balance(n, T))\n",
    "\n",
    "#e.g. This room\n",
    "n = 3e25 * u.m ** -3\n",
    "T = 300 *u.K\n",
    "print('This room', plasmapy.formulary.ionization.ionization_balance(n, T))\n",
    "\n",
    "#e.g. A wood burning stove\n",
    "n = 3e25 * u.m ** -3\n",
    "T = (460 + 273.15) * u.K\n",
    "print('Flame', plasmapy.formulary.ionization.ionization_balance(n, T))\n",
    "\n",
    "#e.g. Lightning\n",
    "n = 3e25 * u.m ** -3\n",
    "T = 20000 * u.K\n",
    "print('Lightning', plasmapy.formulary.ionization.ionization_balance(n, T))\n",
    "\n",
    "#e.g. Laser Plasma interaction\n",
    "T = 300 * u.eV\n",
    "n = 2e21 * u.cm ** -3\n",
    "\n",
    "print('Laser/Plasma', plasmapy.formulary.ionization.ionization_balance(n, T))"
   ]
  }
 ],
 "metadata": {
  "kernelspec": {
   "display_name": "Python 3 (ipykernel)",
   "language": "python",
   "name": "python3"
  },
  "language_info": {
   "codemirror_mode": {
    "name": "ipython",
    "version": 3
   },
   "file_extension": ".py",
   "mimetype": "text/x-python",
   "name": "python",
   "nbconvert_exporter": "python",
   "pygments_lexer": "ipython3",
   "version": "3.10.6"
  },
  "varInspector": {
   "cols": {
    "lenName": 16,
    "lenType": 16,
    "lenVar": 40
   },
   "kernels_config": {
    "python": {
     "delete_cmd_postfix": "",
     "delete_cmd_prefix": "del ",
     "library": "var_list.py",
     "varRefreshCmd": "print(var_dic_list())"
    },
    "r": {
     "delete_cmd_postfix": ") ",
     "delete_cmd_prefix": "rm(",
     "library": "var_list.r",
     "varRefreshCmd": "cat(var_dic_list()) "
    }
   },
   "types_to_exclude": [
    "module",
    "function",
    "builtin_function_or_method",
    "instance",
    "_Feature"
   ],
   "window_display": false
  }
 },
 "nbformat": 4,
 "nbformat_minor": 4
}
