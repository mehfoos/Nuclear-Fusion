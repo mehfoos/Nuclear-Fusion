{
 "cells": [
  {
   "cell_type": "markdown",
   "metadata": {
    "slideshow": {
     "slide_type": "slide"
    }
   },
   "source": [
    "# Probability:  a brief introduction"
   ]
  },
  {
   "cell_type": "markdown",
   "metadata": {
    "slideshow": {
     "slide_type": "slide"
    }
   },
   "source": [
    "# Outline\n",
    "\n",
    "1. What is the probability?\n",
    "\n",
    "2. Frequentist view on probability\n",
    "\n",
    "3. Combinatorial calculation\n",
    "\n",
    "4. Bayesian view on probability"
   ]
  },
  {
   "cell_type": "markdown",
   "metadata": {
    "slideshow": {
     "slide_type": "slide"
    }
   },
   "source": [
    "# What is the probability?\n",
    "\n",
    "Probability is the branch of mathematics concerning numerical descriptions of how likely an event is to occur or how likely it is that a proposition is true. The probability of an event is a number between 0 and 1, where, roughly speaking, 0 indicates impossibility of the event and 1 indicates certainty"
   ]
  },
  {
   "cell_type": "markdown",
   "metadata": {
    "slideshow": {
     "slide_type": "slide"
    }
   },
   "source": [
    "# Conditions\n",
    "\n",
    "The mathematical definition of probability states that: for a set of events/outcomes ${E_1, E_2, \\dots E_N}$, the probability of each $P(E)$ is a function ascribed to each event which complies with the following:\n",
    "\n",
    "\n",
    " Positive for all $E$: $P(E) \\ge 0$ for any event $E$.\n",
    "\n",
    "$P(E_1 or E_2) = P(E_1) + P(E_2)$ if $E_1$ and $E_2$ are mutually exclusive.(If either event E1 or event E2 can occur but never both simultaneously, then they are called mutually exclusive events)\n",
    "\n",
    "\n",
    "\n",
    "Normalised: $\\sum_{i=1}^N P(E_i) = 1$ over all mutually exclusive events.\n",
    "\n",
    "Single value\n"
   ]
  },
  {
   "cell_type": "markdown",
   "metadata": {
    "slideshow": {
     "slide_type": "slide"
    }
   },
   "source": [
    "# The frequentist view on probability\n",
    "\n",
    "\n",
    "Repeat an experiment $N$ times and let $N_E$ be the number of times $E$ happens. The probability of $E$ is then defined as:\n",
    "\n",
    "\n",
    "$\\frac{N_E}{N} \\to P(E)\\ \\mathrm{for}\\ N \\to \\infty$\n",
    "\n",
    "\n",
    "This means we cannot define $P$ for a single experiment, but is dependent on the existence of an ensemble of (identical) experiments."
   ]
  },
  {
   "cell_type": "markdown",
   "metadata": {
    "slideshow": {
     "slide_type": "slide"
    }
   },
   "source": [
    "# Definition of probability\n",
    "\n",
    "\n",
    "We define the probability of an event to happen as the ratio of the favourable outcomes of an experiments over all possible outcomes of the experiment\n",
    "\n",
    "$P=\\frac{Favourable-events}{All-events}$\n"
   ]
  },
  {
   "cell_type": "markdown",
   "metadata": {
    "slideshow": {
     "slide_type": "slide"
    }
   },
   "source": [
    "This means we cannot define $P$ for a single experiment, but is dependent on the existence of an ensemble of (identical) experiments. As a consequence we must require:\n",
    "\n",
    "\n",
    "Repeatable experiments:  We cannot (in the frequentist view) meaningfully define: $P$(snow next Christmas); $P$(rain tomorrow); $P$(England winning the 2013 Six Nations); $P$(Big-bang giving rise to the laws of nature we observe today). \n",
    "\n",
    "Unique ensemble:  If the choice of the collective ensemble changes $P(E)$, $P(E)$ is not well-defined. Examples of different ensembles are that of the risk of a driver damaging a car. You will get different values of the probability depending on whether you restrict the ensemble to: students, elderly, men, women in the 40--50 year age-bracket, foreigners, etc. If I belong to three such groups can you get the risk that I crash my car in the next year from any of these sample studies? The answer, strictly speaking, is no . \n",
    "\n",
    "\n",
    "\n",
    "\n",
    "\n"
   ]
  },
  {
   "cell_type": "code",
   "execution_count": 13,
   "metadata": {
    "slideshow": {
     "slide_type": "slide"
    }
   },
   "outputs": [],
   "source": [
    "import random\n",
    "\n",
    "# Example: We have a jar with 3 yellow balls, 2 red, 2 green and 1 blue. \n",
    "#What is the probability to extract yellow?\n",
    "\n",
    "def ballextract():\n",
    "    ball=random.randint(1,8)\n",
    "    if(ball==1):\n",
    "        color=\"yellow\"\n",
    "    if(ball==2):\n",
    "        color=\"yellow\"\n",
    "    if(ball==3):\n",
    "        color=\"yellow\"\n",
    "    if(ball==4):\n",
    "        color=\"red\"\n",
    "    if(ball==5):\n",
    "        color=\"red\"\n",
    "    if(ball==6):\n",
    "        color=\"green\"\n",
    "    if(ball==7):\n",
    "        color=\"green\"\n",
    "    if(ball==8):\n",
    "        color=\"blue\"\n",
    "    \n",
    "    return color;"
   ]
  },
  {
   "cell_type": "code",
   "execution_count": 28,
   "metadata": {
    "slideshow": {
     "slide_type": "slide"
    }
   },
   "outputs": [
    {
     "name": "stdout",
     "output_type": "stream",
     "text": [
      "yellow\n"
     ]
    }
   ],
   "source": [
    "print(ballextract())"
   ]
  },
  {
   "cell_type": "code",
   "execution_count": 29,
   "metadata": {
    "slideshow": {
     "slide_type": "slide"
    }
   },
   "outputs": [],
   "source": [
    "Ntrial=10\n",
    "\n",
    "extract=[]\n",
    "for i in range(Ntrial):\n",
    "    extract.append(ballextract())"
   ]
  },
  {
   "cell_type": "code",
   "execution_count": 31,
   "metadata": {
    "slideshow": {
     "slide_type": "slide"
    }
   },
   "outputs": [
    {
     "name": "stdout",
     "output_type": "stream",
     "text": [
      "['red', 'yellow', 'blue', 'red', 'green', 'green', 'green', 'red', 'yellow', 'yellow']\n"
     ]
    }
   ],
   "source": [
    "print(extract)"
   ]
  },
  {
   "cell_type": "code",
   "execution_count": 33,
   "metadata": {
    "slideshow": {
     "slide_type": "slide"
    }
   },
   "outputs": [
    {
     "name": "stdout",
     "output_type": "stream",
     "text": [
      "Probability of extracting yellow= 0.3\n"
     ]
    }
   ],
   "source": [
    "number_of_yellow=extract.count(\"yellow\")\n",
    "total=Ntrial\n",
    "P=number_of_yellow/total\n",
    "print(\"Probability of extracting yellow=\", P )"
   ]
  },
  {
   "cell_type": "markdown",
   "metadata": {
    "slideshow": {
     "slide_type": "slide"
    }
   },
   "source": [
    "# How fast does it converge?"
   ]
  },
  {
   "cell_type": "code",
   "execution_count": 35,
   "metadata": {
    "slideshow": {
     "slide_type": "slide"
    }
   },
   "outputs": [],
   "source": [
    "Ntrial=10000\n",
    "\n",
    "extract=[]\n",
    "P_part=[]\n",
    "Trial=[]\n",
    "for i in range(Ntrial):\n",
    "    extract.append(ballextract())\n",
    "    number_of_yellow=extract.count(\"yellow\")\n",
    "    total=len(extract)\n",
    "    ratio=number_of_yellow/total\n",
    "    P_part.append(ratio)\n",
    "    Trial.append(i)"
   ]
  },
  {
   "cell_type": "code",
   "execution_count": 45,
   "metadata": {
    "slideshow": {
     "slide_type": "slide"
    }
   },
   "outputs": [
    {
     "data": {
      "image/png": "[encoded data removed]",
      "text/plain": [
       "<Figure size 432x288 with 1 Axes>"
      ]
     },
     "metadata": {
      "needs_background": "light"
     },
     "output_type": "display_data"
    }
   ],
   "source": [
    "%matplotlib inline\n",
    "import matplotlib.pyplot as plt\n",
    "\n",
    "\n",
    "\n",
    "plt.ylabel('Probability')\n",
    "plt.xlabel('Trial')\n",
    "plt.hlines(3.0/8,0,10000, colors='r', linestyles='solid', label='Exact')\n",
    "plt.plot(Trial, P_part, '.', color='black');\n",
    "plt.show()\n"
   ]
  },
  {
   "cell_type": "markdown",
   "metadata": {
    "slideshow": {
     "slide_type": "slide"
    }
   },
   "source": [
    "# Exercise\n",
    "\n",
    " Suppose we have 2 dices and the sum of the faces is 7. What is the probability of 1 face having a \"5\"?"
   ]
  },
  {
   "cell_type": "markdown",
   "metadata": {
    "slideshow": {
     "slide_type": "slide"
    }
   },
   "source": [
    "# Solution\n",
    "\n",
    "The possible combinations giving 7 are: (1,6); (2,5); (3,4); (4,3); (5,2); (6,1). A total of 6 cases.\n",
    "We see that 2 cases have a \"5\" so the probability is \n",
    "\n",
    "$P=\\frac{2}{6}=\\frac{1}{3}$"
   ]
  },
  {
   "cell_type": "markdown",
   "metadata": {
    "slideshow": {
     "slide_type": "slide"
    }
   },
   "source": [
    "# Combinatorial calculation\n",
    "\n",
    "In order to evaluate probabilities we have to learn how to count the number of \"outcomes\" of a given event. A very useful tool is \"combinatorial\" calculation\n",
    "\n",
    "We have 4 cases:\n",
    "(Permutation -> when order matters, Combination -> no order matters)\n",
    "\n",
    "Permutation + No repetition\n",
    "\n",
    "Permutation + Repetition\n",
    "\n",
    "Combination + No repetition\n",
    "\n",
    "Combination + Repetition"
   ]
  },
  {
   "cell_type": "markdown",
   "metadata": {
    "slideshow": {
     "slide_type": "slide"
    }
   },
   "source": [
    "# Permuation\n",
    "\n",
    "an arrangement (sequence) where order matters"
   ]
  },
  {
   "cell_type": "markdown",
   "metadata": {
    "slideshow": {
     "slide_type": "slide"
    }
   },
   "source": [
    "# Permuation with no repetition\n",
    "\n",
    "Given a set of 3 letters $\\{a,b,c\\}$ write ALL possible k=2 permutations without replacement\n",
    "\n",
    "\n",
    "The sequence is \n",
    "\n",
    "$\\{a,b\\} \\; \\{b,a\\} \\;\\{a,c\\} \\; \\{c,a\\} \\;\\{c,b\\} \\; \\{b,c\\}$\n",
    "\n",
    "\n",
    "We can make use a more general formula for\n",
    "\n",
    "\\begin{eqnarray}\n",
    "V_n^{(k)}=\\Pi_{i=0}^{k-1}(n-i)=\\frac{n!}{(n-k)!}\n",
    "\\end{eqnarray}\n",
    "\n",
    "\n",
    "if $k=n$ we have $V_n^{(n)}=n!$\n"
   ]
  },
  {
   "cell_type": "markdown",
   "metadata": {
    "slideshow": {
     "slide_type": "slide"
    }
   },
   "source": [
    "Example:\n",
    "\n",
    "Given 5 people: Arianne,Buster,Corinne,Ronald, Ewe. How many different ways you can seat them in a row?\n",
    "\n",
    "\n",
    "\n"
   ]
  },
  {
   "cell_type": "markdown",
   "metadata": {
    "slideshow": {
     "slide_type": "slide"
    }
   },
   "source": [
    "Example:\n",
    "\n",
    "Given 5 people: Arianne,Buster,Corinne,Ronald, Ewe. How many different ways you can seat them in a row?\n",
    "\n",
    "Answer $V_5^{5}=5!$\n"
   ]
  },
  {
   "cell_type": "markdown",
   "metadata": {
    "slideshow": {
     "slide_type": "slide"
    }
   },
   "source": [
    "Example:\n",
    "\n",
    "Given 5 people: Arianne,Buster,Corinne,Ronald, Ewe. How many different ways you can seat them in a row if we have only 3 chairs?\n"
   ]
  },
  {
   "cell_type": "markdown",
   "metadata": {
    "slideshow": {
     "slide_type": "slide"
    }
   },
   "source": [
    "Example:\n",
    "\n",
    "Given 5 people: Arianne,Buster,Corinne,Ronald, Ewe. How many different ways you can seat them in a row if we have only 3 chairs?\n",
    "\n",
    "Answer: $V_5^{3}=\\frac{5!}{(5-3)!}$"
   ]
  },
  {
   "cell_type": "code",
   "execution_count": 46,
   "metadata": {
    "slideshow": {
     "slide_type": "slide"
    }
   },
   "outputs": [
    {
     "name": "stdout",
     "output_type": "stream",
     "text": [
      "60.0\n"
     ]
    }
   ],
   "source": [
    "import math \n",
    "  \n",
    "V=math.factorial(5)/(math.factorial(5-3))\n",
    "\n",
    "print(V)"
   ]
  },
  {
   "cell_type": "markdown",
   "metadata": {
    "slideshow": {
     "slide_type": "slide"
    }
   },
   "source": [
    "# Permutation with  repetitions\n",
    "\n",
    "I give directly the result without demonstration\n",
    "\n",
    "\n",
    "\\begin{eqnarray}\n",
    "W_n^{(k)}=n^k\n",
    "\\end{eqnarray}\n",
    "\n"
   ]
  },
  {
   "cell_type": "markdown",
   "metadata": {
    "slideshow": {
     "slide_type": "slide"
    }
   },
   "source": [
    "Example: an electric device requires a 4-digit code to operate. How many possible codes exists?\n",
    "Why is this a permutation?"
   ]
  },
  {
   "cell_type": "markdown",
   "metadata": {
    "slideshow": {
     "slide_type": "slide"
    }
   },
   "source": [
    "Example: an electric device requires a 4-digit code to operate. How many possible codes exists?\n",
    "\n",
    "\n",
    "\n",
    "Solution $W_{10}^4=10^4$.\n"
   ]
  },
  {
   "cell_type": "markdown",
   "metadata": {
    "slideshow": {
     "slide_type": "slide"
    }
   },
   "source": [
    "# Combinations with no repetitions\n",
    "\n",
    "We start from an example.\n",
    "Given $z=\\{a,b,c\\}$. How many combinations of 2 letter we can build?\n",
    "Answer: since order does not matter we have $\\{a,b\\}$, $\\{c,b\\}$,$\\{a,c\\}$\n",
    "\n",
    "\n",
    "Or in a more elegant way\n",
    "\n",
    "\n",
    "\\begin{eqnarray}\n",
    "C^{(k)}_n=\\left( \\begin{array}{c}n\\\\k \\end{array}\\right)= \\frac{n!}{(n-k)!k!}\n",
    "\\end{eqnarray}\n",
    "Newtons Binomial"
   ]
  },
  {
   "cell_type": "markdown",
   "metadata": {
    "slideshow": {
     "slide_type": "slide"
    }
   },
   "source": [
    "# Example\n",
    "\n",
    "Let's calculate \n",
    "\n",
    "\\begin{eqnarray}\n",
    "\\left( \\begin{array}{c}10\\\\5 \\end{array}\\right)= \\frac{10!}{(10-5)!5!}\n",
    "\\end{eqnarray}\n",
    "\n"
   ]
  },
  {
   "cell_type": "code",
   "execution_count": 9,
   "metadata": {
    "slideshow": {
     "slide_type": "slide"
    }
   },
   "outputs": [
    {
     "name": "stdout",
     "output_type": "stream",
     "text": [
      "Newton binomial= 252.0\n"
     ]
    }
   ],
   "source": [
    "# Numerically with Python we do  \n",
    "\n",
    "\n",
    "import scipy.special\n",
    "\n",
    "# the two give the same results \n",
    "print(\"Newton binomial=\", scipy.special.binom(10, 5))\n",
    "\n",
    "\n"
   ]
  },
  {
   "cell_type": "markdown",
   "metadata": {
    "slideshow": {
     "slide_type": "slide"
    }
   },
   "source": [
    "Example: a lottery works by selecting 6 numbers out of a sequence 100 numbers (1,2,..3....99).\n",
    "How many combinations you have with no repetition?\n"
   ]
  },
  {
   "cell_type": "markdown",
   "metadata": {
    "slideshow": {
     "slide_type": "slide"
    }
   },
   "source": [
    "Example: a lottery works by selecting 6 numbers out of a sequence 100 numbers (1,2,..3....99).\n",
    "How many combinations you have with no repetition?\n",
    "\n",
    "Answer \n",
    "\n",
    "\\begin{eqnarray}\n",
    "C_{100}^6=\\frac{100!}{94! 6!}\\approx10^9\n",
    "\\end{eqnarray}"
   ]
  },
  {
   "cell_type": "markdown",
   "metadata": {
    "slideshow": {
     "slide_type": "slide"
    }
   },
   "source": [
    "# Combinations with  repetition\n",
    "\n",
    "We start from an example.\n",
    "Given $z=\\{a,b,c\\}$. How many combinations of 2 letter with replacement we can build?\n",
    "Answer: we have $\\{a,b\\}$, $\\{c,b\\}$,$\\{a,c\\}$,$\\{a,a\\}$, $\\{b,b\\}$,$\\{c,c\\}$\n",
    "\n",
    "\n",
    "Or\n",
    "\n",
    "\\begin{eqnarray}\n",
    "C_n^{(k)}=\\left(\\begin{array}{c}n+k-1\\\\k \\end{array}\\right)= \\frac{n+k-1!}{(n-1)!k!}\n",
    "\\end{eqnarray}\n"
   ]
  },
  {
   "cell_type": "markdown",
   "metadata": {
    "slideshow": {
     "slide_type": "slide"
    }
   },
   "source": [
    "# Bayesian view on probability"
   ]
  },
  {
   "cell_type": "markdown",
   "metadata": {
    "slideshow": {
     "slide_type": "slide"
    }
   },
   "source": [
    "Bayesian statistics is a particular approach to applying probability to statistical problems. It provides us with mathematical tools to update our beliefs about random events in light of seeing new data or evidence about those events.\n",
    "\n",
    "In particular Bayesian inference interprets probability as a measure of believability or confidence that an individual may possess about the occurance of a particular event.\n",
    "\n",
    "We may have a prior belief about an event, but our beliefs are likely to change when new evidence is brought to light. Bayesian statistics gives us a solid mathematical means of incorporating our prior beliefs, and evidence, to produce new posterior beliefs."
   ]
  },
  {
   "cell_type": "markdown",
   "metadata": {
    "slideshow": {
     "slide_type": "slide"
    }
   },
   "source": [
    "### Bayesian statistics provides us with mathematical tools to rationally update our subjective beliefs in light of new data or evidence.\n",
    "\n"
   ]
  },
  {
   "cell_type": "markdown",
   "metadata": {
    "slideshow": {
     "slide_type": "slide"
    }
   },
   "source": [
    "### Frequentist statistics tries to eliminate uncertainty by providing estimates. Bayesian statistics tries to preserve and refine uncertainty by adjusting individual beliefs in light of new evidence."
   ]
  },
  {
   "cell_type": "markdown",
   "metadata": {
    "slideshow": {
     "slide_type": "slide"
    }
   },
   "source": [
    "# Bayesian view on probability\n",
    "\n",
    "We define conditional probability, the probability of event A happens given B $P(A|B)$.\n",
    "\n",
    "\n",
    "The Bayes theorem states\n",
    "\n",
    "\n",
    "\\begin{eqnarray}\n",
    "P(A|B) P(B)= P(A \\&B)=P(B|A)P(A)\n",
    "\\end{eqnarray}\n",
    "\n",
    "or in a more convenient way\n",
    "\n",
    "\\begin{eqnarray}\n",
    "P(B|A)=\\frac{P(A|B) P(B)}{P(A)}\n",
    "\\end{eqnarray}"
   ]
  },
  {
   "cell_type": "markdown",
   "metadata": {
    "slideshow": {
     "slide_type": "slide"
    }
   },
   "source": [
    "\n",
    "\\begin{eqnarray}\n",
    "P(theory|results)=\\frac{P(results|theory) P(theory)}{P(results)}\n",
    "\\end{eqnarray}\n",
    "\n",
    "#### If an observed results is forbitten by $theory$ then $P(results|theory)$, which means $P(theory|results)$.\n",
    "#### If $P(results|theory)$  is high, then $P(theory|results)$ is high but te,pered by  $P(results)$ (if s results is likely to happen for other resons and not because of the theory."
   ]
  },
  {
   "cell_type": "markdown",
   "metadata": {
    "slideshow": {
     "slide_type": "slide"
    }
   },
   "source": [
    "# Analysis of the Monty-Hall problem\n",
    "\n",
    "\n",
    "Though Bayesian analysis is also known in some areas of physics, most usage of the method has been in other fields. As a simple example of the methodology,  let us consider the Monty Hall problem, in which the participant of a show is offered the chance of winning either a car or a goat. These are hidden behind three doors (say a red, a green, and a blue), two hiding a goat and one a car. The show then goes as follows: the participant chooses a door, after which the host (knowing where the goats are) opens one of the other two (naturally not one that hides the car). Following this, the participant is again offered whether to stick to the original choice or change to the other unopened door.\n",
    "\n"
   ]
  },
  {
   "cell_type": "markdown",
   "metadata": {
    "slideshow": {
     "slide_type": "slide"
    }
   },
   "source": [
    "The Monty Hall problem is in essence a problem of evaluating probabilities as they change with the information available, i.e. conditional probabilities as they develop throughout the show. For a Bayesian analysis of the problem, let us denote by $A_r$, $A_g$, and $A_b$ the events where the red, green, and blue door hides the car (as opposed to a goat). This clearly means\n",
    "\n",
    "$P(A_r) = P(A_g) = P(A_b) = \\frac{1}{3}$ (A for Actual)\n",
    "\n",
    "because of symmetry of the system. \n",
    "\n",
    "\n"
   ]
  },
  {
   "cell_type": "markdown",
   "metadata": {
    "slideshow": {
     "slide_type": "slide"
    }
   },
   "source": [
    "Let then similarly $C_r$, $C_g$, and $C_b$ denote the choice of the participant of one of the three doors. As the choice in itself does not yield any additional information about the system, the conditional probabilities, given for example the choice $C_r$, are still:\n",
    "\n",
    "\n",
    "$P(A_r|C_r) = P(A_g|C_r) = P(A_b|C_r) = \\frac{1}{3}.$ (C for Choice)\n",
    "\n",
    "\n",
    "However, when the host subsequently opens one of the other two doors (say the green door), should the participant change his/her choice?\n"
   ]
  },
  {
   "cell_type": "markdown",
   "metadata": {
    "slideshow": {
     "slide_type": "slide"
    }
   },
   "source": [
    "\n",
    "We could, naively, think that the probabilities now must be:\n",
    "\n",
    "\n",
    "$P(A_r|H_g) = P(A_b|H_g) = \\frac{1}{2},$\n",
    "\n",
    "\n",
    "and that it therefore is irrelevant whether the participant changes his/her choice, since the probabilities are anyway 50:50. "
   ]
  },
  {
   "cell_type": "markdown",
   "metadata": {
    "slideshow": {
     "slide_type": "slide"
    }
   },
   "source": [
    "Bayes' theorem stated that:\n",
    "\n",
    "\n",
    "$P(A|B)P(B) = P(B|A)P(A).$\n",
    "\n",
    "\n",
    "Furthermore, it doesn't change anything in the Bayesian analysis that all of these might be calculated under a common condition, i.e.\\ we also have:\n",
    "\n",
    "$P(A|B,C)P(B|C) = P(B|A,C)P(A|C).$\n",
    "\n"
   ]
  },
  {
   "cell_type": "markdown",
   "metadata": {
    "slideshow": {
     "slide_type": "slide"
    }
   },
   "source": [
    "For the present example, this means:\n",
    "\n",
    "$P(A_r|H_g,C_r) \\cdot P(H_g|C_r) = P(H_g|A_r,C_r) \\cdot P(A_r|C_r),$\n",
    "\n",
    "such that:\n",
    "$P(A_r|H_g,C_r) = \\frac{P(H_g|A_r,C_r) \\cdot P(A_r|C_r)}{P(H_g|C_r)} = \\frac{\\frac{1}{2}\\cdot\\frac{1}{3}}{\\frac{1}{2}} = \\frac{1}{3}.$\n",
    "\n",
    "\n"
   ]
  },
  {
   "cell_type": "markdown",
   "metadata": {
    "slideshow": {
     "slide_type": "slide"
    }
   },
   "source": [
    "\n",
    "Similarly, the probability for the car to be behind the blue door is:\n",
    "$P(A_b|H_g,C_r) = \\frac{P(H_g|A_b,C_r) \\cdot P(A_b|C_r)}{P(H_g|C_r)} = \\frac{1\\cdot\\frac{1}{3}}{\\frac{1}{2}} = \\frac{2}{3}$\n",
    "since the host will certainly would open the green door if the car was to be behind the blue, that is: $P(H_g|A_b,C_r) = 1$. "
   ]
  },
  {
   "cell_type": "markdown",
   "metadata": {
    "slideshow": {
     "slide_type": "slide"
    }
   },
   "source": [
    "\n",
    "Likewise, we can evaluate the probability of the car being behind the green door even without looking, since the host would not open the green door if the car was behind that door:\n",
    "\n",
    "$P(A_g|H_g,C_r) = \\frac{P(H_g|A_g,C_r) \\cdot P(A_g|C_r)}{P(H_g|C_r)} = \\frac{0\\cdot\\frac{1}{3}}{\\frac{1}{2}} = 0.$\n",
    "We can therefore conclude that the participant can double his/her chances for winning the car by taking the other closed door, from a probability of $\\frac{1}{3}$ to a probability of $\\frac{2}{3}$."
   ]
  },
  {
   "cell_type": "code",
   "execution_count": 3,
   "metadata": {
    "slideshow": {
     "slide_type": "slide"
    }
   },
   "outputs": [],
   "source": [
    "import random\n",
    "def run_trial(switch_doors, ndoors=3):\n",
    "    #Run a single trial of the Monty Hall problem, with or without switching\n",
    "    #after the gameshow host reveals a goat behind one of the unchosen doors.\n",
    "    #(switch_doors is True or False). The car is behind door number 1 and the\n",
    "    #gameshow host knows that.\n",
    "    chosen_door = random.randint(1, ndoors)# Pick a random door out of the ndoors available\n",
    "    if switch_doors:\n",
    "        # Reveal a goat\n",
    "        revealed_door = 3 if chosen_door==2 else 2\n",
    "        # Make the switch by choosing any other door than the initially-\n",
    "        # selected one and the one just opened to reveal a goat. \n",
    "        available_doors = [dnum for dnum in range(1,ndoors+1)\n",
    "                                if dnum not in (chosen_door, revealed_door)]\n",
    "        chosen_door = random.choice(available_doors)\n",
    "    # You win if you picked door number 1 (true or false)\n",
    "    return chosen_door == 1\n",
    "def run_trials(ntrials, switch_doors, ndoors=3):\n",
    "    # Run ntrials iterations of the Monty Hall problem with ndoors doors, with\n",
    "    # and without switching (switch_doors = True or False). Returns the number\n",
    "    # of trials which resulted in winning the car by picking door number 1.\n",
    "    nwins = 0\n",
    "    for i in range(ntrials):\n",
    "        if run_trial(switch_doors, ndoors):\n",
    "            nwins += 1\n",
    "    return nwins"
   ]
  },
  {
   "cell_type": "code",
   "execution_count": 7,
   "metadata": {
    "slideshow": {
     "slide_type": "slide"
    }
   },
   "outputs": [
    {
     "name": "stdout",
     "output_type": "stream",
     "text": [
      "Monty Hall Problem with 3 doors\n",
      "Proportion of wins without switching: 0.3670\n",
      "Proportion of wins with switching: 0.6260\n"
     ]
    }
   ],
   "source": [
    "\n",
    "ndoors, ntrials = 3, 1000\n",
    "nwins_without_switch = run_trials(ntrials, False, ndoors)\n",
    "nwins_with_switch = run_trials(ntrials, True, ndoors)\n",
    "\n",
    "print('Monty Hall Problem with {} doors'.format(ndoors))\n",
    "print('Proportion of wins without switching: {:.4f}'\n",
    "            .format(nwins_without_switch/ntrials))\n",
    "print('Proportion of wins with switching: {:.4f}'\n",
    "            .format(nwins_with_switch/ntrials))"
   ]
  },
  {
   "cell_type": "markdown",
   "metadata": {
    "slideshow": {
     "slide_type": "slide"
    }
   },
   "source": [
    "<img src=\"./BayesVsFreq.png\" width=800 height=600 />\n"
   ]
  },
  {
   "cell_type": "markdown",
   "metadata": {
    "slideshow": {
     "slide_type": "slide"
    }
   },
   "source": [
    "# Example:drug test\n",
    "\n",
    "Suppose we have a drug test with 99\\% reliability.\n",
    "This means 99 positive tests out 100 on actual drug users and 99 negative tests (out of 100) on non drug users.\n",
    "Let assume the probability of randomly selecting one person to be a drug user is P(User)=0.5%.\n",
    "\n",
    "What is the probability of having a drug user in case of positive test? $P(User|+)$\n"
   ]
  },
  {
   "cell_type": "markdown",
   "metadata": {
    "slideshow": {
     "slide_type": "slide"
    }
   },
   "source": [
    "\\begin{eqnarray*}\n",
    "P(User|+)&=&\\frac{P(+|User)P(User)}{P(+)}\\\\\n",
    "&=&\\frac{P(+|User)P(User)}{P(+|User)P(User)+P(+|Non-User)P(Non-User)}\\\\\n",
    "\\end{eqnarray*}\n"
   ]
  },
  {
   "cell_type": "markdown",
   "metadata": {
    "slideshow": {
     "slide_type": "slide"
    }
   },
   "source": [
    "We put the numbers in\n",
    "\n",
    "P(+|User)=0.99\n",
    "\n",
    "P(User)=0.005\n",
    "\n",
    "P(+|Non-user)=0.01\n",
    "\n",
    "P(Non-User)=0.995"
   ]
  },
  {
   "cell_type": "markdown",
   "metadata": {
    "slideshow": {
     "slide_type": "slide"
    }
   },
   "source": [
    "\n",
    "\\begin{eqnarray*}\n",
    "P(User|+)&=&\\frac{P(+|User)P(User)}{P(+)}\\\\\n",
    "&=&\\frac{P(+|User)P(User)}{P(+|User)P(User)+P(+|Non-User)P(Non-User)}\\\\\n",
    "&=&\\frac{0.99\\times0.005}{0.99\\times0.005+0.01\\times0.995}\\approx33\\%\n",
    "\\end{eqnarray*}"
   ]
  },
  {
   "cell_type": "markdown",
   "metadata": {
    "slideshow": {
     "slide_type": "slide"
    }
   },
   "source": [
    "#### Can we visualise this differently? \n",
    "##### Assume a population of 1 mil. From this population $P(User)=0.005$ then $N(user)=5000$ and $N(!user)=995000$.\n",
    "##### If I were to test the full population (lets separate users and non users): \n",
    "\\begin{eqnarray}\n",
    "N(true~neg)&=&0.99\\cdot N(!user)=958050\\\\\n",
    "N(false~pos)&=&0.01\\cdot N(!user)=9950\\\\\n",
    "N(true~pos)&=&0.99\\cdot N(user)= 4950\\\\\n",
    "N(false~neg)&=&0.01\\cdot N(user)= 50\n",
    "\\end{eqnarray}\n",
    "##### Then the probability of a user given positive test $\\frac{N(true~pos)}{N(true~pos)+N(false~pos)}=0.33$\n"
   ]
  },
  {
   "cell_type": "markdown",
   "metadata": {
    "slideshow": {
     "slide_type": "slide"
    }
   },
   "source": [
    "### What happens if we do another test?"
   ]
  },
  {
   "cell_type": "markdown",
   "metadata": {
    "slideshow": {
     "slide_type": "slide"
    }
   },
   "source": [
    "Prior is now $P(User)=0.33$\n",
    "\\begin{eqnarray*}\n",
    "P(User|+)&=&\\frac{P(+|User)P(User)}{P(+)}\\\\\n",
    "&=&\\frac{P(+|User)P(User)}{P(+|User)P(User)+P(+|Non-User)P(Non-User)}\\\\\n",
    "&=&\\frac{0.99\\times0.33}{0.99\\times0.33+0.01\\times0.67}\\approx98\\%\n",
    "\\end{eqnarray*}"
   ]
  },
  {
   "cell_type": "markdown",
   "metadata": {
    "slideshow": {
     "slide_type": "slide"
    }
   },
   "source": [
    "# Great web example to visualise Bayes Theorem and Bayes Inference\n",
    "https://seeing-theory.brown.edu/bayesian-inference/index.html"
   ]
  },
  {
   "cell_type": "markdown",
   "metadata": {
    "slideshow": {
     "slide_type": "slide"
    }
   },
   "source": [
    "# Exercise: lamp test\n",
    "\n",
    "\n",
    "A desk lamp was found to be defective (D). Knowing that there are 3 factories:A,B,C that produce that lamp with following data\n",
    "\n",
    "\n",
    "\n",
    "If a randomly selected lamp has a defect, which is the probability of being produced in C?\n"
   ]
  },
  {
   "cell_type": "code",
   "execution_count": 9,
   "metadata": {
    "slideshow": {
     "slide_type": "slide"
    }
   },
   "outputs": [
    {
     "data": {
      "text/html": [
       "<div>\n",
       "<style scoped>\n",
       "    .dataframe tbody tr th:only-of-type {\n",
       "        vertical-align: middle;\n",
       "    }\n",
       "\n",
       "    .dataframe tbody tr th {\n",
       "        vertical-align: top;\n",
       "    }\n",
       "\n",
       "    .dataframe thead th {\n",
       "        text-align: right;\n",
       "    }\n",
       "</style>\n",
       "<table border=\"1\" class=\"dataframe\">\n",
       "  <thead>\n",
       "    <tr style=\"text-align: right;\">\n",
       "      <th></th>\n",
       "      <th>Factory</th>\n",
       "      <th>% of lamp produced</th>\n",
       "      <th>% defects</th>\n",
       "    </tr>\n",
       "  </thead>\n",
       "  <tbody>\n",
       "    <tr>\n",
       "      <th>0</th>\n",
       "      <td>A</td>\n",
       "      <td>0.35</td>\n",
       "      <td>0.015</td>\n",
       "    </tr>\n",
       "    <tr>\n",
       "      <th>1</th>\n",
       "      <td>B</td>\n",
       "      <td>0.35</td>\n",
       "      <td>0.010</td>\n",
       "    </tr>\n",
       "    <tr>\n",
       "      <th>2</th>\n",
       "      <td>C</td>\n",
       "      <td>0.30</td>\n",
       "      <td>0.020</td>\n",
       "    </tr>\n",
       "  </tbody>\n",
       "</table>\n",
       "</div>"
      ],
      "text/plain": [
       "  Factory  % of lamp produced  % defects\n",
       "0       A                0.35      0.015\n",
       "1       B                0.35      0.010\n",
       "2       C                0.30      0.020"
      ]
     },
     "execution_count": 9,
     "metadata": {},
     "output_type": "execute_result"
    }
   ],
   "source": [
    "import pandas as pd\n",
    "\n",
    "data = [['A', 0.35,0.015], ['B', 0.35,0.01],['C', 0.3,0.02]]\n",
    "\n",
    "pd.DataFrame(data, columns=[\"Factory\", \"% of lamp produced\", \"% defects\"])"
   ]
  },
  {
   "cell_type": "code",
   "execution_count": null,
   "metadata": {},
   "outputs": [],
   "source": []
  }
 ],
 "metadata": {
  "celltoolbar": "Slideshow",
  "kernelspec": {
   "display_name": "Python 3 (ipykernel)",
   "language": "python",
   "name": "python3"
  },
  "language_info": {
   "codemirror_mode": {
    "name": "ipython",
    "version": 3
   },
   "file_extension": ".py",
   "mimetype": "text/x-python",
   "name": "python",
   "nbconvert_exporter": "python",
   "pygments_lexer": "ipython3",
   "version": "3.9.7"
  },
  "varInspector": {
   "cols": {
    "lenName": 16,
    "lenType": 16,
    "lenVar": 40
   },
   "kernels_config": {
    "python": {
     "delete_cmd_postfix": "",
     "delete_cmd_prefix": "del ",
     "library": "var_list.py",
     "varRefreshCmd": "print(var_dic_list())"
    },
    "r": {
     "delete_cmd_postfix": ") ",
     "delete_cmd_prefix": "rm(",
     "library": "var_list.r",
     "varRefreshCmd": "cat(var_dic_list()) "
    }
   },
   "types_to_exclude": [
    "module",
    "function",
    "builtin_function_or_method",
    "instance",
    "_Feature"
   ],
   "window_display": false
  }
 },
 "nbformat": 4,
 "nbformat_minor": 2
}
