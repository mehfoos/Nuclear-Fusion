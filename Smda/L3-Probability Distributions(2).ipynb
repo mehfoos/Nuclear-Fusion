{
 "cells": [
  {
   "cell_type": "markdown",
   "metadata": {
    "slideshow": {
     "slide_type": "slide"
    }
   },
   "source": [
    "# Probability Distributions"
   ]
  },
  {
   "cell_type": "markdown",
   "metadata": {
    "slideshow": {
     "slide_type": "slide"
    }
   },
   "source": [
    "# Outline\n",
    "\n",
    "1. Introduction\n",
    "\n",
    "2. What is a PDF?\n",
    "\n",
    "3. Famous distributions"
   ]
  },
  {
   "cell_type": "markdown",
   "metadata": {
    "slideshow": {
     "slide_type": "slide"
    }
   },
   "source": [
    "Let's consider now an experiment that has some discrete outcomes $A_j$ with $j=1,2,\\dots$ and $P(A_j)$.\n",
    "We should respect the laws of probability\n",
    "\n",
    "The probability is always a positive number\n",
    "\n",
    "\\begin{equation}\n",
    "P(A_j) \\ge 0 \\;\\; \\forall \\;\\; A_j|\n",
    "\\end{equation}\n",
    "\n",
    " The probability is normalised\n",
    "\n",
    "\\begin{equation}\n",
    "\\sum_jP(A_j) =1\n",
    "\\end{equation}\n",
    "\n"
   ]
  },
  {
   "cell_type": "markdown",
   "metadata": {
    "slideshow": {
     "slide_type": "slide"
    }
   },
   "source": [
    "We now consider the outcome of an experiment of a measurement that is not an integer. Let $x$ be any real number, we define a probability distribution $f(x)$ a function having the following properties\n",
    "\n",
    "\n",
    "\\begin{eqnarray}\n",
    "f(x) &\\ge&0\\\\\n",
    "\\int dx f(x)&=&1\\\\\n",
    "P(a\\le x\\le b)&=&\\int_a^b f(x)dx\n",
    "\\end{eqnarray}\n",
    "\n",
    "Since we deal with continuous functions most of the time we need to define the probability in a range. $f(x)$ is called probability density function (PDF).\n"
   ]
  },
  {
   "cell_type": "markdown",
   "metadata": {
    "slideshow": {
     "slide_type": "slide"
    }
   },
   "source": [
    "### Lest start with a simple example\n",
    "#### What is the probability distribution of obtaining heads after 4 coin flips (assuming a fair coin)?\n",
    "We need to calculate the probabilities for each outcome:\n",
    "1. $P(head=0;4~throws)=P(TTTT)=P(!h)P(!h)P(!h)P(!h)=\\frac{1}{16}$\n",
    "2. $P(head=1;4~throws)=P(HTTT)+P(THTT)+P(TTHT)+P(TTTH)=\\frac{4}{16}$\n",
    "3. $P(head=2;4~throws)=P(HHTT)+P(THHT)+P(TTHH)+P(HTHT)+P(THTH)+P(HTTH)=\\frac{6}{16}$\n",
    "4. $P(head=3;4~throws)=P(head=1;4~throws)=\\frac{4}{16}$\n",
    "5. $P(head=4;4~throws)=P(head=0;4~throws)=\\frac{1}{16}$"
   ]
  },
  {
   "cell_type": "markdown",
   "metadata": {
    "slideshow": {
     "slide_type": "slide"
    }
   },
   "source": [
    "# Example\n",
    "\n",
    "Consider the function\n",
    "\n",
    "\n",
    "\\begin{eqnarray}\n",
    "f(x)=\\left\\{ \\begin{array}{cc}\n",
    "0 & x < 0 \\\\\n",
    "a\\exp(-ax)& x\\ge0\\end{array}\\right.\n",
    "\\end{eqnarray}\n",
    "\n",
    "\n",
    "Can we build a probability densfity function (PDF) out of it?\n"
   ]
  },
  {
   "cell_type": "code",
   "execution_count": 1,
   "metadata": {
    "slideshow": {
     "slide_type": "skip"
    }
   },
   "outputs": [],
   "source": [
    "%matplotlib inline\n",
    "import matplotlib.pyplot as plt\n",
    "import numpy as np"
   ]
  },
  {
   "cell_type": "code",
   "execution_count": 61,
   "metadata": {
    "slideshow": {
     "slide_type": "slide"
    }
   },
   "outputs": [
    {
     "data": {
      "image/png": "[encoded data removed]",
      "text/plain": [
       "<Figure size 432x288 with 1 Axes>"
      ]
     },
     "metadata": {
      "needs_background": "light"
     },
     "output_type": "display_data"
    }
   ],
   "source": [
    "def func(x,a):\n",
    "    res=a*np.exp(-a*x)\n",
    "    return res;\n",
    "    \n",
    "x = np.linspace(0, 10, 300)\n",
    "y = func(x,1)\n",
    "y2 = func(x,2)\n",
    "plt.title('PDF')\n",
    "plt.xlabel('x')\n",
    "plt.ylabel('f')\n",
    "plt.plot(x, y, '-', color='red'); \n",
    "plt.plot(x, y2, 'o', color='green'); \n",
    "plt.show()"
   ]
  },
  {
   "cell_type": "markdown",
   "metadata": {
    "slideshow": {
     "slide_type": "slide"
    }
   },
   "source": [
    "### We notice that:\n",
    "\n",
    "\n",
    "It is single valued\n",
    "\n",
    "\n",
    "it is positive everywhere\n",
    "\n",
    "\n",
    " it is normalised\n",
    "\n",
    "\n",
    "\\begin{eqnarray}\n",
    "\\int_{-\\infty}^{\\infty} f(x)dx&=&\\int_0^{\\infty} a \\exp(-ax)dx=\\left. -exp(-ax)\\right|_0^{\\infty}=1\n",
    "\\end{eqnarray}\n",
    "\n",
    "\n",
    "So it is a PDF!!\n",
    "#### Note that the PDF doesnt have to be below 1.0"
   ]
  },
  {
   "cell_type": "markdown",
   "metadata": {
    "slideshow": {
     "slide_type": "slide"
    }
   },
   "source": [
    "From PDF we can calculate a probability.\n",
    "\n",
    "\n",
    "\\begin{eqnarray}\n",
    "\\int_{x_a}^{x_b} f(x)dx&=&\\int_{x_a}^{x_b} a \\exp(-ax)dx\\\\\n",
    "&=&\\exp(-ax_a)-\\exp(-ax_b)\n",
    "\\end{eqnarray}\n",
    "\n",
    "\n",
    "Notice that the PDF in a point x can have a value greater than 1. What matters is that the interval is < 1"
   ]
  },
  {
   "cell_type": "markdown",
   "metadata": {
    "slideshow": {
     "slide_type": "slide"
    }
   },
   "source": [
    "# CDF\n",
    "\n",
    "We define a cumulative probability distribution (CDF) as\n",
    "\n",
    "\n",
    "\\begin{eqnarray}\n",
    "F(x)=\\int_{-\\infty}^{x} f(y)dy\n",
    "\\end{eqnarray}\n"
   ]
  },
  {
   "cell_type": "code",
   "execution_count": 63,
   "metadata": {
    "slideshow": {
     "slide_type": "slide"
    }
   },
   "outputs": [
    {
     "data": {
      "text/latex": [
       "$\\displaystyle - e^{- a x}$"
      ],
      "text/plain": [
       "-exp(-a*x)"
      ]
     },
     "execution_count": 63,
     "metadata": {},
     "output_type": "execute_result"
    }
   ],
   "source": [
    "from sympy import integrate\n",
    "from sympy import symbols\n",
    "from sympy import exp\n",
    "\n",
    "x,a = symbols('x, a')\n",
    "integrate(a*exp(-a*x),x)"
   ]
  },
  {
   "cell_type": "code",
   "execution_count": 65,
   "metadata": {
    "slideshow": {
     "slide_type": "slide"
    }
   },
   "outputs": [
    {
     "data": {
      "image/png": "[encoded data removed]",
      "text/plain": [
       "<Figure size 432x288 with 1 Axes>"
      ]
     },
     "metadata": {
      "needs_background": "light"
     },
     "output_type": "display_data"
    }
   ],
   "source": [
    "a=1\n",
    "def cdf(x):\n",
    "    res=1-a*np.exp(-a*x)\n",
    "    return res;\n",
    "    \n",
    "x = np.linspace(0, 10, 30)\n",
    "y = cdf(x)\n",
    "plt.title('CDF')\n",
    "plt.xlabel('x')\n",
    "plt.ylabel('f=Prob(X<x)')\n",
    "plt.plot(x, y, '-', color='red'); "
   ]
  },
  {
   "cell_type": "markdown",
   "metadata": {
    "slideshow": {
     "slide_type": "slide"
    }
   },
   "source": [
    "### To characterise the distribution, we can define the moments as\n",
    "\n",
    "\\begin{eqnarray}\n",
    "M_m=\\int_{-\\infty}^{\\infty} x^mf(x)dx=\\langle x^m \\rangle\n",
    "\\end{eqnarray}\n",
    "\n",
    "#### The $M_0$ moment is just the normalisation \n",
    "\n",
    "\\begin{eqnarray}\n",
    "M_0=\\int_{-\\infty}^{\\infty} x^0f(x)dx=1\n",
    "\\end{eqnarray}\n",
    "\n",
    "#### The $M_1$ is the mean\n",
    "\n",
    "\\begin{eqnarray}\n",
    "M_1=\\int_{-\\infty}^{\\infty} x^1f(x)dx\n",
    "\\end{eqnarray}\n"
   ]
  },
  {
   "cell_type": "markdown",
   "metadata": {
    "slideshow": {
     "slide_type": "slide"
    }
   },
   "source": [
    "### There is an obvious parallel between expectation values and a mean of a data sample:\n",
    "$\\lim_{N\\to\\infty}{\\overline{f}}\\to \\langle f\\rangle$"
   ]
  },
  {
   "cell_type": "markdown",
   "metadata": {
    "slideshow": {
     "slide_type": "slide"
    }
   },
   "source": [
    "### The variance of a distribution can be calculated as\n",
    "\n",
    "\n",
    "\\begin{eqnarray}\n",
    "\\sigma^2&=&\\langle (x-\\langle x \\rangle)^2\\rangle\\\\\n",
    "&=&\\langle x^2-2x\\langle x \\rangle +\\langle x \\rangle^2\\rangle\\\\\n",
    "&=&\\langle x^2 \\rangle -2\\langle x \\rangle \\langle x \\rangle+\\langle x \\rangle^2\\\\\n",
    "&=&M_2-2\\langle x \\rangle^2+\\langle x \\rangle^2\\\\\n",
    "&=&M_2-M_1^2\n",
    "\\end{eqnarray}\n",
    "\n"
   ]
  },
  {
   "cell_type": "markdown",
   "metadata": {
    "slideshow": {
     "slide_type": "slide"
    }
   },
   "source": [
    "# Famous distributions\n",
    "\n",
    "We have different probability distributions, but the most know/used are\n",
    "\n",
    "\n",
    "1. Binomial distribution (discrete)\n",
    "\n",
    "2. Poisson distribution (discrete)\n",
    "\n",
    "3.  Gaussian distribution (continuos)\n",
    "\n",
    "4. Student's t distribution (continuous)\n",
    "\n",
    "\n",
    "other distributions exist, but they are less interesting for us."
   ]
  },
  {
   "cell_type": "markdown",
   "metadata": {
    "slideshow": {
     "slide_type": "slide"
    }
   },
   "source": [
    "# Binomial distribution\n",
    "\n",
    "It is used to describe process with a given number of identical trials with two possible outcomes that we define as\n",
    "\n",
    "\n",
    "1.  $p$: success probability\n",
    "\n",
    "\n",
    "2.  $1-p$ failure probability\n",
    "\n",
    "\n",
    "This is the distribution to describe the outcome of tossing a coin for example\n",
    "\n",
    "\n",
    "The probability distribution of having a number of success events $r$ out of $n$ trials is given by\n",
    "\n",
    "\\begin{eqnarray}\n",
    "P_B(r;p,n)  =  p^r(1-p)^{n-r}\\frac{n!}{r!(n-r)!}.\n",
    "\\end{eqnarray}"
   ]
  },
  {
   "cell_type": "code",
   "execution_count": 68,
   "metadata": {
    "slideshow": {
     "slide_type": "slide"
    }
   },
   "outputs": [
    {
     "data": {
      "image/png": "[encoded data removed]",
      "text/plain": [
       "<Figure size 432x288 with 1 Axes>"
      ]
     },
     "metadata": {
      "needs_background": "light"
     },
     "output_type": "display_data"
    }
   ],
   "source": [
    "from scipy.stats import binom\n",
    "import matplotlib.pyplot as plt\n",
    "# setting the values\n",
    "# of n and p\n",
    "n = 10\n",
    "p = 0.5\n",
    "# defining list of r values\n",
    "r_values = list(range(n + 1))\n",
    "# list of pmf values\n",
    "dist = [binom.pmf(r, n, p) for r in r_values ]\n",
    "# plotting the graph\n",
    "plt.bar(r_values, dist)\n",
    "plt.show()\n"
   ]
  },
  {
   "cell_type": "code",
   "execution_count": 105,
   "metadata": {
    "slideshow": {
     "slide_type": "slide"
    }
   },
   "outputs": [
    {
     "data": {
      "image/png": "[encoded data removed]",
      "text/plain": [
       "<Figure size 432x288 with 1 Axes>"
      ]
     },
     "metadata": {
      "needs_background": "light"
     },
     "output_type": "display_data"
    }
   ],
   "source": [
    "from numpy import random\n",
    "import matplotlib.pyplot as plt\n",
    "\n",
    "ntrial=10\n",
    "prob=0.5\n",
    "data=random.binomial(n=ntrial, p=prob, size=10000)\n",
    "plt.hist(data, bins=12, range=(-1,11), density=True) #density to normalise area\n",
    "plt.xlabel(\"events\")\n",
    "plt.show()"
   ]
  },
  {
   "cell_type": "markdown",
   "metadata": {
    "slideshow": {
     "slide_type": "slide"
    }
   },
   "source": [
    "### Here, the first two terms are the probability for the drawing of $r$ successes followed by $n-r$ failures. The last term is the number of possible re-orderings of the events. \n",
    "#### The main properties of this distribution are (mean/variance)\n",
    "\n",
    "\\begin{eqnarray}\n",
    "%\\sum_{r=0}^nP(r,p,n)&=&1\\\\\n",
    "\\langle r \\rangle& =& pn\\\\\n",
    "V(r) &=&np(1-p)\n",
    "\\end{eqnarray}"
   ]
  },
  {
   "cell_type": "markdown",
   "metadata": {
    "slideshow": {
     "slide_type": "slide"
    }
   },
   "source": [
    "# Poisson distribution\n",
    "\n",
    "### The Poisson distribution deals with random events and is defined only by it's fixed average expected number of events  (it is used for example  to describe radioactive decays) and is in practice the infinite limit of the binomial distribution for an (infinitely) large pot with (infinitely) small individual probabilities.\n",
    "\n",
    "$P(r,\\lambda)  = \\frac{e^{-\\lambda}\\lambda^r}{r!}$"
   ]
  },
  {
   "cell_type": "code",
   "execution_count": 108,
   "metadata": {
    "slideshow": {
     "slide_type": "slide"
    }
   },
   "outputs": [
    {
     "data": {
      "image/png": "[encoded data removed]",
      "text/plain": [
       "<Figure size 432x288 with 1 Axes>"
      ]
     },
     "metadata": {
      "needs_background": "light"
     },
     "output_type": "display_data"
    }
   ],
   "source": [
    "from scipy.stats import poisson\n",
    "import matplotlib.pyplot as plt\n",
    "# setting the values\n",
    "lambd = 100\n",
    "# defining list of r values\n",
    "r_values = list(range(140))\n",
    "# list of pmf values\n",
    "dist = [poisson.pmf(r, lambd) for r in r_values ]\n",
    "# plotting the graph\n",
    "plt.bar(r_values, dist)\n",
    "plt.show()\n"
   ]
  },
  {
   "cell_type": "code",
   "execution_count": 112,
   "metadata": {
    "slideshow": {
     "slide_type": "slide"
    }
   },
   "outputs": [
    {
     "data": {
      "image/png": "[encoded data removed]",
      "text/plain": [
       "<Figure size 432x288 with 1 Axes>"
      ]
     },
     "metadata": {
      "needs_background": "light"
     },
     "output_type": "display_data"
    }
   ],
   "source": [
    "from numpy import random\n",
    "import matplotlib.pyplot as plt\n",
    "\n",
    "lambd=100\n",
    "data=random.poisson(lam=lambd, size=1000000)\n",
    "plt.hist(data, bins=140, range=(0,140), density=True)\n",
    "plt.xlabel(\"events\")\n",
    "plt.show()\n"
   ]
  },
  {
   "cell_type": "markdown",
   "metadata": {
    "slideshow": {
     "slide_type": "slide"
    }
   },
   "source": [
    "### The properties of this distribution are\n",
    "\n",
    "\\begin{eqnarray}\n",
    "\\langle r \\rangle =\\lambda\\\\\n",
    "V(r)=\\lambda\n",
    "\\end{eqnarray}"
   ]
  },
  {
   "cell_type": "markdown",
   "metadata": {
    "slideshow": {
     "slide_type": "slide"
    }
   },
   "source": [
    "# Key point to remember:\n",
    "### for a Poisson distribution the standard deviation is just the square root of the mean number of events.\n",
    "#### Think about what is the uncertainty of the number of counts in a histogram? "
   ]
  },
  {
   "cell_type": "markdown",
   "metadata": {
    "slideshow": {
     "slide_type": "slide"
    }
   },
   "source": [
    "# Gaussian Distribution\n",
    "\n",
    "\n",
    "### Another common distribution is the Gaussian one. (Prob one of the most important one)\n",
    "#### It reads\n",
    "\n",
    "\n",
    "\n",
    "\\begin{eqnarray*}\n",
    "P(x;\\mu,\\sigma) &=& \\frac{1}{\\sigma\\sqrt{2\\pi}}e^{-(x-\\mu)^2/2\\sigma^2} \\\\\n",
    "\\end{eqnarray*}\n",
    "\n",
    "#### The properties of the distribution are\n",
    "\n",
    "\\begin{eqnarray}\n",
    "\\langle r \\rangle =\\mu\\\\ \n",
    "V(x)=\\sigma^2\n",
    "\\end{eqnarray} \n",
    "#### $\\mu\\$ is also the mode and the median\n"
   ]
  },
  {
   "cell_type": "code",
   "execution_count": 113,
   "metadata": {
    "slideshow": {
     "slide_type": "slide"
    }
   },
   "outputs": [],
   "source": [
    "def gaus(sigma,mu,x):\n",
    "    resg=1/(sigma * np.sqrt(2 * np.pi))* np.exp( - (x - mu)**2 / (2 * sigma**2))\n",
    "    return resg;\n",
    "    "
   ]
  },
  {
   "cell_type": "code",
   "execution_count": 8,
   "metadata": {
    "slideshow": {
     "slide_type": "slide"
    }
   },
   "outputs": [
    {
     "data": {
      "image/png": "[encoded data removed]",
      "text/plain": [
       "<Figure size 432x288 with 1 Axes>"
      ]
     },
     "metadata": {
      "needs_background": "light"
     },
     "output_type": "display_data"
    }
   ],
   "source": [
    "sigma=1\n",
    "mu=40\n",
    "\n",
    "x = np.linspace(-10, 100, 500)\n",
    "y = gaus(sigma,mu,x)\n",
    "plt.title('Gaussian (Normal) distributiom')\n",
    "plt.xlabel('x')\n",
    "plt.ylabel('f')\n",
    "plt.plot(x, y, '-', color='red');\n"
   ]
  },
  {
   "cell_type": "markdown",
   "metadata": {
    "slideshow": {
     "slide_type": "slide"
    }
   },
   "source": [
    "# How the Gaussian compares to other distributions?"
   ]
  },
  {
   "cell_type": "code",
   "execution_count": 151,
   "metadata": {},
   "outputs": [
    {
     "data": {
      "image/png": "[encoded data removed]",
      "text/plain": [
       "<Figure size 432x288 with 1 Axes>"
      ]
     },
     "metadata": {
      "needs_background": "light"
     },
     "output_type": "display_data"
    }
   ],
   "source": [
    "import matplotlib.pyplot as plt\n",
    "import numpy as np\n",
    "import scipy.stats as stats\n",
    "import math\n",
    "n=1000\n",
    "p=0.9\n",
    "mu = n*p\n",
    "variance = n*p*(1-p)\n",
    "sigma = math.sqrt(variance)\n",
    "low= int(mu - 5*sigma)\n",
    "high= int(mu + 5*sigma)\n",
    "bins=high-low+1\n",
    "x = np.linspace(low, high, bins)\n",
    "plt.plot(x, stats.norm.pdf(x, mu, sigma), label='Gaussian')\n",
    "plt.plot(x, stats.binom.pmf(x, n, p), label='Binomial')\n",
    "plt.show()\n"
   ]
  },
  {
   "cell_type": "code",
   "execution_count": 167,
   "metadata": {
    "slideshow": {
     "slide_type": "slide"
    }
   },
   "outputs": [
    {
     "data": {
      "image/png": "[encoded data removed]",
      "text/plain": [
       "<Figure size 432x288 with 1 Axes>"
      ]
     },
     "metadata": {
      "needs_background": "light"
     },
     "output_type": "display_data"
    }
   ],
   "source": [
    "from numpy import random\n",
    "import matplotlib.pyplot as plt\n",
    "pp=0.9\n",
    "nn=100\n",
    "m1=pp*nn\n",
    "vv=np.sqrt(nn*pp*(1-pp))\n",
    "\n",
    "plt.hist(random.normal(loc=m1, scale=vv, size=1000),label='normal')\n",
    "plt.hist(random.binomial(n=nn, p=pp, size=1000),label='binomial', alpha=0.7)\n",
    "plt.xlabel(\"number of observations in 1000 trials\")\n",
    "plt.ylabel(\"Frequency of these observations after 10000 experiments \")\n",
    "plt.legend()\n",
    "plt.show()\n"
   ]
  },
  {
   "cell_type": "code",
   "execution_count": 199,
   "metadata": {
    "slideshow": {
     "slide_type": "slide"
    }
   },
   "outputs": [
    {
     "data": {
      "image/png": "[encoded data removed]",
      "text/plain": [
       "<Figure size 432x288 with 1 Axes>"
      ]
     },
     "metadata": {
      "needs_background": "light"
     },
     "output_type": "display_data"
    }
   ],
   "source": [
    "lam=4\n",
    "m1=lam\n",
    "vv=np.sqrt(lam)\n",
    "\n",
    "plt.hist(random.normal(loc=m1, scale=vv, size=100000),label='normal')\n",
    "plt.hist(random.poisson(lam=lam, size=100000),label='Poisson', alpha=0.7)\n",
    "plt.xlabel(\"number of observations in 1000 trials\")\n",
    "plt.ylabel(\"Frequency of these observations after 10000 experiments \")\n",
    "plt.legend()\n",
    "plt.show()"
   ]
  },
  {
   "cell_type": "markdown",
   "metadata": {
    "slideshow": {
     "slide_type": "slide"
    }
   },
   "source": [
    "### This distribution  is arguably the most well-known continuous probability distributions. This is in part because it is a limit for many other probability distributions, such as for example the Poisson distribution:\n",
    "\n",
    "\n",
    "$P_{Poiss}(r;\\lambda) \\to P_{Gauss}(r;\\lambda,\\sqrt{\\lambda})~\\mathrm{as}~\\lambda$ increases\n",
    "\n",
    "### The approach towards a gaussian distribution os clearly visible.\n",
    "\n",
    "### Also, the Gaussian distribution is extremely important in error handling, as almost all errors are Gaussian. "
   ]
  },
  {
   "cell_type": "markdown",
   "metadata": {
    "slideshow": {
     "slide_type": "slide"
    }
   },
   "source": [
    "# Student's t distribution\n",
    "\n",
    "This distribution takes the name after N.S. Gossert who used \\emph{Student} pseudonym to publish his results.\n",
    "The distribution looks like\n",
    "\n",
    "\n",
    "\\begin{eqnarray}\n",
    "f(t)=\\frac{\\Gamma\\left( \\frac{\\nu+1}{2}\\right)}{\\sqrt{\\nu\\pi}\\Gamma\\left( \\frac{\\nu}{2}\\right)}\\left(1+\\frac{t^2}{\\nu}\\right)^{-\\frac{\\nu+1}{2}}\n",
    "\\end{eqnarray}\n",
    "\n",
    "\n",
    "where $\\Gamma$ is a function of the form\n",
    "\\begin{equation}\n",
    "\\Gamma(z)=\\int_0^{\\infty}x^{z-1}\\exp(-x)dx\n",
    "\\end{equation}\n",
    "\n",
    "We will use this distribution later for hypothesis testing.\n",
    "\n"
   ]
  },
  {
   "cell_type": "markdown",
   "metadata": {
    "slideshow": {
     "slide_type": "slide"
    }
   },
   "source": [
    "The main features of the distribution are\n",
    "\n",
    "\n",
    "1.  The mean $\\langle x \\rangle=0$ for $\\nu> 1$\n",
    "\n",
    "2. The variance is $V=\\frac{\\nu}{\\nu-2}$ for $\\nu>2$ and $\\infty$ for $1\\le\\nu\\le2$\n"
   ]
  },
  {
   "cell_type": "code",
   "execution_count": 200,
   "metadata": {
    "slideshow": {
     "slide_type": "skip"
    }
   },
   "outputs": [],
   "source": [
    "from scipy.stats import t\n",
    "import matplotlib.pyplot as plt"
   ]
  },
  {
   "cell_type": "code",
   "execution_count": 201,
   "metadata": {
    "slideshow": {
     "slide_type": "slide"
    }
   },
   "outputs": [
    {
     "data": {
      "image/png": "[encoded data removed]",
      "text/plain": [
       "<Figure size 432x288 with 1 Axes>"
      ]
     },
     "metadata": {
      "needs_background": "light"
     },
     "output_type": "display_data"
    }
   ],
   "source": [
    "x = np.linspace(-5, 5, 3000)\n",
    "y1=t.pdf(x, 1)\n",
    "y2=t.pdf(x, 2)\n",
    "y3=t.pdf(x, 3)\n",
    "y4=t.pdf(x, 4)\n",
    "\n",
    "plt.plot(x, y1, '-', color='red',label= 'nu=1'); \n",
    "plt.plot(x, y2, '-', color='blue',label= 'nu=2'); \n",
    "plt.plot(x, y3, '-', color='orange',label= 'nu=5'); \n",
    "plt.plot(x, y4, '-', color='black',label= 'nu=10'); \n",
    "plt.xlabel('x')\n",
    "plt.legend()\n",
    "plt.show()\n",
    "#ax.plot(x, t.pdf(x, df),'r-', lw=5, alpha=0.6, label='t pdf')"
   ]
  },
  {
   "cell_type": "markdown",
   "metadata": {
    "slideshow": {
     "slide_type": "slide"
    }
   },
   "source": [
    "<img src=\"./limit.jpg\"  width=850px height=650px />"
   ]
  },
  {
   "cell_type": "code",
   "execution_count": null,
   "metadata": {},
   "outputs": [],
   "source": []
  },
  {
   "cell_type": "code",
   "execution_count": null,
   "metadata": {},
   "outputs": [],
   "source": []
  }
 ],
 "metadata": {
  "celltoolbar": "Slideshow",
  "kernelspec": {
   "display_name": "Python 3 (ipykernel)",
   "language": "python",
   "name": "python3"
  },
  "language_info": {
   "codemirror_mode": {
    "name": "ipython",
    "version": 3
   },
   "file_extension": ".py",
   "mimetype": "text/x-python",
   "name": "python",
   "nbconvert_exporter": "python",
   "pygments_lexer": "ipython3",
   "version": "3.9.7"
  },
  "varInspector": {
   "cols": {
    "lenName": 16,
    "lenType": 16,
    "lenVar": 40
   },
   "kernels_config": {
    "python": {
     "delete_cmd_postfix": "",
     "delete_cmd_prefix": "del ",
     "library": "var_list.py",
     "varRefreshCmd": "print(var_dic_list())"
    },
    "r": {
     "delete_cmd_postfix": ") ",
     "delete_cmd_prefix": "rm(",
     "library": "var_list.r",
     "varRefreshCmd": "cat(var_dic_list()) "
    }
   },
   "types_to_exclude": [
    "module",
    "function",
    "builtin_function_or_method",
    "instance",
    "_Feature"
   ],
   "window_display": false
  }
 },
 "nbformat": 4,
 "nbformat_minor": 2
}
