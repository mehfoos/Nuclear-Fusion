{
 "cells": [
  {
   "cell_type": "markdown",
   "metadata": {},
   "source": [
    "**Student ID**: 208040148\n",
    "\n",
    "# STATISTICAL METHODS IN EXPERIMENTAL PHYSICS \n",
    "Practice paper questions #2\n"
   ]
  },
  {
   "cell_type": "markdown",
   "metadata": {},
   "source": [
    "## Problem 1\n",
    "### 1.0 Data Import"
   ]
  },
  {
   "cell_type": "code",
   "execution_count": 2,
   "metadata": {},
   "outputs": [],
   "source": [
    "# Library imports for plotting figures and numerical processing\n",
    "import matplotlib.pyplot as plt \n",
    "import numpy as np\n",
    "\n",
    "# Import file as array\n",
    "data1 = np.loadtxt(\"data1.dat\")"
   ]
  },
  {
   "cell_type": "markdown",
   "metadata": {},
   "source": [
    "### 1.1 Histogram"
   ]
  },
  {
   "cell_type": "code",
   "execution_count": 25,
   "metadata": {},
   "outputs": [
    {
     "data": {
      "image/png": "[encoded data removed]",
      "text/plain": [
       "<Figure size 432x288 with 1 Axes>"
      ]
     },
     "metadata": {
      "needs_background": "light"
     },
     "output_type": "display_data"
    }
   ],
   "source": [
    "data1Min = np.min(data1)\n",
    "data1Max = np.max(data1)\n",
    "#nBins=int(np.sqrt(len(data1))) # discarded square root\n",
    "nBins = int(1+np.log2(len(data1))) # Sturge's formula\n",
    "#nBins = int(2*np.cbrt(len(data1))) # Rice rule\n",
    "plt.xlabel(\"Data Value\")\n",
    "plt.ylabel(\"Counts\")\n",
    "plt.title(\"Histogram of data in 'data1.dat'\")\n",
    "#plt.style.use('seaborn-deep')\n",
    "#myRange=[-10,50]\n",
    "#plt.hist(students, bins =number_of_bins, range=myRange)\n",
    "plt.hist(data1, bins =nBins)\n",
    "plt.show()"
   ]
  },
  {
   "cell_type": "markdown",
   "metadata": {},
   "source": [
    "**Discussion**: The distribution does not appear to be normally distributed, but rather a skewed distribution (right skewed, or positively skewed).\n",
    "\n",
    "**Range**: The default range in the histogram seems to utilise the range of the data, as checked by determining the minimum and maximum values in the set. Therefore, it was left to be default range.\n",
    "\n",
    "**Binning**: The bin width was left uniform to avoid possible ambiguity. The number of bins was determined with a subjective evaluation using the following rationale: The default of 10 was determined to be too low to sufficiently visually represent the distribution and the square root value gave a comb pattern with many alternate tall/short bars. Sturge's formula and Rice formula were then attempted, and Sturge's formula was ultimately used as it captured the major characteristics of the distribution visually without having too many bins distract the user.\n",
    "\n",
    "**Mode from visual inspection**: appears to be roughly 0.\n"
   ]
  },
  {
   "cell_type": "code",
   "execution_count": null,
   "metadata": {},
   "outputs": [],
   "source": []
  }
 ],
 "metadata": {
  "kernelspec": {
   "display_name": "Python 3.9.7 ('.venv': venv)",
   "language": "python",
   "name": "python3"
  },
  "language_info": {
   "codemirror_mode": {
    "name": "ipython",
    "version": 3
   },
   "file_extension": ".py",
   "mimetype": "text/x-python",
   "name": "python",
   "nbconvert_exporter": "python",
   "pygments_lexer": "ipython3",
   "version": "3.9.7"
  },
  "orig_nbformat": 4,
  "vscode": {
   "interpreter": {
    "hash": "86190ccbe3451d9c7889f0cc9247f282c008d6fa2e41cbfc6d7f2bbc5a6cee59"
   }
  }
 },
 "nbformat": 4,
 "nbformat_minor": 2
}
