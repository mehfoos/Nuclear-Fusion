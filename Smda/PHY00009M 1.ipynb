{
 "cells": [
  {
   "cell_type": "markdown",
   "metadata": {},
   "source": [
    "**Exam number**: Y3902375\n",
    "\n",
    "**Module code and assignment number**: PHY00009M Assignment 1 (Final Assignment)\n",
    "\n",
    "**Number of pages in pdf**: TBD\n",
    "\n",
    "# Statistical Methods and Data Analysis"
   ]
  },
  {
   "cell_type": "markdown",
   "metadata": {},
   "source": [
    "# 1.a"
   ]
  },
  {
   "cell_type": "code",
   "execution_count": 2,
   "metadata": {},
   "outputs": [
    {
     "name": "stdout",
     "output_type": "stream",
     "text": [
      "time = [1. 2. 3. 4. 5. 6.]\n",
      "distance = [ 12.  40.  62.  78.  96. 120.]\n"
     ]
    }
   ],
   "source": [
    "import matplotlib.pyplot as plt # For plotting\n",
    "import numpy as np # For mathematics, relevant data structure operations, etc.\n",
    "\n",
    "# Represent the data given in question\n",
    "time = np.array([1.0, 2.0, 3.0, 4.0, 5.0, 6.0])\n",
    "distance = np.array([12., 40, 62, 78, 96, 120])\n",
    "\n",
    "# Print the values as confirmation\n",
    "print(\"time =\",time)\n",
    "\n",
    "print(\"distance =\",distance)"
   ]
  },
  {
   "cell_type": "markdown",
   "metadata": {},
   "source": [
    "**Plot of data**"
   ]
  },
  {
   "cell_type": "code",
   "execution_count": 3,
   "metadata": {},
   "outputs": [
    {
     "data": {
      "text/plain": [
       "[<matplotlib.lines.Line2D at 0x1f55c345be0>]"
      ]
     },
     "execution_count": 3,
     "metadata": {},
     "output_type": "execute_result"
    },
    {
     "data": {
      "image/png": "[encoded data removed]",
      "text/plain": [
       "<Figure size 432x288 with 1 Axes>"
      ]
     },
     "metadata": {
      "needs_background": "light"
     },
     "output_type": "display_data"
    }
   ],
   "source": [
    "plt.title('Distance vs Time Plot')\n",
    "plt.xlabel('Time [s]')\n",
    "plt.ylabel('Distance [mm]')\n",
    "plt.plot(time, distance, 'o', color='green')"
   ]
  },
  {
   "cell_type": "markdown",
   "metadata": {},
   "source": [
    "**Equation to estimate trolley speeds**\n",
    "\n",
    "Since the question says that the speed is constant, the distance would be simply the unknown speed multiplied by time, from basic kinematics.\n",
    "\n",
    "$ distance = {speed}\\times {time} + distance_{initial} $\n",
    "\n",
    "This is essentially a linear function of time (commonly denoted in general linear functions as $x$), with speed being the slope (commonly denoted as $m$) and the initial distance being the constant offset (commonly denoted as $c$).\n",
    "\n",
    "**Necessity of zeroth order**\n",
    "\n",
    "Given how the question says that the trolley passes through reference for distance measurement ($d=0$) at exactly time $t=0$, the zeroth order term, or the offset, is not required"
   ]
  }
 ],
 "metadata": {
  "kernelspec": {
   "display_name": "Python 3.9.7 64-bit",
   "language": "python",
   "name": "python3"
  },
  "language_info": {
   "codemirror_mode": {
    "name": "ipython",
    "version": 3
   },
   "file_extension": ".py",
   "mimetype": "text/x-python",
   "name": "python",
   "nbconvert_exporter": "python",
   "pygments_lexer": "ipython3",
   "version": "3.9.7"
  },
  "orig_nbformat": 4,
  "vscode": {
   "interpreter": {
    "hash": "c3e398d72e9d09362d390ad7613d3e96245d496e2d29a6d4d81e2def20d641c6"
   }
  }
 },
 "nbformat": 4,
 "nbformat_minor": 2
}
