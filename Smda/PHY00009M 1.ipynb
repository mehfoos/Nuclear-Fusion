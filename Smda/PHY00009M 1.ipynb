{
 "cells": [
  {
   "cell_type": "markdown",
   "metadata": {},
   "source": [
    "**Exam number**: Y3902375\n",
    "\n",
    "**Module code and assignment number**: PHY00009M Assignment 1 (Final Assignment)\n",
    "\n",
    "**Number of pages in pdf**: TBD\n",
    "\n",
    "# Statistical Methods and Data Analysis"
   ]
  },
  {
   "cell_type": "markdown",
   "metadata": {},
   "source": [
    "# 1.a"
   ]
  },
  {
   "cell_type": "code",
   "execution_count": 164,
   "metadata": {},
   "outputs": [
    {
     "name": "stdout",
     "output_type": "stream",
     "text": [
      "time = [1. 2. 3. 4. 5. 6.]\n",
      "distance = [ 12.  40.  62.  78.  96. 120.]\n"
     ]
    }
   ],
   "source": [
    "import matplotlib.pyplot as plt # For plotting\n",
    "import numpy as np # For mathematics, relevant data structure operations, etc.\n",
    "\n",
    "# Represent the data given in question\n",
    "measurementError = 3\n",
    "time = np.array([1.0, 2.0, 3.0, 4.0, 5.0, 6.0])\n",
    "distance = np.array([12., 40, 62, 78, 96, 120])\n",
    "\n",
    "# Print the values as confirmation\n",
    "print(\"time =\",time)\n",
    "\n",
    "print(\"distance =\",distance)"
   ]
  },
  {
   "cell_type": "markdown",
   "metadata": {},
   "source": [
    "**Plot of data**"
   ]
  },
  {
   "cell_type": "code",
   "execution_count": 165,
   "metadata": {},
   "outputs": [
    {
     "data": {
      "image/png": "[encoded data removed]",
      "text/plain": [
       "<Figure size 432x288 with 1 Axes>"
      ]
     },
     "metadata": {
      "needs_background": "light"
     },
     "output_type": "display_data"
    }
   ],
   "source": [
    "plt.title('Distance vs Time Plot')\n",
    "plt.xlabel('Time [s]')\n",
    "plt.ylabel('Distance [mm]')\n",
    "plt.errorbar(time, distance, yerr=measurementError, fmt=\".b\", label = \"Measured Value\")\n",
    "plt.show()"
   ]
  },
  {
   "cell_type": "markdown",
   "metadata": {},
   "source": [
    "Note that the plot shows the measurement error of 3mm, as per the question.\n",
    "\n",
    "**Equation to estimate trolley speeds and Necessity of zeroth order**\n",
    "\n",
    "Since the question says that the speed is constant, the distance would be simply the unknown speed multiplied by time, from basic kinematics.\n",
    "\n",
    "$$ distance = {speed}\\times {time} + distance_{initial} $$\n",
    "\n",
    "This is essentially a linear function of time (commonly denoted in general linear functions as $x$), with speed being the slope (commonly denoted as $m$) and the initial distance being the constant offset (commonly denoted as $c$).\n",
    "\n",
    "But given how the question says that the trolley passes through reference for distance measurement ($d=0$) at exactly time $t=0$, we know that: $ distance_{initial} = 0 $ \n",
    "\n",
    "Therefore, zeroth order term, or the offset, is not required. Instead, the equation can be:\n",
    "\n",
    "$$ distance = {speed}\\times {time}$$\n",
    "\n",
    "**Note:**\n",
    "\n",
    "Note that given how the stroboscope has an error of 3mm, if we know more about this error to conclude that it has a zeroth order component (systematic error offset, for instance), then it may justify the use of a zeroth order in the fit model, given how it would be rectified when accounting for the instrumentation. However, it is assumed that all possible known error corrections have already been accounted for in the measurements and the 3mm error is random in nature. Therefore, a zeroth order term (offset is not required)."
   ]
  },
  {
   "cell_type": "markdown",
   "metadata": {},
   "source": [
    "# 1.b"
   ]
  },
  {
   "cell_type": "markdown",
   "metadata": {},
   "source": [
    "We can use Python's least squares minimisation to get the estimate of speed (or $m$). We're forcing a 0 intercept to avoid 0th term.\n",
    "\n",
    "Velocity and uncertainty estimate using least squares fitting (assuming 0 intercept):"
   ]
  },
  {
   "cell_type": "code",
   "execution_count": 166,
   "metadata": {},
   "outputs": [
    {
     "name": "stdout",
     "output_type": "stream",
     "text": [
      "Least Squares solution =  [19.67032967]\n",
      "Sums of squared residuals =  [78.10989011]\n",
      "Rank =  1\n",
      "Singular Values of timeRestruct =  [19.67032967]\n",
      "\n",
      "RESULTS:\n",
      "Velocity Estimate (assuming 0 intercept) =  [19.67032967]\n",
      "Uncertainty (Root of sum of squared residuals) =  [8.83797998]\n",
      "Overall uncertainty (including measurement error) =  [9.33326792]\n",
      "\n"
     ]
    }
   ],
   "source": [
    "timeRestruct = time[:,np.newaxis] # Making it column vector; we're forcing a zero intercept to avoid 0th order term\n",
    "\n",
    "lstsqResult = np.linalg.lstsq(timeRestruct,distance,rcond=None) # rcond suppresses FutureWarning\n",
    "lstsqRtRSS = np.sqrt(lstsqResult[1])\n",
    "\n",
    "print(\"Least Squares solution = \", lstsqResult[0])\n",
    "print(\"Sums of squared residuals = \", lstsqResult[1])\n",
    "print(\"Rank = \", lstsqResult[2])\n",
    "print(\"Singular Values of timeRestruct = \", lstsqResult[0])\n",
    "\n",
    "\n",
    "lstsq0interceptSpeed = lstsqResult[0]\n",
    "overallUncertainty = np.sqrt(lstsqResult[1] + np.square(measurementError))\n",
    "\n",
    "print(\"\\nRESULTS:\")\n",
    "print(\"Velocity Estimate (assuming 0 intercept) = \", lstsq0interceptSpeed)\n",
    "print(\"Uncertainty (Root of sum of squared residuals) = \", lstsqRtRSS)\n",
    "print(\"Overall uncertainty (including measurement error) = \", overallUncertainty)\n",
    "print()\n",
    "\n",
    "distanceFit = time*lstsq0interceptSpeed\n"
   ]
  },
  {
   "cell_type": "code",
   "execution_count": 167,
   "metadata": {},
   "outputs": [
    {
     "data": {
      "image/png": "[encoded data removed]",
      "text/plain": [
       "<Figure size 432x288 with 1 Axes>"
      ]
     },
     "metadata": {
      "needs_background": "light"
     },
     "output_type": "display_data"
    }
   ],
   "source": [
    "# Plot:\n",
    "plt.title('Distance vs Time Plot')\n",
    "plt.xlabel('Time [s]')\n",
    "plt.ylabel('Distance [mm]')\n",
    "plt.errorbar(time, distance, yerr=measurementError, fmt=\".b\", label = \"Measured\")\n",
    "plt.plot(time, distanceFit, color='red', label=\"Fit to Measured; 0 intercept\")\n",
    "plt.legend()\n",
    "plt.show()"
   ]
  },
  {
   "cell_type": "markdown",
   "metadata": {},
   "source": [
    "# 1.c\n",
    "\n",
    "Analytical solution:\n",
    "For a straight line fit to a data set $\\{x_i,y_i\\}$ with common uncertainty $\\sigma$ we have $f(x_i;m,c)=m\\cdot x_i + c$, and:\n",
    "\n",
    "$\n",
    "\\chi^2  =  \\sum_i \\frac{\\left(y_i-f(x_i;\\vec{a})\\right)^2}{\\sigma^2} = \\sum_i \\frac{\\left(y_i-mx_i-c\\right)^2}{\\sigma^2}\n",
    "$\n",
    "\n",
    "*However*, as covered earlier, the offset or zeroth term is not necessary given the explicit information available in the question. So this instead becomes:\n",
    "\n",
    "$\n",
    "\\chi^2  =  \\sum_i \\frac{\\left(y_i-f(x_i;\\vec{a})\\right)^2}{\\sigma^2} = \\sum_i \\frac{\\left(y_i-mx_i\\right)^2}{\\sigma^2}\n",
    "$\n",
    "\n",
    "Differentiating and equating to zero, we get:\n",
    "\n",
    "$\n",
    "\\left.\\frac{d \\chi^2}{d m}\\right|_{m=\\widehat{m}}  =  \\frac{1}{\\sigma^2}\\sum_i -2\\left(y_i - \\widehat{m}x_i\\right)x_i = 0 \\\\\n",
    "$\n",
    "\n",
    "Which becomes:\n",
    "\n",
    "$ 0  =  \\overline{xy} - \\widehat{m}\\overline{x^2}$\n",
    "\n",
    "Therefore,\n",
    "$ \\widehat{m} =  \\frac{\\overline{xy}}{\\overline{x^2}} = \\frac{\\overline{y}}{\\overline{x}}$\n",
    "\n",
    "This is essentially dividing average distance by average time:\n",
    "\n",
    "$$ \\widehat{speed} = \\frac{\\overline{distance}}{\\overline{time}}$$\n"
   ]
  },
  {
   "cell_type": "code",
   "execution_count": 168,
   "metadata": {},
   "outputs": [
    {
     "name": "stdout",
     "output_type": "stream",
     "text": [
      "Analytical solution from least squares minimisation =  19.428571428571427\n",
      "Difference in python numerical and analytical method for least squares minimisation:  [1.24434389] %\n"
     ]
    }
   ],
   "source": [
    "timeMean=time.mean()\n",
    "distanceMean=distance.mean()\n",
    "analyticalM = distanceMean/timeMean\n",
    "\n",
    "print(\"Analytical solution from least squares minimisation = \", analyticalM)\n",
    "print(\"Difference in python numerical and analytical method for least squares minimisation: \", 100*abs(1-(lstsq0interceptSpeed/analyticalM)), \"%\")"
   ]
  },
  {
   "cell_type": "markdown",
   "metadata": {},
   "source": [
    "The analytical and numerical solutions are close."
   ]
  },
  {
   "cell_type": "markdown",
   "metadata": {},
   "source": [
    "# 1.d\n",
    "\n",
    "As covered earlier: \n",
    "\n",
    "$\n",
    "\\chi^2  =  \\sum_i \\frac{\\left(y_i-f(x_i;\\vec{a})\\right)^2}{\\sigma^2} = \\sum_i \\frac{\\left(y_i-mx_i\\right)^2}{\\sigma^2}\n",
    "$"
   ]
  },
  {
   "cell_type": "code",
   "execution_count": 169,
   "metadata": {},
   "outputs": [
    {
     "name": "stdout",
     "output_type": "stream",
     "text": [
      "Chi squared =  9.269841269841287\n"
     ]
    }
   ],
   "source": [
    "from scipy.stats import chisquare\n",
    "\n",
    "chiSqr = 0.0 # initialise\n",
    "\n",
    "# Loop through\n",
    "for iCount in range(len(time)):\n",
    "    chiSqr = chiSqr + np.square(distance[iCount]-analyticalM*time[iCount])/np.square(measurementError)\n",
    "\n",
    "print(\"Chi squared = \", chiSqr)"
   ]
  },
  {
   "cell_type": "markdown",
   "metadata": {},
   "source": [
    "If a zeroth term is included, as covered earlier, the value of $\\chi^2$ becomes different:\n",
    "\n",
    "$\n",
    "\\chi^2  =  \\sum_i \\frac{\\left(y_i-f(x_i;\\vec{a})\\right)^2}{\\sigma^2} = \\sum_i \\frac{\\left(y_i-mx_i-c\\right)^2}{\\sigma^2}\n",
    "$"
   ]
  },
  {
   "cell_type": "markdown",
   "metadata": {},
   "source": [
    "**Impact of zeroth term on estimate of speed and uncertainty**\n",
    "\n",
    "In terms of fit, we can expect that the additional degree of freedom helps get a better fit. It cannot be worse, as zeroth order value of 0 would get us back to the assumption we used.\n",
    "However, we have prior knowledge that the speed at 0 distance is 0, and that the speed is constant, which would be wrong with a non-zero zeroth order term. The measurement error remains the same, however, and assuming that the measurement error is not systematic in nature such that it's characterised to have a bias or offset in a direction, we can expect the zeroth term to increase uncertainty in this case."
   ]
  },
  {
   "cell_type": "markdown",
   "metadata": {},
   "source": [
    "# 2.a & 2.b\n",
    "*Please note that 2.a and 2.b are combined here*"
   ]
  },
  {
   "cell_type": "markdown",
   "metadata": {},
   "source": [
    "Data Import and processing:"
   ]
  },
  {
   "cell_type": "code",
   "execution_count": 170,
   "metadata": {},
   "outputs": [],
   "source": [
    "# Library imports for plotting figures and numerical processing\n",
    "import matplotlib.pyplot as plt \n",
    "import numpy as np\n",
    "\n",
    "# Import file as array\n",
    "data1 = np.loadtxt(\"data.txt\")"
   ]
  },
  {
   "cell_type": "markdown",
   "metadata": {},
   "source": [
    "**Arithmetic Mean:**\n",
    "\n",
    "Analytical Formula:\n",
    "\n",
    "$$\\bar{x}=\\frac{1}{N}\\sum_i x_i$$\n",
    "\n",
    "Note: Given large sample set, it is approximated as a \"population\", but for smaller samples, it would be $N-1$ instead of $N$.\n",
    "\n",
    "Computational numerical evaluation:"
   ]
  },
  {
   "cell_type": "code",
   "execution_count": 171,
   "metadata": {},
   "outputs": [
    {
     "name": "stdout",
     "output_type": "stream",
     "text": [
      "Arithmetic Mean of data in data.txt =  10.161846952236985\n"
     ]
    }
   ],
   "source": [
    "print(\"Arithmetic Mean of data in data.txt = \", data1.mean())"
   ]
  },
  {
   "cell_type": "markdown",
   "metadata": {},
   "source": [
    "**Standard Deviation:**\n",
    "\n",
    "Analytical Formula:\n",
    "\n",
    "$$\\sigma(x)=\\sqrt{\\frac{1}{N} \\sum_{i=1}^N (\\bar{x}-x_i)^2}$$\n",
    "\n",
    "Note: This is true for a \"population\", but for smaller samples, $N$ in the denominator would be replaced by $N-1$.\n",
    "\n",
    "Computational numerical evaluation:"
   ]
  },
  {
   "cell_type": "code",
   "execution_count": 172,
   "metadata": {},
   "outputs": [
    {
     "name": "stdout",
     "output_type": "stream",
     "text": [
      "Standard Deviation of data in data.txt =  1.935189163296128\n"
     ]
    }
   ],
   "source": [
    "print(\"Standard Deviation of data in data.txt = \", np.std(data1,ddof=1))"
   ]
  },
  {
   "cell_type": "markdown",
   "metadata": {},
   "source": [
    "**Standard Error:**\n",
    "\n",
    "Analytical Formula:\n",
    "\n",
    "$$Standard Error (x) = \\frac{\\sigma}{\\sqrt{N}}$$\n",
    "\n",
    "Note: This is true for a \"population\", but for smaller samples, $N$ in the denominator would be replaced by $N-1$.\n",
    "\n",
    "Computational numerical evaluation:"
   ]
  },
  {
   "cell_type": "code",
   "execution_count": 173,
   "metadata": {},
   "outputs": [
    {
     "name": "stdout",
     "output_type": "stream",
     "text": [
      "Standard Error of the mean of data in data.txt =  0.13683853802454132\n"
     ]
    }
   ],
   "source": [
    "print(\"Standard Error of the mean of data in data.txt = \", np.std(data1,ddof=1)/np.sqrt(len(data1)))"
   ]
  },
  {
   "cell_type": "markdown",
   "metadata": {},
   "source": [
    "# 2.b\n",
    "\n",
    "Please note that the Analytical Formulae for Arithmetic Mean, Standard Deviation and Standard Error are provided above\n",
    "\n",
    "# 2.c\n",
    "Plots:"
   ]
  },
  {
   "cell_type": "code",
   "execution_count": 174,
   "metadata": {},
   "outputs": [
    {
     "data": {
      "image/png": "[encoded data removed]",
      "text/plain": [
       "<Figure size 432x288 with 1 Axes>"
      ]
     },
     "metadata": {
      "needs_background": "light"
     },
     "output_type": "display_data"
    }
   ],
   "source": [
    "# Plot: Scatter\n",
    "plt.title('Measured Particle Momenta')\n",
    "plt.xlabel('Sample')\n",
    "plt.ylabel('Measured Particle Momenta')\n",
    "plt.plot(data1, color='blue', marker='o', linestyle='None')\n",
    "plt.show()"
   ]
  },
  {
   "cell_type": "markdown",
   "metadata": {},
   "source": [
    "**Scatter plot** does not show obvious signs of data skewing; a histogram chart will help assess it better."
   ]
  },
  {
   "cell_type": "code",
   "execution_count": 175,
   "metadata": {},
   "outputs": [
    {
     "data": {
      "image/png": "[encoded data removed]",
      "text/plain": [
       "<Figure size 432x288 with 1 Axes>"
      ]
     },
     "metadata": {
      "needs_background": "light"
     },
     "output_type": "display_data"
    }
   ],
   "source": [
    "# Plot: Histogram\n",
    "plt.title('Histogram of Measured Particle Momenta')\n",
    "plt.xlabel(\"Measured Particle Momenta\")\n",
    "plt.ylabel(\"Counts\")\n",
    "nBins=int(np.sqrt(len(data1)))\n",
    "# nBins = int(2*np.cbrt(len(data1))) # Rice rule\n",
    "binnedData, lowboundBin, patches=plt.hist(data1, bins =nBins)\n",
    "plt.show()"
   ]
  },
  {
   "cell_type": "code",
   "execution_count": 176,
   "metadata": {},
   "outputs": [
    {
     "name": "stdout",
     "output_type": "stream",
     "text": [
      "Skew of data1.dat = -0.07603210196796277\n"
     ]
    }
   ],
   "source": [
    "from scipy.stats import skew # library package for skew calcs\n",
    "\n",
    "data1Skew = skew(data1)\n",
    "print(\"Skew of data1.dat =\", data1Skew) "
   ]
  },
  {
   "cell_type": "markdown",
   "metadata": {},
   "source": [
    "**Histogram** and the skew calculation reaffirms the observation from scatter plot that the data is distributed without heavy skewing and seems to represent an approximate Gaussian. It may be that the data is truncated at the ends. "
   ]
  },
  {
   "cell_type": "markdown",
   "metadata": {},
   "source": [
    "# 2.d\n",
    "\n",
    "Given the fitting requested is that of a histogram involving counts, we can take the uncertainty for each bin to be $\\sqrt{N}$ where $N$ is the counts in each bin. We can also determine the bin positions and use these $x,y$ values in a least squares fit."
   ]
  },
  {
   "cell_type": "code",
   "execution_count": 177,
   "metadata": {},
   "outputs": [
    {
     "name": "stdout",
     "output_type": "stream",
     "text": [
      "[[Model]]\n",
      "    Model(_eval)\n",
      "[[Fit Statistics]]\n",
      "    # fitting method   = leastsq\n",
      "    # function evals   = 37\n",
      "    # data points      = 14\n",
      "    # variables        = 3\n",
      "    chi-square         = 6.91123621\n",
      "    reduced chi-square = 0.62829420\n",
      "    Akaike info crit   = -3.88272329\n",
      "    Bayesian info crit = -1.96555130\n",
      "    R-squared          = 0.99622514\n",
      "[[Variables]]\n",
      "    amp:  152.828616 +/- 8.72279847 (5.71%) (init = 50)\n",
      "    cen:  10.1940640 +/- 0.11287058 (1.11%) (init = 10)\n",
      "    wid:  1.93253613 +/- 0.08755019 (4.53%) (init = 0.2)\n"
     ]
    }
   ],
   "source": [
    "# (Based on Practical 3 Answers from SDAM course)\n",
    "\n",
    "from lmfit.models import ExpressionModel\n",
    "\n",
    "binnedUnc=[]\n",
    "xvalues=[]\n",
    "for i in range(len(binnedData)):\n",
    "    binnedUnc.append(np.sqrt(binnedData[i]))\n",
    "    xvalues.append((lowboundBin[i]+lowboundBin[i+1])/2)\n",
    "    \n",
    "y=binnedData\n",
    "x=xvalues\n",
    "ery=binnedUnc\n",
    "recery=np.reciprocal(ery)\n",
    "gmod = ExpressionModel(\"amp * exp(-(x-cen)**2 /(2*wid**2))/(sqrt(2*pi)*wid)\")\n",
    "result = gmod.fit(y, x=x, amp=50, cen=10, wid=0.2,weights=recery)\n",
    "print(result.fit_report())"
   ]
  },
  {
   "cell_type": "code",
   "execution_count": 178,
   "metadata": {},
   "outputs": [
    {
     "data": {
      "image/png": "[encoded data removed]",
      "text/plain": [
       "<Figure size 432x288 with 1 Axes>"
      ]
     },
     "metadata": {
      "needs_background": "light"
     },
     "output_type": "display_data"
    }
   ],
   "source": [
    "# (Based on Practical 3 Answers from SDAM course)\n",
    "plt.title('Gaussian fit of Histogram of Measured Momenta')\n",
    "plt.errorbar(x, y,ery,ls='', marker='.')\n",
    "plt.plot(x, result.init_fit, '--', label='initial fit')\n",
    "plt.plot(x, result.best_fit, '-', label='best fit')\n",
    "plt.xlabel('Measured Particle Momenta')\n",
    "plt.ylabel('counts')\n",
    "plt.legend()\n",
    "plt.show()"
   ]
  },
  {
   "cell_type": "markdown",
   "metadata": {},
   "source": [
    "Based on the fit results:\n",
    "\n",
    "**Mean** would be the centre, which is 10.1940640 +/- 0.11287058 (1.11%)\n",
    "\n",
    "**Standard Deviation** would be given by 'wid', which is 1.93253613 +/- 0.08755019 (4.53%)"
   ]
  },
  {
   "cell_type": "markdown",
   "metadata": {},
   "source": [
    "# 2.e\n",
    "\n",
    "The mean, standard deviation and error in mean calculated numerically and that determined by assuming that the data can be described by a Gaussian distribution is in good agreement:\n",
    "\n",
    "|Computation|Numerical result from data|Gaussian fit of Histogram|\n",
    "|:---|:-------------|:-----------|\n",
    "|Mean|10.1618470|10.1940640|\n",
    "|Error in mean|0.13683854|0.11287058|\n",
    "|Standard deviation|1.93518916|1.93253613|\n",
    "\n",
    "The square root method was used for binning to ensure that it captured the major characteristics of the distribution visually without having too many to create a combing effect or becoming computationally intensive for the fitting process.\n"
   ]
  },
  {
   "cell_type": "markdown",
   "metadata": {},
   "source": [
    "# 4.a.i\n",
    "\n",
    "For the function to be a PDF, it needs to meet all of the following three criteria:\n",
    "\n",
    "1. It is positive number everywhere (Not negative); $P(A_j) \\ge 0 \\;\\; \\forall \\;\\; A_j|$\n",
    "2. It is normalised; $ \\sum_jP(A_j) =1$\n",
    "3. Single valued. If 2 events (Say, $A_1$, $A_2$) are independent, then $P(A_1\\&A_2)=P(A_1)P(A_2)$"
   ]
  },
  {
   "cell_type": "markdown",
   "metadata": {},
   "source": [
    "Regarding allowable values of $f(\\phi;A,\\sum)$:\n",
    "\n",
    "We understand that $\\phi$ can range from $-\\pi$ to $\\pi$, which means that $cos(2\\phi)$ can range from -1 to 1. For this to be a PDF, we need to normalise it:\n",
    "\n",
    "$\\int_{-\\pi}^{\\pi}f(\\phi;A,\\sum)=1.0$\n",
    "\n",
    "$\\int_{-\\pi}^{\\pi}f(\\phi;A,\\sum)=\\int_{-\\pi}^{\\pi}A(1-\\sum{cos(2\\phi)})d\\phi$\n",
    "\n",
    "$=A(\\phi-\\frac{1}{2}\\sum{sin2\\phi})\\large{|}_{-\\pi}^\\pi\\\\\n",
    "=A(\\pi-\\frac{1}{2}\\sum{sin2\\pi})-A(-\\pi-\\frac{1}{2}\\sum{sin(-2\\pi)})\\\\\n",
    "=A\\pi+A\\pi=2A\\pi\\\\\n",
    "\\therefore A=\\frac{1}{2\\pi}$\n",
    "\n",
    "\n",
    "\n"
   ]
  },
  {
   "cell_type": "markdown",
   "metadata": {},
   "source": [
    "# 4.a.ii\n",
    "\n",
    "The likelihood function is the product of the individual PDFs\n",
    "\n",
    "$\n",
    "L=\\prod_i f(\\phi;A,\\sum)\\\\\n",
    "=\\prod_i \\frac{1}{2\\pi}(1-\\sum{cos(2\\phi)})\\\\"
   ]
  }
 ],
 "metadata": {
  "kernelspec": {
   "display_name": "Python 3.9.7 64-bit",
   "language": "python",
   "name": "python3"
  },
  "language_info": {
   "codemirror_mode": {
    "name": "ipython",
    "version": 3
   },
   "file_extension": ".py",
   "mimetype": "text/x-python",
   "name": "python",
   "nbconvert_exporter": "python",
   "pygments_lexer": "ipython3",
   "version": "3.9.7"
  },
  "orig_nbformat": 4,
  "vscode": {
   "interpreter": {
    "hash": "c3e398d72e9d09362d390ad7613d3e96245d496e2d29a6d4d81e2def20d641c6"
   }
  }
 },
 "nbformat": 4,
 "nbformat_minor": 2
}
