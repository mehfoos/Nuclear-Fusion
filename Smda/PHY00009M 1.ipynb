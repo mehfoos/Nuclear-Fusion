{
 "cells": [
  {
   "cell_type": "markdown",
   "metadata": {},
   "source": [
    "**Exam number**: Y3902375\n",
    "\n",
    "**Module code and assignment number**: PHY00009M Assignment 1 (Final Assignment)\n",
    "\n",
    "**Number of pages in pdf**: TBD\n",
    "\n",
    "# Statistical Methods and Data Analysis"
   ]
  },
  {
   "cell_type": "markdown",
   "metadata": {},
   "source": [
    "# 1.a"
   ]
  },
  {
   "cell_type": "code",
   "execution_count": 203,
   "metadata": {},
   "outputs": [
    {
     "name": "stdout",
     "output_type": "stream",
     "text": [
      "time = [1. 2. 3. 4. 5. 6.]\n",
      "distance = [ 12.  40.  62.  78.  96. 120.]\n"
     ]
    }
   ],
   "source": [
    "import matplotlib.pyplot as plt # For plotting\n",
    "import numpy as np # For mathematics, relevant data structure operations, etc.\n",
    "\n",
    "# Represent the data given in question\n",
    "measurementError = 3\n",
    "time = np.array([1.0, 2.0, 3.0, 4.0, 5.0, 6.0])\n",
    "distance = np.array([12., 40, 62, 78, 96, 120])\n",
    "\n",
    "# Print the values as confirmation\n",
    "print(\"time =\",time)\n",
    "\n",
    "print(\"distance =\",distance)"
   ]
  },
  {
   "cell_type": "markdown",
   "metadata": {},
   "source": [
    "**Plot of data**"
   ]
  },
  {
   "cell_type": "code",
   "execution_count": 204,
   "metadata": {},
   "outputs": [
    {
     "data": {
      "image/png": "[encoded data removed]",
      "text/plain": [
       "<Figure size 432x288 with 1 Axes>"
      ]
     },
     "metadata": {
      "needs_background": "light"
     },
     "output_type": "display_data"
    }
   ],
   "source": [
    "plt.title('Distance vs Time Plot')\n",
    "plt.xlabel('Time [s]')\n",
    "plt.ylabel('Distance [mm]')\n",
    "plt.errorbar(time, distance, yerr=measurementError, fmt=\".b\", label = \"Measured Value\")\n",
    "plt.show()"
   ]
  },
  {
   "cell_type": "markdown",
   "metadata": {},
   "source": [
    "Note that the plot shows the measurement error of 3mm, as per the question.\n",
    "\n",
    "**Equation to estimate trolley speeds and Necessity of zeroth order**\n",
    "\n",
    "Since the question says that the speed is constant, the distance would be simply the unknown speed multiplied by time, from basic kinematics.\n",
    "\n",
    "$$ distance = {speed}\\times {time} + distance_{initial} $$\n",
    "\n",
    "This is essentially a linear function of time (commonly denoted in general linear functions as $x$), with speed being the slope (commonly denoted as $m$) and the initial distance being the constant offset (commonly denoted as $c$).\n",
    "\n",
    "But given how the question says that the trolley passes through reference for distance measurement ($d=0$) at exactly time $t=0$, we know that: $ distance_{initial} = 0 $ \n",
    "\n",
    "Therefore, zeroth order term, or the offset, is not required. Instead, the equation can be:\n",
    "\n",
    "$$ distance = {speed}\\times {time}$$\n",
    "\n",
    "**Note:**\n",
    "\n",
    "Note that given how the stroboscope has an error of 3mm, if we know more about this error to conclude that it has a zeroth order component (systematic error offset, for instance), then it may justify the use of a zeroth order in the fit model, given how it would be rectified when accounting for the instrumentation. However, it is assumed that all possible known error corrections have already been accounted for in the measurements and the 3mm error is random in nature. Therefore, a zeroth order term (offset is not required)."
   ]
  },
  {
   "cell_type": "markdown",
   "metadata": {},
   "source": [
    "# 1.b"
   ]
  },
  {
   "cell_type": "markdown",
   "metadata": {},
   "source": [
    "We can use Python's least squares minimisation to get the estimate of speed (or $m$). We're forcing a 0 intercept to avoid 0th term.\n",
    "\n",
    "Velocity and uncertainty estimate using least squares fitting (assuming 0 intercept):"
   ]
  },
  {
   "cell_type": "code",
   "execution_count": 205,
   "metadata": {},
   "outputs": [
    {
     "name": "stdout",
     "output_type": "stream",
     "text": [
      "Least Squares solution =  [19.67032967]\n",
      "Sums of squared residuals =  [78.10989011]\n",
      "Rank =  1\n",
      "Singular Values of timeRestruct =  [19.67032967]\n",
      "\n",
      "RESULTS:\n",
      "Velocity Estimate (assuming 0 intercept) =  [19.67032967]\n",
      "Uncertainty (Root of sum of squared residuals) =  [8.83797998]\n",
      "Overall uncertainty (including measurement error) =  [9.33326792]\n",
      "\n"
     ]
    }
   ],
   "source": [
    "timeRestruct = time[:,np.newaxis] # Making it column vector; we're forcing a zero intercept to avoid 0th order term\n",
    "\n",
    "lstsqResult = np.linalg.lstsq(timeRestruct,distance,rcond=None) # rcond suppresses FutureWarning\n",
    "lstsqRtRSS = np.sqrt(lstsqResult[1])\n",
    "\n",
    "print(\"Least Squares solution = \", lstsqResult[0])\n",
    "print(\"Sums of squared residuals = \", lstsqResult[1])\n",
    "print(\"Rank = \", lstsqResult[2])\n",
    "print(\"Singular Values of timeRestruct = \", lstsqResult[0])\n",
    "\n",
    "\n",
    "lstsq0interceptSpeed = lstsqResult[0]\n",
    "overallUncertainty = np.sqrt(lstsqResult[1] + np.square(measurementError))\n",
    "\n",
    "print(\"\\nRESULTS:\")\n",
    "print(\"Velocity Estimate (assuming 0 intercept) = \", lstsq0interceptSpeed)\n",
    "print(\"Uncertainty (Root of sum of squared residuals) = \", lstsqRtRSS)\n",
    "print(\"Overall uncertainty (including measurement error) = \", overallUncertainty)\n",
    "print()\n",
    "\n",
    "distanceFit = time*lstsq0interceptSpeed\n"
   ]
  },
  {
   "cell_type": "code",
   "execution_count": 206,
   "metadata": {},
   "outputs": [
    {
     "data": {
      "image/png": "[encoded data removed]",
      "text/plain": [
       "<Figure size 432x288 with 1 Axes>"
      ]
     },
     "metadata": {
      "needs_background": "light"
     },
     "output_type": "display_data"
    }
   ],
   "source": [
    "# Plot:\n",
    "plt.title('Distance vs Time Plot')\n",
    "plt.xlabel('Time [s]')\n",
    "plt.ylabel('Distance [mm]')\n",
    "plt.errorbar(time, distance, yerr=measurementError, fmt=\".b\", label = \"Measured\")\n",
    "plt.plot(time, distanceFit, color='red', label=\"Fit to Measured; 0 intercept\")\n",
    "plt.legend()\n",
    "plt.show()"
   ]
  },
  {
   "cell_type": "markdown",
   "metadata": {},
   "source": [
    "# 1.c\n",
    "\n",
    "Analytical solution:\n",
    "For a straight line fit to a data set $\\{x_i,y_i\\}$ with common uncertainty $\\sigma$ we have $f(x_i;m,c)=m\\cdot x_i + c$, and:\n",
    "\n",
    "$\n",
    "\\chi^2  =  \\sum_i \\frac{\\left(y_i-f(x_i;\\vec{a})\\right)^2}{\\sigma^2} = \\sum_i \\frac{\\left(y_i-mx_i-c\\right)^2}{\\sigma^2}\n",
    "$\n",
    "\n",
    "*However*, as covered earlier, the offset or zeroth term is not necessary given the explicit information available in the question. So this instead becomes:\n",
    "\n",
    "$\n",
    "\\chi^2  =  \\sum_i \\frac{\\left(y_i-f(x_i;\\vec{a})\\right)^2}{\\sigma^2} = \\sum_i \\frac{\\left(y_i-mx_i\\right)^2}{\\sigma^2}\n",
    "$\n",
    "\n",
    "Differentiating and equating to zero, we get:\n",
    "\n",
    "$\n",
    "\\left.\\frac{d \\chi^2}{d m}\\right|_{m=\\widehat{m}}  =  \\frac{1}{\\sigma^2}\\sum_i -2\\left(y_i - \\widehat{m}x_i\\right)x_i = 0 \\\\\n",
    "$\n",
    "\n",
    "Which becomes:\n",
    "\n",
    "$ 0  =  \\overline{xy} - \\widehat{m}\\overline{x^2}$\n",
    "\n",
    "Therefore,\n",
    "$ \\widehat{m} =  \\frac{\\overline{xy}}{\\overline{x^2}} = \\frac{\\overline{y}}{\\overline{x}}$\n",
    "\n",
    "This is essentially dividing average distance by average time:\n",
    "\n",
    "$$ \\widehat{speed} = \\frac{\\overline{distance}}{\\overline{time}}$$\n"
   ]
  },
  {
   "cell_type": "code",
   "execution_count": 207,
   "metadata": {},
   "outputs": [
    {
     "name": "stdout",
     "output_type": "stream",
     "text": [
      "Analytical solution from least squares minimisation =  19.428571428571427\n",
      "Difference in python numerical and analytical method for least squares minimisation:  [1.24434389] %\n"
     ]
    }
   ],
   "source": [
    "timeMean=time.mean()\n",
    "distanceMean=distance.mean()\n",
    "analyticalM = distanceMean/timeMean\n",
    "\n",
    "print(\"Analytical solution from least squares minimisation = \", analyticalM)\n",
    "print(\"Difference in python numerical and analytical method for least squares minimisation: \", 100*abs(1-(lstsq0interceptSpeed/analyticalM)), \"%\")"
   ]
  },
  {
   "cell_type": "markdown",
   "metadata": {},
   "source": [
    "The analytical and numerical solutions are close."
   ]
  },
  {
   "cell_type": "markdown",
   "metadata": {},
   "source": [
    "# 1.d\n",
    "\n",
    "As covered earlier: \n",
    "\n",
    "$\n",
    "\\chi^2  =  \\sum_i \\frac{\\left(y_i-f(x_i;\\vec{a})\\right)^2}{\\sigma^2} = \\sum_i \\frac{\\left(y_i-mx_i\\right)^2}{\\sigma^2}\n",
    "$"
   ]
  },
  {
   "cell_type": "code",
   "execution_count": 208,
   "metadata": {},
   "outputs": [
    {
     "name": "stdout",
     "output_type": "stream",
     "text": [
      "Chi squared =  9.269841269841287\n"
     ]
    }
   ],
   "source": [
    "from scipy.stats import chisquare\n",
    "\n",
    "chiSqr = 0.0 # initialise\n",
    "\n",
    "# Loop through\n",
    "for iCount in range(len(time)):\n",
    "    chiSqr = chiSqr + np.square(distance[iCount]-analyticalM*time[iCount])/np.square(measurementError)\n",
    "\n",
    "print(\"Chi squared = \", chiSqr)"
   ]
  },
  {
   "cell_type": "markdown",
   "metadata": {},
   "source": [
    "If a zeroth term is included, as covered earlier, the value of $\\chi^2$ becomes different:\n",
    "\n",
    "$\n",
    "\\chi^2  =  \\sum_i \\frac{\\left(y_i-f(x_i;\\vec{a})\\right)^2}{\\sigma^2} = \\sum_i \\frac{\\left(y_i-mx_i-c\\right)^2}{\\sigma^2}\n",
    "$"
   ]
  },
  {
   "cell_type": "markdown",
   "metadata": {},
   "source": [
    "**Impact of zeroth term on estimate of speed and uncertainty**\n",
    "\n",
    "In terms of fit, we can expect that the additional degree of freedom helps get a better fit. It cannot be worse, as zeroth order value of 0 would get us back to the assumption we used.\n",
    "However, we have prior knowledge that the speed at 0 distance is 0, and that the speed is constant, which would be wrong with a non-zero zeroth order term. The measurement error remains the same, however, and assuming that the measurement error is not systematic in nature such that it's characterised to have a bias or offset in a direction, we can expect the zeroth term to increase uncertainty in this case."
   ]
  },
  {
   "cell_type": "markdown",
   "metadata": {},
   "source": [
    "# 2.a & 2.b\n",
    "*Please note that 2.a and 2.b are combined here*"
   ]
  },
  {
   "cell_type": "markdown",
   "metadata": {},
   "source": [
    "Data Import and processing:"
   ]
  },
  {
   "cell_type": "code",
   "execution_count": 209,
   "metadata": {},
   "outputs": [],
   "source": [
    "# Library imports for plotting figures and numerical processing\n",
    "import matplotlib.pyplot as plt \n",
    "import numpy as np\n",
    "\n",
    "# Import file as array\n",
    "data1 = np.loadtxt(\"data.txt\")"
   ]
  },
  {
   "cell_type": "markdown",
   "metadata": {},
   "source": [
    "**Arithmetic Mean:**\n",
    "\n",
    "Analytical Formula:\n",
    "\n",
    "$$\\bar{x}=\\frac{1}{N}\\sum_i x_i$$\n",
    "\n",
    "Note: Given large sample set, it is approximated as a \"population\", but for smaller samples, it would be $N-1$ instead of $N$.\n",
    "\n",
    "Computational numerical evaluation:"
   ]
  },
  {
   "cell_type": "code",
   "execution_count": 210,
   "metadata": {},
   "outputs": [
    {
     "name": "stdout",
     "output_type": "stream",
     "text": [
      "Arithmetic Mean of data in data.txt =  10.161846952236985\n"
     ]
    }
   ],
   "source": [
    "print(\"Arithmetic Mean of data in data.txt = \", data1.mean())"
   ]
  },
  {
   "cell_type": "markdown",
   "metadata": {},
   "source": [
    "**Standard Deviation:**\n",
    "\n",
    "Analytical Formula:\n",
    "\n",
    "$$\\sigma(x)=\\sqrt{\\frac{1}{N} \\sum_{i=1}^N (\\bar{x}-x_i)^2}$$\n",
    "\n",
    "Note: This is true for a \"population\", but for smaller samples, $N$ in the denominator would be replaced by $N-1$.\n",
    "\n",
    "Computational numerical evaluation:"
   ]
  },
  {
   "cell_type": "code",
   "execution_count": 211,
   "metadata": {},
   "outputs": [
    {
     "name": "stdout",
     "output_type": "stream",
     "text": [
      "Standard Deviation of data in data.txt =  1.935189163296128\n"
     ]
    }
   ],
   "source": [
    "print(\"Standard Deviation of data in data.txt = \", np.std(data1,ddof=1))"
   ]
  },
  {
   "cell_type": "markdown",
   "metadata": {},
   "source": [
    "**Standard Error:**\n",
    "\n",
    "Analytical Formula:\n",
    "\n",
    "$$Standard Error (x) = \\frac{\\sigma}{\\sqrt{N}}$$\n",
    "\n",
    "Note: This is true for a \"population\", but for smaller samples, $N$ in the denominator would be replaced by $N-1$.\n",
    "\n",
    "Computational numerical evaluation:"
   ]
  },
  {
   "cell_type": "code",
   "execution_count": 212,
   "metadata": {},
   "outputs": [
    {
     "name": "stdout",
     "output_type": "stream",
     "text": [
      "Standard Error of the mean of data in data.txt =  0.13683853802454132\n"
     ]
    }
   ],
   "source": [
    "print(\"Standard Error of the mean of data in data.txt = \", np.std(data1,ddof=1)/np.sqrt(len(data1)))"
   ]
  },
  {
   "cell_type": "markdown",
   "metadata": {},
   "source": [
    "# 2.b\n",
    "\n",
    "Please note that the Analytical Formulae for Arithmetic Mean, Standard Deviation and Standard Error are provided above\n",
    "\n",
    "# 2.c\n",
    "Plots:"
   ]
  },
  {
   "cell_type": "code",
   "execution_count": 213,
   "metadata": {},
   "outputs": [
    {
     "data": {
      "image/png": "[encoded data removed]",
      "text/plain": [
       "<Figure size 432x288 with 1 Axes>"
      ]
     },
     "metadata": {
      "needs_background": "light"
     },
     "output_type": "display_data"
    }
   ],
   "source": [
    "# Plot: Scatter\n",
    "plt.title('Measured Particle Momenta')\n",
    "plt.xlabel('Sample')\n",
    "plt.ylabel('Measured Particle Momenta')\n",
    "plt.plot(data1, color='blue', marker='o', linestyle='None')\n",
    "plt.show()"
   ]
  },
  {
   "cell_type": "markdown",
   "metadata": {},
   "source": [
    "**Scatter plot** does not show obvious signs of data skewing; a histogram chart will help assess it better."
   ]
  },
  {
   "cell_type": "code",
   "execution_count": 214,
   "metadata": {},
   "outputs": [
    {
     "data": {
      "image/png": "[encoded data removed]",
      "text/plain": [
       "<Figure size 432x288 with 1 Axes>"
      ]
     },
     "metadata": {
      "needs_background": "light"
     },
     "output_type": "display_data"
    }
   ],
   "source": [
    "# Plot: Histogram\n",
    "plt.title('Histogram of Measured Particle Momenta')\n",
    "plt.xlabel(\"Measured Particle Momenta\")\n",
    "plt.ylabel(\"Counts\")\n",
    "nBins=int(np.sqrt(len(data1)))\n",
    "# nBins = int(2*np.cbrt(len(data1))) # Rice rule\n",
    "binnedData, lowboundBin, patches=plt.hist(data1, bins =nBins)\n",
    "plt.show()"
   ]
  },
  {
   "cell_type": "code",
   "execution_count": 215,
   "metadata": {},
   "outputs": [
    {
     "name": "stdout",
     "output_type": "stream",
     "text": [
      "Skew of data1.dat = -0.07603210196796277\n"
     ]
    }
   ],
   "source": [
    "from scipy.stats import skew # library package for skew calcs\n",
    "\n",
    "data1Skew = skew(data1)\n",
    "print(\"Skew of data1.dat =\", data1Skew) "
   ]
  },
  {
   "cell_type": "markdown",
   "metadata": {},
   "source": [
    "**Histogram** and the skew calculation reaffirms the observation from scatter plot that the data is distributed without heavy skewing and seems to represent an approximate Gaussian. It may be that the data is truncated at the ends. "
   ]
  },
  {
   "cell_type": "markdown",
   "metadata": {},
   "source": [
    "# 2.d\n",
    "\n",
    "Given the fitting requested is that of a histogram involving counts, we can take the uncertainty for each bin to be $\\sqrt{N}$ where $N$ is the counts in each bin. We can also determine the bin positions and use these $x,y$ values in a least squares fit."
   ]
  },
  {
   "cell_type": "code",
   "execution_count": 216,
   "metadata": {},
   "outputs": [
    {
     "name": "stdout",
     "output_type": "stream",
     "text": [
      "[[Model]]\n",
      "    Model(_eval)\n",
      "[[Fit Statistics]]\n",
      "    # fitting method   = leastsq\n",
      "    # function evals   = 37\n",
      "    # data points      = 14\n",
      "    # variables        = 3\n",
      "    chi-square         = 6.91123621\n",
      "    reduced chi-square = 0.62829420\n",
      "    Akaike info crit   = -3.88272329\n",
      "    Bayesian info crit = -1.96555130\n",
      "    R-squared          = 0.99622514\n",
      "[[Variables]]\n",
      "    amp:  152.828616 +/- 8.72279847 (5.71%) (init = 50)\n",
      "    cen:  10.1940640 +/- 0.11287058 (1.11%) (init = 10)\n",
      "    wid:  1.93253613 +/- 0.08755019 (4.53%) (init = 0.2)\n"
     ]
    }
   ],
   "source": [
    "# (Based on Practical 3 Answers from SDAM course)\n",
    "\n",
    "from lmfit.models import ExpressionModel\n",
    "\n",
    "binnedUnc=[]\n",
    "xvalues=[]\n",
    "for i in range(len(binnedData)):\n",
    "    binnedUnc.append(np.sqrt(binnedData[i]))\n",
    "    xvalues.append((lowboundBin[i]+lowboundBin[i+1])/2)\n",
    "    \n",
    "y=binnedData\n",
    "x=xvalues\n",
    "ery=binnedUnc\n",
    "recery=np.reciprocal(ery)\n",
    "gmod = ExpressionModel(\"amp * exp(-(x-cen)**2 /(2*wid**2))/(sqrt(2*pi)*wid)\")\n",
    "result = gmod.fit(y, x=x, amp=50, cen=10, wid=0.2,weights=recery)\n",
    "print(result.fit_report())"
   ]
  },
  {
   "cell_type": "code",
   "execution_count": 217,
   "metadata": {},
   "outputs": [
    {
     "data": {
      "image/png": "[encoded data removed]",
      "text/plain": [
       "<Figure size 432x288 with 1 Axes>"
      ]
     },
     "metadata": {
      "needs_background": "light"
     },
     "output_type": "display_data"
    }
   ],
   "source": [
    "# (Based on Practical 3 Answers from SDAM course)\n",
    "plt.title('Gaussian fit of Histogram of Measured Momenta')\n",
    "plt.errorbar(x, y,ery,ls='', marker='.')\n",
    "plt.plot(x, result.init_fit, '--', label='initial fit')\n",
    "plt.plot(x, result.best_fit, '-', label='best fit')\n",
    "plt.xlabel('Measured Particle Momenta')\n",
    "plt.ylabel('counts')\n",
    "plt.legend()\n",
    "plt.show()"
   ]
  },
  {
   "cell_type": "markdown",
   "metadata": {},
   "source": [
    "Based on the fit results:\n",
    "\n",
    "**Mean** would be the centre, which is 10.1940640 +/- 0.11287058 (1.11%)\n",
    "\n",
    "**Standard Deviation** would be given by 'wid', which is 1.93253613 +/- 0.08755019 (4.53%)"
   ]
  },
  {
   "cell_type": "markdown",
   "metadata": {},
   "source": [
    "# 2.e\n",
    "\n",
    "The mean, standard deviation and error in mean calculated numerically and that determined by assuming that the data can be described by a Gaussian distribution is in good agreement:\n",
    "\n",
    "|Computation|Numerical result from data|Gaussian fit of Histogram|\n",
    "|:---|:-------------|:-----------|\n",
    "|Mean|10.1618470|10.1940640|\n",
    "|Error in mean|0.13683854|0.11287058|\n",
    "|Standard deviation|1.93518916|1.93253613|\n",
    "\n",
    "The square root method was used for binning to ensure that it captured the major characteristics of the distribution visually without having too many to create a combing effect or becoming computationally intensive for the fitting process.\n"
   ]
  },
  {
   "cell_type": "markdown",
   "metadata": {},
   "source": [
    "# 3.a.i\n",
    "\n",
    "For the function to be a PDF, it needs to meet all of the following three criteria:\n",
    "\n",
    "1. It is positive number everywhere (Not negative); $P(A_j) \\ge 0 \\;\\; \\forall \\;\\; A_j|$\n",
    "2. It is normalised; $ \\sum_jP(A_j) =1$\n",
    "3. Single valued. If 2 events (Say, $A_1$, $A_2$) are independent, then $P(A_1\\&A_2)=P(A_1)P(A_2)$"
   ]
  },
  {
   "cell_type": "markdown",
   "metadata": {},
   "source": [
    "Regarding allowable values of $f(\\phi;A,\\sum)$:\n",
    "\n",
    "We understand that $\\phi$ can range from $-\\pi$ to $\\pi$, which means that $cos(2\\phi)$ can range from -1 to 1. For this to be a PDF, we need to normalise it:\n",
    "\n",
    "$\\int_{-\\pi}^{\\pi}f(\\phi;A,\\Sigma)=1.0$\n",
    "\n",
    "$\\int_{-\\pi}^{\\pi}f(\\phi;A,\\Sigma)=\\int_{-\\pi}^{\\pi}A(1-{\\Sigma}cos(2\\phi))d\\phi$"
   ]
  },
  {
   "cell_type": "markdown",
   "metadata": {},
   "source": [
    "\n",
    "\n",
    "$=A(\\phi-\\frac{1}{2}{\\Sigma}sin2\\phi)\\large{|}_{-\\pi}^\\pi\\\\\n",
    "=A(\\pi-\\frac{1}{2}{\\Sigma}sin2\\pi)-A(-\\pi-\\frac{1}{2}{\\Sigma}sin(-2\\pi))\\\\\n",
    "=A\\pi+A\\pi=2A\\pi\\\\\n",
    "\\\\\n",
    "\\therefore A=\\frac{1}{2\\pi}$\n",
    "\n",
    "This is the value A needs to be. There doesn't appear to be a constraint for $\\Sigma$.\n",
    "\n"
   ]
  },
  {
   "cell_type": "markdown",
   "metadata": {},
   "source": [
    "# 3.a.ii\n",
    "\n",
    "The likelihood function is the product of the individual PDFs\n",
    "\n",
    "$\n",
    "L=\\prod_i f(\\phi;A,\\Sigma)\\\\\n",
    "=\\prod_i \\frac{1}{2\\pi}(1-{\\Sigma}cos(2\\phi))\\\\\n",
    "$\n"
   ]
  },
  {
   "cell_type": "markdown",
   "metadata": {},
   "source": [
    "\n",
    "From this the loglikelihood (LL) is\n",
    "\n",
    "$LL=\\ln\\left(\\prod_i f(\\phi;A,\\Sigma)\\right)$\n",
    "\n",
    "$=(\\sum_{i}^{N}{-\\ln2\\pi}) + (\\sum_{i}^{N}{\\ln(1-{\\Sigma}cos(2\\phi))})$\n",
    "\n",
    "Differentiating with respect to ${\\Sigma}$ and equating to 0, we get:\n",
    "\n",
    "\n"
   ]
  },
  {
   "cell_type": "markdown",
   "metadata": {},
   "source": [
    "$0 = 0 - \\frac{d}{d{\\Sigma}}(\\sum_{i}^{N}{\\ln(1-{\\Sigma}cos(2\\phi))})$\n"
   ]
  },
  {
   "cell_type": "markdown",
   "metadata": {},
   "source": [
    "$0 = \\sum_{i}^{N}(\\frac{\\frac{d}{d{\\Sigma}}1 - cos(2\\phi)\\frac{d}{d{\\Sigma}}{\\Sigma}}{1 - cos(2\\phi){\\Sigma}}$"
   ]
  },
  {
   "cell_type": "markdown",
   "metadata": {},
   "source": [
    "$0 = \\sum_{i}^{N}\\frac{cos(2\\phi)}{1-cos(2\\phi){\\Sigma}}$"
   ]
  },
  {
   "cell_type": "markdown",
   "metadata": {},
   "source": [
    "\n",
    "Now, applying Taylor expansion approximation, assuming $\\Sigma$ is small:\n",
    "\n",
    "$0 = \\sum_{i}^{N}cos(2\\phi)(1+cos(2\\phi){\\Sigma})$"
   ]
  },
  {
   "cell_type": "markdown",
   "metadata": {},
   "source": [
    "$0 = {\\sum_{i}^{N}{cos(2\\phi_i)}}(1 + \\hat{\\Sigma}{cos(2\\phi)})$"
   ]
  },
  {
   "cell_type": "markdown",
   "metadata": {},
   "source": [
    "$0 = \\hat{{\\Sigma}}{\\sum_{i}^{N}{cos^2(2\\phi_i)}} + {\\sum_{i}^{N}{cos(2\\phi_i)}}$\n",
    "\n",
    "$\\therefore \\hat{{\\Sigma}}=-\\frac{\\sum_{i}^{N}{cos(2\\phi_i)}}{\\sum_{i}^{N}{cos^2(2\\phi_i)}}$"
   ]
  },
  {
   "cell_type": "markdown",
   "metadata": {},
   "source": [
    "# 3.a.iii\n",
    "\n",
    "To show that this is a maximum, the second derivative should be negative at $\\sum=\\hat{\\sum}$:\n",
    "\n",
    "$\n",
    "\\frac{\\partial^2LL}{\\partial \\sum^2}=-\\sum_{i}^{N}{cos^2(2\\phi_i)}\n",
    "$"
   ]
  },
  {
   "cell_type": "markdown",
   "metadata": {},
   "source": [
    "The uncertainty of the MLE from the MVB (Minimum Variance Bound) is given by \n",
    "\n",
    "$V(\\hat{\\sum})\\ge\\frac{-1}{\\frac{d^2 LL}{d\\sum^2}\\large{|}_{\\sum=\\hat{\\sum}}}$\n",
    "\n",
    ",which gives a variance:\n",
    "\n",
    "$\n",
    "V(\\hat{\\sum})=\\frac{1}{\\sum_{i}^{N}{cos^2(2\\phi_i)}}\n",
    "$"
   ]
  },
  {
   "cell_type": "markdown",
   "metadata": {},
   "source": [
    "The uncertainty is just $\\sigma_{\\hat{\\sum}}=\\sqrt{V(\\hat{\\sum})} = \\frac{1}{\\sqrt{\\sum_{i}^{N}{cos^2(2\\phi_i)}}}$"
   ]
  },
  {
   "cell_type": "markdown",
   "metadata": {},
   "source": [
    "# 3.b.i\n",
    "\n",
    "Data import and processing"
   ]
  },
  {
   "cell_type": "code",
   "execution_count": 218,
   "metadata": {},
   "outputs": [],
   "source": [
    "# Library imports for plotting figures and numerical processing\n",
    "import matplotlib.pyplot as plt \n",
    "import numpy as np\n",
    "\n",
    "# Import file as array\n",
    "data2 = np.loadtxt(\"Sigma.dat\")"
   ]
  },
  {
   "cell_type": "code",
   "execution_count": 219,
   "metadata": {},
   "outputs": [
    {
     "name": "stdout",
     "output_type": "stream",
     "text": [
      "sigmaHat =  0.14773655891924067\n",
      "sigmaHatUnc =  0.0063292434034199025\n"
     ]
    }
   ],
   "source": [
    "cos2Phi = np.cos(2*data2)\n",
    "cos2PhiSqr = np.square(cos2Phi)\n",
    "sigmaHat = -np.sum(cos2Phi)/np.sum(cos2PhiSqr)\n",
    "sigmaHatUnc = 1/np.sqrt(sum(cos2PhiSqr))\n",
    "\n",
    "print(\"sigmaHat = \", sigmaHat)\n",
    "print(\"sigmaHatUnc = \", sigmaHatUnc)"
   ]
  },
  {
   "cell_type": "markdown",
   "metadata": {},
   "source": [
    "The calculated numerical values for (reduced significant figures to match dataset):\n",
    "\n",
    "$\\hat{\\Sigma}$ = 0.147737\n",
    "\n",
    "$\\sigma_{\\Sigma}$ (Uncertainty) = 0.00632924"
   ]
  },
  {
   "cell_type": "markdown",
   "metadata": {},
   "source": [
    "# 3.b.ii\n",
    "\n"
   ]
  },
  {
   "cell_type": "code",
   "execution_count": 224,
   "metadata": {},
   "outputs": [
    {
     "data": {
      "image/png": "[encoded data removed]",
      "text/plain": [
       "<Figure size 432x288 with 1 Axes>"
      ]
     },
     "metadata": {
      "needs_background": "light"
     },
     "output_type": "display_data"
    },
    {
     "name": "stdout",
     "output_type": "stream",
     "text": [
      "Uncertainty per bin in sequence:  [28.722813232690143, 30.18277654557314, 29.017236257093817, 30.083217912982647, 30.364452901377952, 30.44667469527666, 32.7566787083184, 32.526911934581186, 32.96968304366907, 33.51119216023208, 33.391615714128, 33.734255586866, 33.555923471125034, 34.02939905434711, 34.39476704383968, 34.17601498127012, 32.12475680841802, 32.2335229225724, 31.22498999199199, 30.83828789021855, 30.315012782448235, 30.528675044947494, 29.444863728670914, 29.32575659723036, 29.29163703175362, 29.664793948382652, 29.154759474226502, 30.4138126514911, 29.647934160747187, 30.919249667480614, 31.22498999199199, 31.843366656181317, 32.60368077380221, 33.36165463522455, 33.67491648096547, 34.10278580995987, 33.06055050963308, 33.075670817082454, 33.52610922848042, 33.12099032335839, 33.03028912982749, 33.0, 32.49615361854384, 31.78049716414141, 31.272991542223778, 30.659419433511783, 29.8496231131986, 28.965496715920477, 29.816103031751148, 29.376861643136763]\n"
     ]
    }
   ],
   "source": [
    "# Based on SDAM Practicals 4\n",
    "\n",
    "# Histogram plot\n",
    "plt.title('Histogram of Measured Azimuthal distribution of outgoing pion')\n",
    "plt.xlabel(\"Radians\")\n",
    "plt.ylabel(\"Counts\")\n",
    "#nBins2=int(np.sqrt(len(data2)))\n",
    "#nBins2 = int(2*np.cbrt(len(data1))) # Rice rule\n",
    "#nBins2 = int(1+np.log2(len(data2))) # Sturge's formula\n",
    "binneddata, binslow, patches=plt.hist(data2,bins=50,lw=0,alpha=.2) \n",
    "nonEmptyBins=[]\n",
    "unc=[]\n",
    "xbins=[]\n",
    "for i in range(len(binneddata-1)):\n",
    "    if binneddata[i]>0:\n",
    "        nonEmptyBins.append(binneddata[i])\n",
    "        unc.append(np.sqrt(binneddata[i]))\n",
    "        xbins.append((binslow[i]+binslow[i+1])/2.0)\n",
    "                     \n",
    "plt.errorbar(xbins, nonEmptyBins,unc,fmt=\"none\")\n",
    "plt.show()\n",
    "\n",
    "print(\"Uncertainty per bin in sequence: \", unc)"
   ]
  },
  {
   "cell_type": "markdown",
   "metadata": {},
   "source": [
    "**Discussion**\n",
    "\n",
    "The Bin size was manually modified, as the square root method led to clutter and combing pattern making it hard to distinguish error bars. The Rice and Sturge's formula did manage to characterise the distribution visually, but I modified it to suit the size and characteristic of the data such that it allows us to see the patters with high enough resolution to still be able to distinguish features like error bars for each bin.\n",
    "\n",
    "Since this is based on counting statistics we can take the uncertainty for each bin to be $\\sqrt{N}$ where $N$ is the counts in each bin. These are shown in the plot as darker shaded blue error bars, and also printed."
   ]
  },
  {
   "cell_type": "markdown",
   "metadata": {},
   "source": [
    "# 3.b.iii\n",
    "\n",
    "Note: Given the wording of the question, I am assuming that $\\sum$ uncertainty, reduced chi-squared are all to be determined by using a least squares fit."
   ]
  },
  {
   "cell_type": "code",
   "execution_count": 229,
   "metadata": {},
   "outputs": [
    {
     "name": "stdout",
     "output_type": "stream",
     "text": [
      "[[Model]]\n",
      "    Model(_eval)\n",
      "[[Fit Statistics]]\n",
      "    # fitting method   = leastsq\n",
      "    # function evals   = 10\n",
      "    # data points      = 50\n",
      "    # variables        = 2\n",
      "    chi-square         = 40.6333039\n",
      "    reduced chi-square = 0.84652716\n",
      "    Akaike info crit   = -6.37174912\n",
      "    Bayesian info crit = -2.54770311\n",
      "    R-squared          = 0.99992997\n",
      "[[Variables]]\n",
      "    amp:    999.183226 +/- 4.11298496 (0.41%) (init = 1000)\n",
      "    Sigma:  0.14696363 +/- 0.00577300 (3.93%) (init = -0.14)\n"
     ]
    },
    {
     "data": {
      "image/png": "[encoded data removed]",
      "text/plain": [
       "<Figure size 432x288 with 1 Axes>"
      ]
     },
     "metadata": {
      "needs_background": "light"
     },
     "output_type": "display_data"
    }
   ],
   "source": [
    "from lmfit.models import ExpressionModel\n",
    "\n",
    "recery=np.reciprocal(unc)\n",
    "gmod = ExpressionModel(\"amp*(1-(Sigma*cos(2*x)))\")\n",
    "result = gmod.fit(nonEmptyBins, x=xbins, amp=1000,Sigma=-0.14,weights=recery)\n",
    "print(result.fit_report())\n",
    "plt.errorbar(xbins, nonEmptyBins, unc,ls='', marker='.')\n",
    "plt.plot(xbins, result.init_fit, '--', label='initial fit')\n",
    "plt.plot(xbins, result.best_fit, '-', label='best fit')\n",
    "plt.xlabel('NMR Values')\n",
    "plt.ylabel('counts')\n",
    "plt.legend()\n",
    "plt.show()"
   ]
  },
  {
   "cell_type": "markdown",
   "metadata": {},
   "source": [
    "**RESULTS**\n",
    "The obtained value for $\\Sigma$ is 0.146964 with an uncertainty of 0.00577300.\n",
    "\n",
    "The reduced chi-square is about 0.85, which indicates a good fit. \n",
    "\n",
    "These values also match the previously calculated values quite well."
   ]
  },
  {
   "cell_type": "markdown",
   "metadata": {},
   "source": [
    "# 4.a\n",
    "\n",
    "Given how the experiment described involves a counting nature, over a time interval with an average expected number of events (for a unique experimental setup), the yields can be expected to follow a Poisson distribution. If the source has an average rate $\\mu$, then the distribution can be expressed as:\n",
    "\n",
    "$$\n",
    "P(x,\\mu)=\\frac{\\mu^x e^{-\\mu}}{x!}\n",
    "$$\n",
    "\n",
    "The expectation value of $x$ is given by $\\langle x\\rangle=\\sum_{x=0}^{\\infty}x P(x,\\mu)$. From this we get \n",
    "\n",
    "$\n",
    "\\langle x\\rangle = \\sum_{x=0}^{\\infty} x\\frac{\\mu^x e^{-\\mu}}{x!}\\\\\n",
    " = \\sum_{x=1}^{\\infty} \\frac{\\mu^x e^{-\\mu}}{(x-1)!} $ dropping out the x=0 term, which yields zero\n",
    "\n",
    "$\n",
    " = \\mu\\sum_{x=1}^{\\infty} \\frac{\\mu^{x-1} e^{-\\mu}}{(x-1)!}\\\\\n",
    "$\n"
   ]
  },
  {
   "cell_type": "markdown",
   "metadata": {},
   "source": [
    "The latter is a poisson distribution with $x'=x-1$. We have previously showed that this distribution is normalised  $\\sum_{x=1}^{\\infty} \\frac{\\mu^{x-1} e^{-\\mu}}{(x-1)!}=1$, and therefore, it yields $\\langle x\\rangle=\\mu$. The variance is given by $V(x)=\\langle x^2\\rangle-\\langle x\\rangle^2$. The value of $\\langle x^2\\rangle$ is determined by\n",
    "$\n",
    "\\langle x^2\\rangle = \\sum_{x=0}^{\\infty} x^2\\frac{\\mu^x e^{-\\mu}}{x!}\\\\\n",
    " = \\sum_{x=0}^{\\infty} x\\frac{\\mu\\mu^{x-1} e^{-\\mu}}{(x-1)!} \\mbox{ dropping out the x=0 term, which yields zero}\\\\\n",
    " = \\mu\\sum_{x=1}^{\\infty} (x'+1)\\frac{\\mu^{x'} e^{-\\mu}}{x'!}\\mbox{ where } x'=x-1\\\\\n",
    " = \\mu\\sum_{x'=0}^{\\infty} x'\\frac{\\mu^{x'} e^{-\\mu}}{x'!}+\\mu\\sum_{x'=0}^{\\infty} \\frac{\\mu^{x'} e^{-\\mu}}{x'!}\n",
    "$\n",
    "#### From this, we know that the PDF is normalised and thus $\\mu\\sum_{x'=0}^{\\infty} \\frac{\\mu^{x'} e^{-\\mu}}{x'!}=\\mu$. We follow the same procedure as before for the first term:\n",
    "$\n",
    "\\langle x^2\\rangle = \\mu\\sum_{x'=0}^{\\infty} x'\\frac{\\mu^{x'} e^{-\\mu}}{x'!}+\\mu\\\\\n",
    " = \\mu\\sum_{x'=1}^{\\infty} \\frac{\\mu\\mu^{x'-1} e^{-\\mu}}{(x'-1)!}+\\mu \\mbox{ dropping out the x'=0 term, which yields zero}\\\\\n",
    " = \\mu^2\\sum_{x''=0}^{\\infty} \\frac{\\mu^{x''} e^{-\\mu}}{x''!}+\\mu\\\\\n",
    " = \\mu^2+\\mu.\n",
    "$\n",
    "#### Therefore, the variance $V(x)=\\langle x^2\\rangle-\\langle x\\rangle^2=\\mu^2+\\mu-\\mu^2=\\mu$. The uncertainty in the measured yield is then $\\sigma_Y=\\sqrt{V(x)}=\\sqrt{\\mu}$. If one measures a yield of N counts, the uncertainty is thus $\\sqrt{N}$.\n",
    "\n",
    "#### (b) As given in the description, the luminosity is proportional to the target density and the target length, such that $L=\\alpha \\rho l$, with $\\alpha$ being the proportionality constant. Given that $\\frac{\\sigma_\\rho}{\\rho}=0.02$ and $\\frac{\\sigma_l}{l}=0.05$, we can apply error probagation to the determination of the luminosity:\n",
    "$\n",
    "\\frac{\\partial L}{\\partial \\rho} = \\alpha l\\\\\n",
    "\\frac{\\partial L}{\\partial l} = \\alpha \\rho\\\\\n",
    "\\sigma_L^2 = \\left(\\frac{\\partial L}{\\partial \\rho}\\right)^2\\sigma_\\rho^2+\\left(\\frac{\\partial L}{\\partial l}\\right)^2\\sigma_l^2.\n",
    "$\n",
    "From these we get\n",
    "$\n",
    "\\sigma_L^2 = \\alpha^2 l^2\\sigma_\\rho^2+\\alpha^2 \\rho^2\\sigma_l^2\\\\\n",
    " = L^2\\left(\\left(\\frac{\\sigma_\\rho}{\\rho}\\right)^2+\\left(\\frac{\\sigma_l}{l}\\right)^2\\right)\n",
    "$\n",
    "#### and thus $\\frac{\\sigma_L}{L}=\\sqrt{0.02^2+0.05^2}=0.054$.\n",
    "#### (c) Following the same procedure as part (b) we get the following partial derivatives and error probagation \n",
    "$\n",
    "\\frac{\\partial d\\sigma}{\\partial Y} = \\frac{1}{LA},\\\\\n",
    "\\frac{\\partial d\\sigma}{\\partial L} = -\\frac{Y}{L^2A},\\\\\n",
    "\\frac{\\partial d\\sigma}{\\partial A} = -\\frac{Y}{LA^2},\\\\\n",
    "\\sigma_{d\\sigma}^2 = \\left(\\frac{\\partial d\\sigma}{\\partial Y}\\right)^2\\sigma_Y^2+\\left(\\frac{\\partial d\\sigma}{\\partial L}\\right)^2\\sigma_L^2+\\left(\\frac{\\partial d\\sigma}{\\partial A}\\right)^2\\sigma_A^2.\n",
    "$\n",
    "#### which gives"
   ]
  },
  {
   "cell_type": "markdown",
   "metadata": {},
   "source": [
    "The uncertainty or standard deviation for the yield, assuming a Poisson distribution, would be the square root of the yield count that was observed in the experiment."
   ]
  }
 ],
 "metadata": {
  "kernelspec": {
   "display_name": "Python 3.9.7 64-bit",
   "language": "python",
   "name": "python3"
  },
  "language_info": {
   "codemirror_mode": {
    "name": "ipython",
    "version": 3
   },
   "file_extension": ".py",
   "mimetype": "text/x-python",
   "name": "python",
   "nbconvert_exporter": "python",
   "pygments_lexer": "ipython3",
   "version": "3.9.7"
  },
  "orig_nbformat": 4,
  "vscode": {
   "interpreter": {
    "hash": "c3e398d72e9d09362d390ad7613d3e96245d496e2d29a6d4d81e2def20d641c6"
   }
  }
 },
 "nbformat": 4,
 "nbformat_minor": 2
}
