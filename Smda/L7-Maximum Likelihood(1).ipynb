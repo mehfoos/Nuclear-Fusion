{
 "cells": [
  {
   "cell_type": "markdown",
   "metadata": {
    "slideshow": {
     "slide_type": "slide"
    }
   },
   "source": [
    "# Maximum Likelihood estimator"
   ]
  },
  {
   "cell_type": "markdown",
   "metadata": {
    "slideshow": {
     "slide_type": "slide"
    }
   },
   "source": [
    "# Outline\n",
    "\n",
    "1. Introduction\n",
    "\n",
    "2. Definition\n",
    "\n",
    "3. Examples"
   ]
  },
  {
   "cell_type": "markdown",
   "metadata": {
    "slideshow": {
     "slide_type": "slide"
    }
   },
   "source": [
    "# Introduction\n"
   ]
  },
  {
   "cell_type": "markdown",
   "metadata": {
    "slideshow": {
     "slide_type": "slide"
    }
   },
   "source": [
    "We need to estimate a parameter from a model. Generally, we select a model — let’s say a linear regression — and use observed data X to create the model’s parameters θ.\n",
    "How are the parameters actually estimated?"
   ]
  },
  {
   "cell_type": "markdown",
   "metadata": {
    "slideshow": {
     "slide_type": "slide"
    }
   },
   "source": [
    "Let’s start with the Probability Density function (PDF) for the Normal\n",
    "\n",
    "\n",
    "\\begin{equation}\n",
    "P(x;\\mu,\\sigma)=\\frac{1}{\\sqrt{2\\pi \\sigma^2}}e^{-\\frac{(x-\\mu)^2}{2\\sigma^2}}\n",
    "\\end{equation}\n"
   ]
  },
  {
   "cell_type": "markdown",
   "metadata": {
    "slideshow": {
     "slide_type": "slide"
    }
   },
   "source": [
    "Let’s say our sample is 5, what is the probability it comes from a distribution of μ = 5 and σ = 3?"
   ]
  },
  {
   "cell_type": "code",
   "execution_count": 1,
   "metadata": {
    "slideshow": {
     "slide_type": "slide"
    }
   },
   "outputs": [
    {
     "name": "stdout",
     "output_type": "stream",
     "text": [
      "the probability is= 0.1329807601338109\n"
     ]
    }
   ],
   "source": [
    "from scipy.stats import norm\n",
    "print('the probability is=',norm.pdf(5, 5, 3))"
   ]
  },
  {
   "cell_type": "markdown",
   "metadata": {
    "slideshow": {
     "slide_type": "slide"
    }
   },
   "source": [
    "What if it came from a distribution with μ = 7 and σ = 3?"
   ]
  },
  {
   "cell_type": "code",
   "execution_count": 2,
   "metadata": {
    "slideshow": {
     "slide_type": "slide"
    }
   },
   "outputs": [
    {
     "name": "stdout",
     "output_type": "stream",
     "text": [
      "the probability is= 0.10648266850745075\n"
     ]
    }
   ],
   "source": [
    "print('the probability is=',norm.pdf(5, 7, 3))"
   ]
  },
  {
   "cell_type": "markdown",
   "metadata": {
    "slideshow": {
     "slide_type": "slide"
    }
   },
   "source": [
    "Consider this sample: x = [4, 5, 7, 8, 8, 9, 10, 5, 2, 3, 5, 4, 8, 9] and let’s compare these values to both PDF ~ N(5, 3) and PDF ~ N(7, 3). Our sample could be drawn from a variable that comes from these distributions, so let’s take a look."
   ]
  },
  {
   "cell_type": "code",
   "execution_count": 3,
   "metadata": {
    "slideshow": {
     "slide_type": "skip"
    }
   },
   "outputs": [],
   "source": [
    "import matplotlib.pyplot as plt\n",
    "import numpy as np\n",
    "import scipy.stats as stats\n",
    "import math"
   ]
  },
  {
   "cell_type": "code",
   "execution_count": 4,
   "metadata": {
    "slideshow": {
     "slide_type": "slide"
    }
   },
   "outputs": [
    {
     "data": {
      "image/png": "[encoded data removed]",
      "text/plain": [
       "<Figure size 432x288 with 2 Axes>"
      ]
     },
     "metadata": {
      "needs_background": "light"
     },
     "output_type": "display_data"
    }
   ],
   "source": [
    "data = [4, 5, 7, 8, 8, 9, 10, 5, 2, 3, 5, 4, 8, 9]\n",
    "\n",
    "x = np.linspace(0,20, 100)\n",
    "plt.subplot(2, 1, 1)\n",
    "plt.plot(x, stats.norm.pdf(x, 5, 3),label=\"N(5,3)\")\n",
    "plt.plot(x, stats.norm.pdf(x, 7, 3),label=\"N(7,3)\")\n",
    "plt.subplot(2, 1, 2)\n",
    "plt.hist(data, bins=100, range=(0,20),label=\"data\")\n",
    "plt.legend()\n",
    "plt.show()"
   ]
  },
  {
   "cell_type": "markdown",
   "metadata": {
    "slideshow": {
     "slide_type": "slide"
    }
   },
   "source": [
    "Which is the value of $\\mu$ and $\\sigma$ that most likely give rise to our data?"
   ]
  },
  {
   "cell_type": "markdown",
   "metadata": {
    "slideshow": {
     "slide_type": "slide"
    }
   },
   "source": [
    "# Definition\n",
    "\n",
    "Given a data sample $X = \\{x_1,x_2,\\dots,x_N\\}$ one applies an estimator $\\hat{a}$ for the quantity $a$.\n",
    "The data values $x_i$ are drawn from some probability density function $P(x,a)$ which depends on $a$. The form of $P$ is given and $a$ specified.\n",
    "The probability of a data set is the product of the individual probabilities.\n",
    "\n",
    "\n",
    "\\begin{eqnarray*}\n",
    "L(x_1,x_2,\\dots,x_N;a)&=&P(x_1;a)P(x_2;a)\\dots P(x_N;a)\\\\\n",
    "&=&\\Pi_i P(x_i;a)\n",
    "\\end{eqnarray*}\n",
    "\n",
    "This product is called likelihood"
   ]
  },
  {
   "cell_type": "markdown",
   "metadata": {
    "slideshow": {
     "slide_type": "slide"
    }
   },
   "source": [
    "The ML estimator for a parameter $a$ is  the procedure which evaluates the parameter value $\\hat{a}$ which makes the actual observations $X$ as likely as possible, that is the set of parameters $\\hat{a}$ which maximises $L(X;a)$. In practice, the logarithm of $L$  is more practical  to work with computationally (numerical stability):\n",
    "\\begin{eqnarray*}\n",
    "\\ln L(X;a)\t& = & \\ln \\left( \\prod_i P(x_i;a) \\right) \\\\\n",
    "\t\t& = & \\sum_i \\ln P(x_i;a),\n",
    "\\end{eqnarray*}\n",
    "The ML estimator $\\hat{a}$ is then the value of $a$ which maximises $\\ln L(X;a)$ (or minimises $-\\ln L(X;a)$). This can be found (in some cases analytically) by:\n",
    "\n",
    "\\begin{eqnarray*}\n",
    "\\left.\\frac{\\mathrm{d}\\,\\ln L}{\\mathrm{d}\\,a}\\right|_{a=\\hat{a}}=0\n",
    "\\end{eqnarray*}"
   ]
  },
  {
   "cell_type": "markdown",
   "metadata": {
    "slideshow": {
     "slide_type": "slide"
    }
   },
   "source": [
    "<img src=\"Barlow-5-1-ML.jpg\" style=\"width:650px;height:650px; transform: rotate(0deg)\" />"
   ]
  },
  {
   "cell_type": "markdown",
   "metadata": {
    "slideshow": {
     "slide_type": "slide"
    }
   },
   "source": [
    "We now apply the definition of log(L) to the previous example. For simplicity we assume that $\\sigma=3$ is known. \n",
    "We will see later on more complex examples"
   ]
  },
  {
   "cell_type": "code",
   "execution_count": 5,
   "metadata": {
    "slideshow": {
     "slide_type": "slide"
    }
   },
   "outputs": [],
   "source": [
    "data=[4, 5, 7, 8, 8, 9, 10, 5, 2, 3, 5, 4, 8, 9] \n",
    "\n",
    "# Compare the likelihood of the random samples to the two \n",
    "# distributions\n",
    "def likelihood(mu,x):\n",
    "    ll = 0\n",
    "    sd=3\n",
    "    for i in x:\n",
    "        ll += np.log(norm.pdf(i, mu, 3))\n",
    "    return ll\n"
   ]
  },
  {
   "cell_type": "code",
   "execution_count": 6,
   "metadata": {
    "scrolled": true,
    "slideshow": {
     "slide_type": "slide"
    }
   },
   "outputs": [
    {
     "data": {
      "image/png": "[encoded data removed]",
      "text/plain": [
       "<Figure size 432x288 with 1 Axes>"
      ]
     },
     "metadata": {
      "needs_background": "light"
     },
     "output_type": "display_data"
    }
   ],
   "source": [
    "import numpy as np\n",
    "\n",
    "mu = np.linspace(0,12, 100)\n",
    "fun=likelihood( mu,data)\n",
    "\n",
    "plt.plot(mu, fun,label=\"Likelihood\")\n",
    "plt.xlabel(\"mu\")\n",
    "plt.legend()\n",
    "plt.show()"
   ]
  },
  {
   "cell_type": "markdown",
   "metadata": {
    "slideshow": {
     "slide_type": "slide"
    }
   },
   "source": [
    "It is better to look for minima than for maxima so let's put a - to the likelihood\n",
    "\n"
   ]
  },
  {
   "cell_type": "code",
   "execution_count": 7,
   "metadata": {
    "slideshow": {
     "slide_type": "slide"
    }
   },
   "outputs": [],
   "source": [
    "data=[4, 5, 7, 8, 8, 9, 10, 5, 2, 3, 5, 4, 8, 9] \n",
    "\n",
    "# Compare the likelihood of the random samples to the two \n",
    "# distributions\n",
    "def llog(mu,x):\n",
    "    ll = 0\n",
    "    sd=3\n",
    "    for i in x:\n",
    "        ll += -np.log(norm.pdf(i, mu, 3))\n",
    "    return ll"
   ]
  },
  {
   "cell_type": "markdown",
   "metadata": {
    "slideshow": {
     "slide_type": "slide"
    }
   },
   "source": [
    "So the routine found that the best value for mu is. actually 6.21 !!!"
   ]
  },
  {
   "cell_type": "code",
   "execution_count": 8,
   "metadata": {
    "slideshow": {
     "slide_type": "slide"
    }
   },
   "outputs": [
    {
     "name": "stdout",
     "output_type": "stream",
     "text": [
      "Optimization terminated successfully.\n",
      "         Current function value: 32.821108\n",
      "         Iterations: 21\n",
      "         Function evaluations: 42\n"
     ]
    },
    {
     "data": {
      "text/plain": [
       "array([6.21425781])"
      ]
     },
     "execution_count": 8,
     "metadata": {},
     "output_type": "execute_result"
    }
   ],
   "source": [
    "import scipy.optimize as opt\n",
    "\n",
    "opt.fmin(llog, 1, args=(data,))"
   ]
  },
  {
   "cell_type": "markdown",
   "metadata": {
    "slideshow": {
     "slide_type": "slide"
    }
   },
   "source": [
    "# (Even more) Examples"
   ]
  },
  {
   "cell_type": "markdown",
   "metadata": {
    "slideshow": {
     "slide_type": "slide"
    }
   },
   "source": [
    "# Lifetime\n",
    "\n",
    "For decays with a lifetime $\\tau$, the (normalised) probability distribution as a function of time $t$ is: $P(t;\\tau)=\\frac{1}{\\tau}\\exp(-t/\\tau)$. We calculate the function $\\ln L$ for this distribution in analytic way\n",
    "\n",
    "\\begin{eqnarray*}\n",
    "\\ln L & = & \\sum_i \\ln\\left(\\frac{1}{\\tau}\\exp(-t_i/\\tau)\\right) \\\\\n",
    "\t& = & \\sum_i \\left( -\\ln \\tau - t_i/\\tau \\right) \\\\\n",
    "\\end{eqnarray*}\n"
   ]
  },
  {
   "cell_type": "markdown",
   "metadata": {
    "slideshow": {
     "slide_type": "slide"
    }
   },
   "source": [
    "Differentiating with respect to $\\tau$ and putting to zero we obtain the estimator $\\hat{\\tau}$\n",
    "The maximum can be found as:\n",
    "\n",
    "\\begin{equation}\n",
    "\\left.\\frac{\\mathrm{d}\\,\\ln L}{\\mathrm{d}\\,\\tau}\\right|_{\\tau=\\hat\\tau} = 0 \\Leftrightarrow \\sum_i\\left(t_i-\\hat\\tau\\right) = 0 \\Leftrightarrow \\hat\\tau = \\frac{1}{N}\\sum_i t_i \n",
    "\\end{equation}\n",
    "This can also be done if the time measurement is restricted, i.e.\\ $P(t;\\tau)$ doesn't extend to $t=\\infty$, which is always the case experimentally "
   ]
  },
  {
   "cell_type": "markdown",
   "metadata": {
    "slideshow": {
     "slide_type": "slide"
    }
   },
   "source": [
    "# Discrete variable\n",
    "\n",
    "Suppose that $X$ is a discrete random variable following the pdf\n",
    "\n",
    "\n",
    "\\begin{eqnarray}\\label{pdf:ici}\n",
    "P(X,\\theta)=\\left\\{ \\begin{array}{cc}\n",
    "2\\theta/3 & x=0\\\\\n",
    "\\theta/3 & x=1\\\\\n",
    "2(1-\\theta)/3 & x=2\\\\\n",
    "(1-\\theta)/3 & x=3\n",
    "\\end{array}\\right.\n",
    "\\end{eqnarray}\n",
    "\n",
    "where $0\\le \\theta \\le1$."
   ]
  },
  {
   "cell_type": "markdown",
   "metadata": {
    "slideshow": {
     "slide_type": "slide"
    }
   },
   "source": [
    "\n",
    "First of all we check that the PDF is normalised\n",
    "\n",
    "\\begin{eqnarray}\n",
    "\\sum_i P(x_i)&=& 2\\frac{\\theta}{3}+\\frac{\\theta}{3}+\\frac{2}{3}(1-\\theta)+\\frac{1}{3}(1-\\theta)=1\n",
    "\\end{eqnarray}\n",
    "\n"
   ]
  },
  {
   "cell_type": "markdown",
   "metadata": {
    "slideshow": {
     "slide_type": "slide"
    }
   },
   "source": [
    "Suppose we have the following sequence : $(3,0,2,1,3,2,1,0,2,1)$. What is the value of $\\hat{\\theta}$?\n",
    "\n",
    "\n",
    "We calculate $\\ln L$\n",
    "\n",
    "\\begin{eqnarray*}\n",
    "\\ln L&=& \\sum_i \\ln P\\\\\n",
    "&=& \\ln P(x=3)+ \\ln P(x=0)+ \\ln P(x=2)+ \\ln P(x=1)+ \\ln P(x=3)+ \\ln P(x=2)\\\\\n",
    "&&+ \\ln P(x=1)+ \\ln P(x=0)+ \\ln P(x=2)+ \\ln P(x=1)\\\\\n",
    "\\end{eqnarray*}\n"
   ]
  },
  {
   "cell_type": "markdown",
   "metadata": {
    "slideshow": {
     "slide_type": "slide"
    }
   },
   "source": [
    ".... continue....\n",
    "\\begin{eqnarray*}\n",
    "&=&2 \\ln P(x=3)+3 \\ln P(x=2)+3 \\ln P(x=1)+2 \\ln P(x=0)\\\\\n",
    "&=&2\\ln \\left( \\frac{2}{3}\\theta\\right)+3\\ln \\left( \\frac{1}{3}\\theta\\right)+3\\ln \\left( \\frac{2}{3}(1-\\theta)\\right)+2\\ln \\left( \\frac{1}{3}(1-\\theta)\\right)\\\\\n",
    "&=&2 \\ln \\frac{2}{3}+2 \\ln \\theta+3\\ln \\frac{1}{3}+3\\ln \\theta\\\\\n",
    "&&+3\\ln \\frac{2}{3}+3\\ln(1-\\theta)+2\\ln\\frac{1}{3}+2\\ln(1-\\theta)\n",
    "\\end{eqnarray*}"
   ]
  },
  {
   "cell_type": "markdown",
   "metadata": {
    "slideshow": {
     "slide_type": "slide"
    }
   },
   "source": [
    "We need to calculate $\\frac{d \\ln L}{d\\theta}=0$ so all terms nodepending on $\\theta$ can be neglected.\n",
    "\n",
    "\\begin{eqnarray}\n",
    "\\frac{d \\ln L}{d\\theta}=5\\frac{1}{\\theta}-\\frac{5}{1-\\theta}=0\\\\\n",
    "1-\\theta -\\theta=0\\\\\n",
    "\\theta=1/2\n",
    "\\end{eqnarray}"
   ]
  },
  {
   "cell_type": "markdown",
   "metadata": {
    "slideshow": {
     "slide_type": "slide"
    }
   },
   "source": [
    "# Multiple dimensions\n",
    "\n",
    "Let's go back to the example involving the Gaussian PDF\n",
    "\n",
    "\n",
    "\\begin{equation}\n",
    "P(x;\\mu,\\sigma)=\\frac{1}{\\sqrt{2\\pi \\sigma^2}}e^{-\\frac{(x-\\mu)^2}{2\\sigma^2}}\n",
    "\\end{equation}\n",
    "\n",
    "Now assume that we want to esimtate both $\\mu$ and $\\sigma$ from a given data-set\n"
   ]
  },
  {
   "cell_type": "code",
   "execution_count": 9,
   "metadata": {
    "slideshow": {
     "slide_type": "slide"
    }
   },
   "outputs": [],
   "source": [
    "# Same data as before\n",
    "\n",
    "data=[4, 5, 7, 8, 8, 9, 10, 5, 2, 3, 5, 4, 8, 9] "
   ]
  },
  {
   "cell_type": "markdown",
   "metadata": {
    "slideshow": {
     "slide_type": "slide"
    }
   },
   "source": [
    "We define the loglikelihood function (with the - sign!)\n"
   ]
  },
  {
   "cell_type": "code",
   "execution_count": 10,
   "metadata": {
    "slideshow": {
     "slide_type": "slide"
    }
   },
   "outputs": [],
   "source": [
    "def llog2(mu,sigma,x):\n",
    "    ll = 0\n",
    "    sd=sigma\n",
    "    for i in x:\n",
    "        ll += -np.log(norm.pdf(i, mu, sd))\n",
    "    return ll"
   ]
  },
  {
   "cell_type": "code",
   "execution_count": 11,
   "metadata": {
    "slideshow": {
     "slide_type": "slide"
    }
   },
   "outputs": [],
   "source": [
    "import matplotlib\n",
    "import numpy as np\n",
    "import matplotlib.cm as cm\n",
    "import matplotlib.pyplot as plt\n",
    "\n",
    "\n",
    "mu = np.linspace(1,10, 100)\n",
    "sigma = np.linspace(1,4, 100)\n",
    "\n",
    "X, Y = np.meshgrid(mu, sigma)\n",
    "Z = llog2(X,Y,data)"
   ]
  },
  {
   "cell_type": "code",
   "execution_count": 27,
   "metadata": {
    "slideshow": {
     "slide_type": "slide"
    }
   },
   "outputs": [
    {
     "data": {
      "image/png": "[encoded data removed]",
      "text/plain": [
       "<Figure size 432x288 with 2 Axes>"
      ]
     },
     "metadata": {
      "needs_background": "light"
     },
     "output_type": "display_data"
    }
   ],
   "source": [
    "import matplotlib.pyplot as plt\n",
    "from matplotlib.colors import BoundaryNorm\n",
    "from matplotlib.ticker import MaxNLocator\n",
    "import pylab as py\n",
    "\n",
    "fig, ax = plt.subplots(constrained_layout=True)\n",
    "levels = MaxNLocator(nbins=55).tick_values(Z.min(), Z.max())\n",
    "cmap = plt.get_cmap('RdGy')\n",
    "norm = BoundaryNorm(levels, ncolors=cmap.N, clip=True)\n",
    "pc=ax.contourf(X,Y, Z,cmap=cmap,norm=norm)\n",
    "CS = plt.contour(X,Y,Z,100,linewidths=0.5,colors='k')\n",
    "cbar = fig.colorbar(CS)\n",
    "cbar.ax.set_ylabel('LL')\n",
    "\n",
    "plt.ylabel('$\\sigma$')\n",
    "plt.xlabel('$\\mu$')\n",
    "ax.grid()\n",
    "plt.show()"
   ]
  },
  {
   "cell_type": "code",
   "execution_count": 21,
   "metadata": {
    "slideshow": {
     "slide_type": "skip"
    }
   },
   "outputs": [],
   "source": [
    "#WARNING: In this case I was not able to use in minimize function \n",
    "#def llog2(mu,sigma,x):\n",
    "#    ll = 0\n",
    "#    sd=sigma\n",
    "#    for i in x:\n",
    "#        ll += -np.log(norm.pdf(i, mu, sd))\n",
    "#    return ll\n",
    "#    \n",
    "#I had to group mu and sigma into a tuple (params) and hard-code the data inside the function... if you can do better than this please correct my code"
   ]
  },
  {
   "cell_type": "code",
   "execution_count": 14,
   "metadata": {
    "slideshow": {
     "slide_type": "slide"
    }
   },
   "outputs": [],
   "source": [
    "import scipy.optimize as opt\n",
    "from scipy.stats import norm\n",
    "\n",
    "def llog3(params):\n",
    "    ll = 0\n",
    "    a, b= params\n",
    "    data=[4, 5, 7, 8, 8, 9, 10, 5, 2, 3, 5, 4, 8, 9] \n",
    "    for i in data:\n",
    "        ll += -np.log(norm.pdf(i, a, b))\n",
    "    return ll\n"
   ]
  },
  {
   "cell_type": "code",
   "execution_count": 15,
   "metadata": {
    "slideshow": {
     "slide_type": "slide"
    }
   },
   "outputs": [
    {
     "name": "stdout",
     "output_type": "stream",
     "text": [
      "[6.21428525 2.42541826]\n"
     ]
    }
   ],
   "source": [
    "x0=[6,3]\n",
    "\n",
    "res=opt.minimize(llog3,x0)\n",
    "print(res.x)"
   ]
  }
 ],
 "metadata": {
  "celltoolbar": "Slideshow",
  "kernelspec": {
   "display_name": "Python 3 (ipykernel)",
   "language": "python",
   "name": "python3"
  },
  "language_info": {
   "codemirror_mode": {
    "name": "ipython",
    "version": 3
   },
   "file_extension": ".py",
   "mimetype": "text/x-python",
   "name": "python",
   "nbconvert_exporter": "python",
   "pygments_lexer": "ipython3",
   "version": "3.9.7"
  }
 },
 "nbformat": 4,
 "nbformat_minor": 2
}
