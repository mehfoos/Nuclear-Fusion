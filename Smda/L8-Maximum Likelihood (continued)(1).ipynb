{
 "cells": [
  {
   "cell_type": "markdown",
   "metadata": {
    "slideshow": {
     "slide_type": "slide"
    }
   },
   "source": [
    "# Maximum Likelihood Estimator (part2)"
   ]
  },
  {
   "cell_type": "markdown",
   "metadata": {
    "slideshow": {
     "slide_type": "slide"
    }
   },
   "source": [
    "# Outline\n",
    "\n",
    "1. More examples\n",
    "\n",
    "2. Properties of MLE\n",
    "\n",
    "3. Errors on MLE\n",
    "\n",
    "4. MCMC"
   ]
  },
  {
   "cell_type": "markdown",
   "metadata": {
    "slideshow": {
     "slide_type": "slide"
    }
   },
   "source": [
    "# More examples"
   ]
  },
  {
   "cell_type": "markdown",
   "metadata": {
    "slideshow": {
     "slide_type": "slide"
    }
   },
   "source": [
    "# Pareto distribution\n",
    "\n",
    "The Pareto distribution has quite a large usage in economics. It has the form\n",
    "\n",
    "\\begin{eqnarray}\n",
    "f(x; x_0\\theta)=\\theta x_0^{\\theta}x^{-\\theta-1}\n",
    "\\end{eqnarray}\n",
    "\n",
    "$x\\ge x_0$ and $\\theta>1$. We also assume $x_0>0$."
   ]
  },
  {
   "cell_type": "markdown",
   "metadata": {
    "slideshow": {
     "slide_type": "slide"
    }
   },
   "source": [
    "Assuming a given data set $\\{ x_n\\}$ find an estimator for $\\theta$\n",
    "\n",
    "\n"
   ]
  },
  {
   "cell_type": "markdown",
   "metadata": {
    "slideshow": {
     "slide_type": "slide"
    }
   },
   "source": [
    "We calculate the MLE\n",
    "\n",
    "\\begin{eqnarray}\n",
    "\\ln L &=& \\sum_i \\ln \\left(\\theta x_0^{\\theta}x_i^{-\\theta-1} \\right)\\\\\n",
    "&=&\\sum_i \\ln \\theta+\\theta\\ln x_0-(\\theta+1)\\ln x_i\\\\\n",
    "&=&N \\ln \\theta+N\\theta \\ln x_0 -(\\theta+1)\\sum_i \\ln x_i\n",
    "\\end{eqnarray}\n"
   ]
  },
  {
   "cell_type": "markdown",
   "metadata": {
    "slideshow": {
     "slide_type": "slide"
    }
   },
   "source": [
    "We calculate the derivative respect to $\\theta$ as\n",
    "\n",
    "\n",
    "\n",
    "\\begin{eqnarray}\n",
    "\\frac{d \\ln L}{d \\theta}=0=N\\frac{1}{\\theta}-\\sum_i \\ln x_i +N\\ln x_0\n",
    "\\end{eqnarray}\n",
    "\n",
    "so\n",
    "\n",
    "\\begin{eqnarray}\n",
    "\\theta=\\frac{N}{\\sum_i \\ln x_i -N\\ln x_0}\n",
    "\\end{eqnarray}\n"
   ]
  },
  {
   "cell_type": "markdown",
   "metadata": {
    "slideshow": {
     "slide_type": "slide"
    }
   },
   "source": [
    "# Exponential distribution\n",
    "\n",
    "Assume $\\{x_n\\}$ is a series of independent random variables with PDF\n",
    "\n",
    "\\begin{eqnarray}\n",
    "f(x|\\sigma)=\\frac{1}{2\\sigma}e^{-|x|/\\sigma}\n",
    "\\end{eqnarray}\n",
    "\n",
    "Find an estimator for $\\sigma$.\n"
   ]
  },
  {
   "cell_type": "markdown",
   "metadata": {
    "slideshow": {
     "slide_type": "slide"
    }
   },
   "source": [
    "We calculate the $\\ln L$\n",
    "\n",
    "\n",
    "\\begin{eqnarray}\n",
    "\\ln L&=&\\sum_i -\\ln 2 -\\ln \\sigma -\\frac{|x_i|}{\\sigma}\n",
    "\\end{eqnarray}\n"
   ]
  },
  {
   "cell_type": "markdown",
   "metadata": {
    "slideshow": {
     "slide_type": "slide"
    }
   },
   "source": [
    "the derivative is\n",
    "\n",
    "\\begin{eqnarray}\n",
    "\\frac{d \\ln L}{d \\sigma}&=&0=\\sum_i -\\frac{1}{\\sigma}+\\frac{|x_i|}{\\sigma^2}\\\\\n",
    "&=& -\\frac{N}{\\sigma}+\\frac{\\sum_i|x_i|}{\\sigma^2}\n",
    "\\end{eqnarray}\n",
    "\n",
    "so\n",
    "\n",
    "\\begin{eqnarray}\n",
    "\\sigma=\\frac{\\sum_i |x_i|}{N}\n",
    "\\end{eqnarray}\n"
   ]
  },
  {
   "cell_type": "markdown",
   "metadata": {
    "slideshow": {
     "slide_type": "slide"
    }
   },
   "source": [
    "# Properties of the ML estimator"
   ]
  },
  {
   "cell_type": "markdown",
   "metadata": {
    "slideshow": {
     "slide_type": "slide"
    }
   },
   "source": [
    "#### So how good are ML estimators?\n",
    "\n",
    "#### 1. Consistency: Usually, ML estimators are consistent. That is for increasing data sets, the estimator approaches the true value of the parameter.\n",
    "\n",
    "#### 2. Efficiency\n",
    "\n",
    "\n",
    "\n"
   ]
  },
  {
   "cell_type": "markdown",
   "metadata": {
    "slideshow": {
     "slide_type": "slide"
    }
   },
   "source": [
    "#### No such thing as a generally efficent estimator. Efficiency depends on the case considered. \n",
    "### Limit of Accuracy: Minimum Variance Bound (MVB)\n",
    "\\begin{equation}\n",
    "V(\\hat{a})\\ge\\frac{-1}{d^2 \\log{L}/da^2}\n",
    "\\end{equation}\n",
    "#### For efficient estimators $V(\\hat{a})=MVB$"
   ]
  },
  {
   "cell_type": "markdown",
   "metadata": {
    "slideshow": {
     "slide_type": "slide"
    }
   },
   "source": [
    "#### For a Gaussian distribution:\n",
    "\\begin{equation}\n",
    "L=-\\sum\\frac{(x_i-\\mu)^2}{2\\sigma^2}-N\\ln{\\sigma\\sqrt{2\\pi}}\n",
    "\\end{equation}\n",
    "#### What is the MVB?"
   ]
  },
  {
   "cell_type": "markdown",
   "metadata": {
    "slideshow": {
     "slide_type": "slide"
    }
   },
   "source": [
    "#### 3. Biaseness: However, the ML estimator is often biased. This can be seen by calculating the likelihood function for a data set $\\{x_i\\}$ with a common mean $\\mu$ and uncertainty $\\sigma$:\n",
    "\n",
    "\\begin{equation}\n",
    "P(x_i;\\mu,\\sigma_i) = \\frac{1}{\\sigma\\sqrt{2\\pi}}\\exp\\left(-\\frac{(x_i-\\mu)^2}{2\\sigma^2}\\right)\n",
    "\\end{equation}\n",
    "\n",
    "and find the maximum, where the partial derivatives are zero:\n",
    "\n",
    "\n",
    "\\begin{equation}\n",
    "\\frac{\\partial\\,\\ln L}{\\partial\\,\\mu} = 0\\ \\frac{\\partial\\,\\ln L}{\\partial\\,\\sigma} = 0\n",
    "\\end{equation}\n",
    "\n",
    "The ML estimator for the spread of a gaussian data set is $\\hat\\sigma^2 = \\frac{1}{N}\\sum_i(x_i-\\hat{\\mu})^2$ which as we know is biased (does not include Bessel's correction).\n"
   ]
  },
  {
   "cell_type": "markdown",
   "metadata": {
    "slideshow": {
     "slide_type": "slide"
    }
   },
   "source": [
    "# Errors on ML estimators"
   ]
  },
  {
   "cell_type": "markdown",
   "metadata": {
    "slideshow": {
     "slide_type": "slide"
    }
   },
   "source": [
    "The error on a ML estimator can be found as discussed in relation to the efficiency:\n",
    "\n",
    "\\begin{eqnarray*}\n",
    "\\widehat{\\sigma}_{\\hat{a}}^2 = V(\\hat{a}) = \\mathrm{MVB} =  \\frac{-1}{\\left\\langle \\left(\\frac{\\mathrm{d}^2\\,\\ln L}{\\mathrm{d}a^2}\\right) \\right\\rangle}\n",
    "\\end{eqnarray*}\n",
    "\n",
    "for unbiased, efficient, ML estimators. "
   ]
  },
  {
   "cell_type": "markdown",
   "metadata": {
    "slideshow": {
     "slide_type": "slide"
    }
   },
   "source": [
    "<img src=\"Barlow-5-2-ML-sigma.jpg\" style=\"width:650px;height:650px; transform: rotate(0deg)\" />"
   ]
  },
  {
   "cell_type": "markdown",
   "metadata": {
    "slideshow": {
     "slide_type": "slide"
    }
   },
   "source": [
    "For several variables ($N$), the vector of estimated parameters $\\widehat{\\vec{a}}$ is found by minimising the $N$-dimensional function  $-\\ln\\,L$. The inverse of the covariance matrix is then given by:\n",
    "\n",
    "    \n",
    "$\\mathrm{cov}^{-1}(a_i,a_j) = -\\left.\\frac{\\partial^2\\,\\ln\\,L}{\\partial\\,a_i\\partial\\,a_j}\\right|_{\\vec{a}=\\widehat{\\vec{a}}}$\n",
    "\n",
    "Inverse of the Hessian matrix (https://en.wikipedia.org/wiki/Hessian_matrix)\n",
    "\n"
   ]
  },
  {
   "cell_type": "markdown",
   "metadata": {
    "slideshow": {
     "slide_type": "slide"
    }
   },
   "source": [
    "#### MLE provides us with efficient and unbiased estimation when N is large. There is no loss of information through binning as all experimental information is used. It provides errors on its estimates. At small N, however, estimators CAN be biased. You need to make assumptions about the parent PDF and there is no way of estimating a \"Goodness of fit\""
   ]
  },
  {
   "cell_type": "markdown",
   "metadata": {
    "slideshow": {
     "slide_type": "slide"
    }
   },
   "source": [
    "## Bayesian Inference and MCMC\n",
    "\n",
    "#### Bayesian inference is a method in which we use Bayes’ Theorem to update our understanding of a probability or a parameter as we gather more data and evidence.\n",
    "\n",
    "#### Markov chain Monte Carlo (MCMC) methods comprise a class of algorithms for sampling from a probability distribution."
   ]
  },
  {
   "cell_type": "markdown",
   "metadata": {
    "slideshow": {
     "slide_type": "slide"
    }
   },
   "source": [
    "#### We consider an example of coin flip factory, where we are tasked to estimate the bias of coins produced.\n",
    "##### In this example, coins have their own bias, but given they are produced identically they only vary from the \"factory\" bias slightly. Our goal is  to use both information from the specific coin and the factory bias to create a probability distribution to determine the bias a coin is most likely produced with. \n",
    "\n",
    "#### The factory has produced the first coin and we perform an experiment flipping the coin 100 times and measuring the amount of heads, in this case 37. We will repeat this experiment once more coins are produce but for now we can analyse this data."
   ]
  },
  {
   "cell_type": "markdown",
   "metadata": {
    "slideshow": {
     "slide_type": "slide"
    }
   },
   "source": [
    "#### Bayes theorem states:\n",
    "\\begin{equation}\n",
    "P(H|E)=\\frac{P(E|H)P(H)}{P(E)},\n",
    "\\end{equation}\n",
    "#### with P(E|H) is the likelihood of our data given our hypothesis, P(H) the prior, which is the probability of our hypothesis, and P(E) is the evidence or the marginal likelihood. \n",
    "### In most practical applications, computing the posterior distribution directly is not possible, this is why we employ numerical sampling techniques like MCMC."
   ]
  },
  {
   "cell_type": "markdown",
   "metadata": {
    "slideshow": {
     "slide_type": "slide"
    }
   },
   "source": [
    "#### Lets look at each part separately: P(H) is the prior and since this is a brand new factory, we can take the probability of a coin having a bias $p$ to be a uniform distribution from 0 to 1, with 0 returning only tails and 1 returning only heads. This is called an uniformed prior (uniform prior).\n",
    "\n",
    "#### Likelihood:  The probability of observing a heads, x, given a coin with bias p (unknown value). For a coin toss, this function can be described precisely by the Binomial Distribution. The value of $p$ is the value the MCMC will sample\n",
    "\n",
    "#### Posterior: The probability of the coin having a bias p, given the data at hand."
   ]
  },
  {
   "cell_type": "code",
   "execution_count": 1,
   "metadata": {
    "slideshow": {
     "slide_type": "slide"
    }
   },
   "outputs": [],
   "source": [
    "import scipy.stats as stats\n",
    "# Define the data\n",
    "x = 37\n",
    "n = 100\n",
    "\n",
    "# Define the Likelihood P(x|p) - binomial distribution\n",
    "def likelihood(p):\n",
    "    return stats.binom.pmf(x, n, p)"
   ]
  },
  {
   "cell_type": "code",
   "execution_count": 2,
   "metadata": {
    "slideshow": {
     "slide_type": "slide"
    }
   },
   "outputs": [],
   "source": [
    "# Define Prior Function - Uniform Distribution\n",
    "def prior(p):\n",
    "    return stats.uniform.pdf(p)"
   ]
  },
  {
   "cell_type": "markdown",
   "metadata": {
    "slideshow": {
     "slide_type": "slide"
    }
   },
   "source": [
    "####  The Metropolis-Hastings MCMC\n",
    "#### As mentioned above, these methods draw samples from a continuous random variable — in our case for $p$. The MCMC we will use is of the random walk type, which randomly generates samples and keeps them or not based on how they fit the model."
   ]
  },
  {
   "cell_type": "markdown",
   "metadata": {
    "slideshow": {
     "slide_type": "slide"
    }
   },
   "source": [
    "### Acceptance Ratio\n",
    "#### The Metropolis-Hastings algorithm is fairly straightforward, but first, we need to define how we will either accept or reject the new sample draw. Each iteration, a new value for p between 0 and 1 will be proposed, we will call this proposed value p′. We only want to accept and update this value if it is better than the previous. This is done by computing an acceptance ratio, R. This acceptance ratio is the ratio of our Bayes’ Theorem for the proposed value over the previous value:\n",
    "\\begin{equation}\n",
    "R=min\\{1,\\frac{P(x|p')P(p')}{P(x|p)P(p)}\\}\n",
    "\\end{equation}\n",
    "#### Acceptance ratio does not include the marginal likelihood (evidence) part of Bayes’ Theorem, nor did we define a function for it above. This is because the evidence does not change for a new value of p, and thus cancels itself out in this ratio. This is awesome, as computing the marginal likelihood part of Bayes’ Theorem is usually extremely difficult or impossible in practice. "
   ]
  },
  {
   "cell_type": "markdown",
   "metadata": {
    "slideshow": {
     "slide_type": "slide"
    }
   },
   "source": [
    "#### Any value greater than 1 for the acceptance ration here means that the proposed value is better and should be accepted. The second part of accepting new values is comparing R to another random draw between 0 and 1, so it is convention to just set R to 1 when it is higher."
   ]
  },
  {
   "cell_type": "code",
   "execution_count": 3,
   "metadata": {
    "slideshow": {
     "slide_type": "slide"
    }
   },
   "outputs": [],
   "source": [
    "# Create function to compute acceptance ratio\n",
    "# This function will accept the current and proposed values of p\n",
    "def acceptance_ratio(p, p_new):\n",
    "    # Return R, using the functions we created before\n",
    "    return min(1, ((likelihood(p_new) / likelihood(p)) * (prior(p_new) / prior(p))))"
   ]
  },
  {
   "cell_type": "markdown",
   "metadata": {
    "slideshow": {
     "slide_type": "slide"
    }
   },
   "source": [
    "### The Sampling Algorithm\n",
    "#### We have already defined our functions for the likelihood, prior, and acceptance probability. The last thing we must do before looping is to initialize p with a random value within its range, 0 to 1.\n",
    "\n",
    "#### Here are the steps of our Metropolis-Hastings algorithm:\n",
    "\n",
    "1) Propose a new value of p randomly between 0 and 1, call it p′ (or p_new).\n",
    "\n",
    "2) Compute the acceptance ratio, R.\n",
    "\n",
    "3) Generate another uniform random number between 0 and 1, call it u.\n",
    "\n",
    "4) If u < R, accept the new value and set p = p′. Otherwise, keep the current value of p.\n",
    "\n",
    "5) Record the final value of p for this sample.\n",
    "\n",
    "6) Repeat steps 1 through 5 many, many times.\n"
   ]
  },
  {
   "cell_type": "markdown",
   "metadata": {
    "slideshow": {
     "slide_type": "slide"
    }
   },
   "source": [
    "### Burn-in\n",
    "#### MCMCs are initialized randomly and must converge towards the correct value, and this can often take quite a lot of samples. When plotting our results and posterior distribution, it is not effective to include these early samples before the model has converged. \n",
    "\n",
    "### Lag\n",
    "#### Another very important thing to consider with MCMCs is sample independence. A new sample here is often dependent on the previous one as occasionally we do not accept a new random value and keep the old. To address this problem, we implement what is called “lag”. Lag is where rather than recording every sample, we record every other, or perhaps every fifth or tenth sample.\n",
    "\n"
   ]
  },
  {
   "cell_type": "code",
   "execution_count": 4,
   "metadata": {
    "slideshow": {
     "slide_type": "slide"
    }
   },
   "outputs": [],
   "source": [
    "import numpy as np\n",
    "# Create empty list to store samples\n",
    "results = []\n",
    "\n",
    "# Initialzie a value of p\n",
    "p = np.random.uniform(0, 1)\n",
    "\n",
    "# Define model parameters\n",
    "n_samples = 25000\n",
    "burn_in = 5000\n",
    "lag = 5\n",
    "\n",
    "# Create the MCMC loop\n",
    "for i in range(n_samples):\n",
    "    # Propose a new value of p randomly from a uniform distribution between 0 and 1\n",
    "    p_new = np.random.random_sample()\n",
    "    # Compute acceptance probability\n",
    "    R = acceptance_ratio(p, p_new)\n",
    "    # Draw random sample to compare R to\n",
    "    u = np.random.random_sample()\n",
    "    # If R is greater than u, accept the new value of p (set p = p_new)\n",
    "    if u < R:\n",
    "        p = p_new\n",
    "    # Record values after burn in - how often determined by lag\n",
    "    if i > burn_in and i%lag == 0:\n",
    "        results.append(p)"
   ]
  },
  {
   "cell_type": "code",
   "execution_count": 5,
   "metadata": {
    "slideshow": {
     "slide_type": "slide"
    }
   },
   "outputs": [
    {
     "data": {
      "image/png": "[encoded data removed]",
      "text/plain": [
       "<Figure size 432x288 with 1 Axes>"
      ]
     },
     "metadata": {
      "needs_background": "light"
     },
     "output_type": "display_data"
    }
   ],
   "source": [
    "import matplotlib.pyplot as plt\n",
    "plt.hist(results, bins=40)\n",
    "plt.xlabel('P(p|x)')\n",
    "plt.ylabel('counts')\n",
    "plt.title('Posterior distribution')\n",
    "plt.show()"
   ]
  },
  {
   "cell_type": "code",
   "execution_count": 15,
   "metadata": {
    "slideshow": {
     "slide_type": "slide"
    }
   },
   "outputs": [
    {
     "data": {
      "image/png": "[encoded data removed]",
      "text/plain": [
       "<Figure size 432x288 with 1 Axes>"
      ]
     },
     "metadata": {
      "needs_background": "light"
     },
     "output_type": "display_data"
    },
    {
     "name": "stdout",
     "output_type": "stream",
     "text": [
      "0.3733645356165912 0.048059721807395775\n"
     ]
    }
   ],
   "source": [
    "x_coordinate = [ 5.0 * i+5000 for i in range(len(results)) ]\n",
    "plt.plot(x_coordinate,results)\n",
    "plt.xlabel('iterations')\n",
    "plt.ylabel('P(p|x)')\n",
    "plt.title('Posterior trace')\n",
    "plt.show()\n",
    "print(np.mean(results),np.std(results))"
   ]
  },
  {
   "cell_type": "markdown",
   "metadata": {
    "slideshow": {
     "slide_type": "slide"
    }
   },
   "source": [
    "#### We wait a while, and the factory produces 500 coins. We run the same 100 flip experiments and record the posterior’s most likely bias for each coin. From this we get a Gaussian distribution with mean =0.49 and sigma=0.05. We can use this as our new prior information to determine the bias of the next coin "
   ]
  },
  {
   "cell_type": "code",
   "execution_count": 57,
   "metadata": {
    "slideshow": {
     "slide_type": "slide"
    }
   },
   "outputs": [],
   "source": [
    "\n",
    "# Define parameters of the Factory Bias distribution\n",
    "mean = 0.49\n",
    "std = 0.05\n",
    "\n",
    "\n",
    "# Create  prior function for this specific normal distribution\n",
    "def prior2(p):\n",
    "  return stats.norm.pdf(p, mean, std)"
   ]
  },
  {
   "cell_type": "markdown",
   "metadata": {
    "slideshow": {
     "slide_type": "slide"
    }
   },
   "source": [
    "### Now that we have improved our model with more prior information, let’s produce the 501st coin and run the same experiment. In this experiment, we get 54 heads out of 100 tosses. We build our likelihood function off this data as we did before:"
   ]
  },
  {
   "cell_type": "code",
   "execution_count": 62,
   "metadata": {
    "slideshow": {
     "slide_type": "slide"
    }
   },
   "outputs": [],
   "source": [
    "# Data for new coin\n",
    "x = 34\n",
    "n = 50\n",
    "\n",
    "# Likelihood function - Binomial\n",
    "def likelihood2(p):\n",
    "  return stats.binom.pmf(x, n, p)\n",
    "\n",
    "# Create function to compute acceptance ratio\n",
    "# This function will accept the current and proposed values of p\n",
    "def acceptance_ratio2(p, p_new):\n",
    "    # Return R, using the functions we created before\n",
    "    return min(1, ((likelihood2(p_new) / likelihood2(p)) * (prior2(p_new) / prior2(p))))"
   ]
  },
  {
   "cell_type": "code",
   "execution_count": 63,
   "metadata": {
    "slideshow": {
     "slide_type": "slide"
    }
   },
   "outputs": [],
   "source": [
    "# Create empty list to store samples\n",
    "results2 = []\n",
    "\n",
    "# Initialzie a value of p\n",
    "p = np.random.uniform(0, 1)\n",
    "\n",
    "# Define model parameters\n",
    "n_samples = 25000\n",
    "burn_in = 5000\n",
    "lag = 5\n",
    "\n",
    "# Create the MCMC loop\n",
    "for i in range(n_samples):\n",
    "    # Propose a new value of p randomly from a uniform distribution between 0 and 1\n",
    "    p_new = np.random.random_sample()\n",
    "    # Compute acceptance probability\n",
    "    R = acceptance_ratio2(p, p_new)\n",
    "    # Draw random sample to compare R to\n",
    "    u = np.random.random_sample()\n",
    "    # If R is greater than u, accept the new value of p (set p = p_new)\n",
    "    if u < R:\n",
    "        p = p_new\n",
    "    # Record values after burn in - how often determined by lag\n",
    "    if i > burn_in and i%lag == 0:\n",
    "        results2.append(p)"
   ]
  },
  {
   "cell_type": "code",
   "execution_count": 64,
   "metadata": {
    "slideshow": {
     "slide_type": "slide"
    }
   },
   "outputs": [
    {
     "data": {
      "image/png": "[encoded data removed]",
      "text/plain": [
       "<Figure size 432x288 with 1 Axes>"
      ]
     },
     "metadata": {
      "needs_background": "light"
     },
     "output_type": "display_data"
    }
   ],
   "source": [
    "plt.hist(results2, bins=50)\n",
    "plt.xlabel('P(p|x)')\n",
    "plt.ylabel('counts')\n",
    "plt.title('Posterior distribution')\n",
    "plt.show()"
   ]
  },
  {
   "cell_type": "code",
   "execution_count": 65,
   "metadata": {
    "slideshow": {
     "slide_type": "slide"
    }
   },
   "outputs": [
    {
     "data": {
      "image/png": "[encoded data removed]",
      "text/plain": [
       "<Figure size 432x288 with 1 Axes>"
      ]
     },
     "metadata": {
      "needs_background": "light"
     },
     "output_type": "display_data"
    },
    {
     "name": "stdout",
     "output_type": "stream",
     "text": [
      "0.5548561748549856\n"
     ]
    }
   ],
   "source": [
    "x_coordinate = [ 1.0 * i for i in range(len(results2)) ]\n",
    "plt.plot(x_coordinate,results2)\n",
    "plt.xlabel('iterations')\n",
    "plt.ylabel('P(p|x)')\n",
    "plt.title('Posterior trace')\n",
    "plt.show()\n",
    "print(np.mean(results2))"
   ]
  },
  {
   "cell_type": "markdown",
   "metadata": {
    "slideshow": {
     "slide_type": "slide"
    }
   },
   "source": [
    "### Additional information \n",
    "https://link.springer.com/article/10.3758/s13423-016-1015-8"
   ]
  },
  {
   "cell_type": "code",
   "execution_count": null,
   "metadata": {},
   "outputs": [],
   "source": []
  }
 ],
 "metadata": {
  "celltoolbar": "Slideshow",
  "kernelspec": {
   "display_name": "Python 3 (ipykernel)",
   "language": "python",
   "name": "python3"
  },
  "language_info": {
   "codemirror_mode": {
    "name": "ipython",
    "version": 3
   },
   "file_extension": ".py",
   "mimetype": "text/x-python",
   "name": "python",
   "nbconvert_exporter": "python",
   "pygments_lexer": "ipython3",
   "version": "3.9.7"
  }
 },
 "nbformat": 4,
 "nbformat_minor": 2
}
