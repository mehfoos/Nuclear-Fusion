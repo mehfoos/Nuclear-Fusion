{
 "cells": [
  {
   "cell_type": "markdown",
   "metadata": {
    "slideshow": {
     "slide_type": "slide"
    }
   },
   "source": [
    "# Estimators"
   ]
  },
  {
   "cell_type": "markdown",
   "metadata": {
    "slideshow": {
     "slide_type": "slide"
    }
   },
   "source": [
    "# Outline\n",
    "\n",
    "1. Definition\n",
    "\n",
    "2. Examples\n"
   ]
  },
  {
   "cell_type": "markdown",
   "metadata": {
    "slideshow": {
     "slide_type": "slide"
    }
   },
   "source": [
    "# Definition\n",
    "\n",
    "An estimator is a procedure applied to the data sample which gives a numerical value for a property of the parent population or a property/parameter of the parent distribution.\n",
    " Suppose that the quantity we want to measure is called $a$. $\\hat{a}$ is an estimator.\n"
   ]
  },
  {
   "cell_type": "markdown",
   "metadata": {
    "slideshow": {
     "slide_type": "slide"
    }
   },
   "source": [
    "Let's consider an estimator $\\hat{a}$ to find the height $a$ of all students of the University on the basis of a sample N.\n",
    "Let's consider the different estimators\n",
    "\n",
    "\n",
    "1. Add up all the heigths and divide by N\n",
    "2. Add up the first 10 heights and divide by 10. Ignore the rest\n",
    "3. Add up all the heigths and divide by N-1\n",
    "4.  Trow away the data and give 1.8 as answer\n",
    "5. Add up the second, fourth, sixth,... heights and divide by N/2 for N even and (N-1)/2 for N odd\n"
   ]
  },
  {
   "cell_type": "markdown",
   "metadata": {
    "slideshow": {
     "slide_type": "slide"
    }
   },
   "source": [
    "# Consistent\n",
    "\n",
    "Consistent: $\\lim_{N\\to\\infty} \\hat{a} = a$, that is you can get as close to the true value as you want, as long as you have a large enough data set.\n",
    "In the previous example 1 is consistent:\n",
    "\n",
    "\\begin{equation}\n",
    "\\hat{\\mu}=\\frac{x_1...x_N}{N}=\\bar{x}\n",
    "\\end{equation}\n",
    "\n",
    "for $N$ going to infinity $\\bar{x}\\rightarrow\\mu$: law of big numbers.\n",
    "3 and 5 are also consistent since N-1 or N/2 make little difference when $N\\rightarrow\\infty$.\n",
    "On the contrary 2 and 4 are not consistent."
   ]
  },
  {
   "cell_type": "markdown",
   "metadata": {
    "slideshow": {
     "slide_type": "slide"
    }
   },
   "source": [
    "# Unbiased\n",
    "\n",
    "Unbiased: $\\langle\\hat{a}\\rangle = a\\ \\forall\\ N$, that is however large or small your data set may be, you should on average expect to get the right answer.\n",
    "The expectation value of the estimator is equal to the true value.\n",
    "For 1 we have\n",
    "\n",
    "\\begin{eqnarray}\n",
    "\\langle \\hat{\\mu} \\rangle =\\langle \\frac{x_1\\dots x_N}{N}\\rangle =\\frac{1}{N}\\left( \\langle x_1 \\rangle +\\cdots+ \\langle x_N \\rangle \\right)=\\frac{N \\langle x \\rangle }{N}=\\mu\n",
    "\\end{eqnarray}\n",
    "\n",
    "\n",
    "For 3 we have \n",
    "\n",
    "\\begin{eqnarray}\n",
    "\\langle \\hat{\\mu} \\rangle =\\langle \\frac{x_1\\dots x_N}{N-1}\\rangle =\\frac{1}{N-1}\\left( \\langle x_1 \\rangle +\\cdots+ \\langle x_N \\rangle \\right)=\\frac{N \\langle x \\rangle }{N-1}\n",
    "\\end{eqnarray}\n",
    "\n",
    "so 3 is biased.\n",
    "\n"
   ]
  },
  {
   "cell_type": "markdown",
   "metadata": {
    "slideshow": {
     "slide_type": "slide"
    }
   },
   "source": [
    "While for 5\n",
    "\n",
    "\\begin{eqnarray}\n",
    "\\langle \\hat{\\mu} \\rangle =\\langle \\frac{x_2\\dots x_N}{N/2}\\rangle =\\frac{1}{N/2}\\left( \\langle x_2 \\rangle +\\cdots+ \\langle x_N \\rangle \\right)=\\frac{N/2 \\langle x \\rangle }{N/2}=\\mu\n",
    "\\end{eqnarray}"
   ]
  },
  {
   "cell_type": "markdown",
   "metadata": {
    "slideshow": {
     "slide_type": "slide"
    }
   },
   "source": [
    "# Efficient\n",
    "\n",
    "$V(\\hat{a})$ is small, that is the fluctuations around the true value is for a given size of the data set smaller than for less efficient estimators.\n",
    "In general if the variance is smaller we prefer the estimator, so the main difference between 1 and 5 is that 5 uses only half of the data set thus its variance is $\\sqrt{2}$ larger."
   ]
  },
  {
   "cell_type": "markdown",
   "metadata": {
    "slideshow": {
     "slide_type": "slide"
    }
   },
   "source": [
    "# Example: Estimating the mean"
   ]
  },
  {
   "cell_type": "markdown",
   "metadata": {
    "slideshow": {
     "slide_type": "slide"
    }
   },
   "source": [
    "Two estimators are commonly used, given a data set $\\{ x_i, \\sigma_i \\}$. Depending on the situation we have:\n",
    "\\begin{eqnarray}\n",
    "\\begin{array}{cl}\n",
    "\\mathrm{unweigthed\\ mean} &\n",
    "\\left\\{\n",
    "\\begin{array}{rcl}\n",
    "\\hat{x} & = & \\frac{1}{N}\\sum_i x_i \\\\\n",
    "V(\\hat{x}) & = & \\frac{1}{N} \\sigma^2 =\\frac{V(x)}{N}  \\\\\n",
    "\\end{array}\n",
    "\\right. \\\\[0.6cm]\n",
    "\\mathrm{weigthed\\ mean} &\n",
    "\\left\\{\n",
    "\\begin{array}{rcl}\n",
    "\\hat{x} & = & \\frac{\\sum_i x_i/\\sigma_i^2}{\\sum_i 1/\\sigma_i^2} \\\\\n",
    "V(\\hat{x}) & = & \\frac{1}{\\sum_i 1/\\sigma_i^2} \\\\\n",
    "\\end{array}\n",
    "\\right. \\\\\n",
    "\\end{array}\n",
    "\\end{eqnarray}\n",
    "\n",
    "Both estimators are consistent and unbiased.\n",
    "We observe that the second type should be preferable if the data points are not equally well determined, i.e.\\ if $\\sigma_i$ are different.\n"
   ]
  },
  {
   "cell_type": "markdown",
   "metadata": {
    "slideshow": {
     "slide_type": "slide"
    }
   },
   "source": [
    "# Example: Estimating the variance"
   ]
  },
  {
   "cell_type": "markdown",
   "metadata": {
    "slideshow": {
     "slide_type": "slide"
    }
   },
   "source": [
    "We consider the ideal case where the true mean is known $\\mu$. The estimator of the variance is thus\n",
    "\n",
    "\\begin{eqnarray*}\n",
    "\\widehat{V(x)} & = & \\frac{1}{N}\\sum_i \\left(x_i-\\mu\\right)^2 \n",
    "\\end{eqnarray*}\n"
   ]
  },
  {
   "cell_type": "markdown",
   "metadata": {
    "slideshow": {
     "slide_type": "slide"
    }
   },
   "source": [
    "We can show that it is consistent and unbiased \n",
    "\n",
    "\\begin{eqnarray*}\n",
    "\\left\\langle\\widehat{V(x)}\\right\\rangle & = & \\frac{1}{N}N\\left\\langle \\left(x-\\mu\\right)^2 \\right\\rangle \\\\\n",
    "\t\t& = & \\left\\langle \\left(x-\\mu\\right)^2 \\right\\rangle = V(x)\n",
    "\\end{eqnarray*}\n"
   ]
  },
  {
   "cell_type": "markdown",
   "metadata": {
    "slideshow": {
     "slide_type": "slide"
    }
   },
   "source": [
    "Now let's consider the case where $\\mu$ is not know.\n",
    "An obvious remedy is to use $\\bar{x}$ so that\n"
   ]
  },
  {
   "cell_type": "markdown",
   "metadata": {
    "slideshow": {
     "slide_type": "slide"
    }
   },
   "source": [
    "\\begin{eqnarray*}\n",
    "\\widehat{V(x)}\t& = & \\frac{1}{N}\\sum_i \\left(x_i-\\hat{x}\\right)^2 \n",
    "\\end{eqnarray*}\n",
    "\n"
   ]
  },
  {
   "cell_type": "markdown",
   "metadata": {
    "slideshow": {
     "slide_type": "slide"
    }
   },
   "source": [
    "We can prove that such an estimator is biased\n",
    "\n",
    "\\begin{eqnarray*}\n",
    "\\widehat{V(x)}\t& = & \\frac{1}{N}\\sum_i \\left(x_i-\\overline{x}\\right)^2= \\frac{1}{N}\\sum_i \\left(x_i^2-2x_i\\overline{x}+\\overline{x}^2\\right) \\\\\n",
    "\t\t\t& = & \\frac{1}{N}\\left(\\sum_i x_i^2-2\\overline{x}\\sum_i x_i+\\sum_i\\overline{x}^2\\right) \\\\\n",
    "\t\t\t& = & \\frac{1}{N}\\left(\\sum_i x_i^2-2\\sum_i\\overline{x}^2+\\sum_i\\overline{x}^2\\right) \\\\\n",
    "\t\t\t& = & \\frac{1}{N}\\sum_i\\left( x_i^2-\\overline{x}^2\\right) \\\\\n",
    "\\end{eqnarray*}\n"
   ]
  },
  {
   "cell_type": "markdown",
   "metadata": {
    "slideshow": {
     "slide_type": "slide"
    }
   },
   "source": [
    "We now take the expectation value of the estimator \n",
    "\\begin{eqnarray*}\n",
    "\\left\\langle\\widehat{V(x)}\\right\\rangle & = & \\left\\langle x^2 - \\overline{x}^2 \\right\\rangle \\\\\n",
    "\t\t& = &  \\left\\langle x^2 \\right\\rangle - \\left\\langle\\overline{x}^2 \\right\\rangle \\\\\n",
    "\t\t& = &  \\left\\langle x^2 \\right\\rangle - \\left\\langle x \\right\\rangle^2 + \\left\\langle \\overline{x} \\right\\rangle^2 - \\left\\langle\\overline{x}^2 \\right\\rangle\\hspace{0.5cm} [\\mathrm{CLT}] \\\\\n",
    "\\end{eqnarray*}\n",
    "\n",
    "Where we used\n",
    "\\begin{eqnarray*}\n",
    "\\langle x \\rangle =\\langle \\overline{x} \\rangle \n",
    "\\end{eqnarray*}\n",
    "thanks to the central limit theorem (CLT).\n"
   ]
  },
  {
   "cell_type": "markdown",
   "metadata": {
    "slideshow": {
     "slide_type": "slide"
    }
   },
   "source": [
    "So we have\n",
    "\n",
    "\\begin{eqnarray*}\n",
    "\\left\\langle\\widehat{V(x)}\\right\\rangle \t\t& = & V(x) - V(\\overline{x}) \\\\\n",
    "\t\t& = & V(x) - \\frac{1}{N}V(x)\\hspace{0.5cm} [\\mathrm{CLT}] \\\\\n",
    "\t\t& = & \\frac{N-1}{N}V(x)\n",
    "\\end{eqnarray*}\n"
   ]
  },
  {
   "cell_type": "markdown",
   "metadata": {
    "slideshow": {
     "slide_type": "slide"
    }
   },
   "source": [
    "The bias fall as $1/N$ so for large data set this can be neglected.\n",
    "A way to correct the bias is to defined\n",
    "\n",
    "\\begin{eqnarray*}\n",
    "s^2 \\equiv \\widehat{V(x)} \\equiv \\frac{1}{N-1}\\sum_i\\left(x_i-\\overline{x}\\right)^2 \n",
    "\\end{eqnarray*}\n",
    "\n",
    "where the multiplication factor $\\frac{N}{N-1}$ is known as Bessel's correction. "
   ]
  },
  {
   "cell_type": "markdown",
   "metadata": {
    "slideshow": {
     "slide_type": "slide"
    }
   },
   "source": [
    "# Example\n",
    "\n",
    "Let's consider the variance estimator to evaluate the variance of a given population.\n",
    "\n",
    "We assume that the PDF governing the distribution of ages of York student is a Gaussian with a given mean and variance.\n",
    "\n",
    "To estimate the mean and variance of the population we take samples of 5 students.\n",
    "For each sample we calculate mean and variance."
   ]
  },
  {
   "cell_type": "code",
   "execution_count": 1,
   "metadata": {
    "slideshow": {
     "slide_type": "slide"
    }
   },
   "outputs": [],
   "source": [
    "import random  \n",
    "import numpy as np\n",
    "\n",
    "# Selected propertis of the population M1-> Mean S1**2 is the variance\n",
    "M1=25\n",
    "S1=5"
   ]
  },
  {
   "cell_type": "code",
   "execution_count": 2,
   "metadata": {
    "slideshow": {
     "slide_type": "slide"
    }
   },
   "outputs": [],
   "source": [
    "\n",
    "students=5\n",
    "sample=[]\n",
    "for i in range(students):  \n",
    "    sample.append(random.gauss(M1, S1) )\n",
    "    \n",
    "sample=np.array(sample)    "
   ]
  },
  {
   "cell_type": "code",
   "execution_count": 3,
   "metadata": {
    "slideshow": {
     "slide_type": "slide"
    }
   },
   "outputs": [],
   "source": [
    "def variance1(array,m):\n",
    "    som=0\n",
    "    l=len(array)\n",
    "    for i in range(l):\n",
    "        som=som+(array[i]-m)**2/l\n",
    "    \n",
    "    return som\n",
    "        \n",
    "\n",
    "def variance2(array,m):\n",
    "    som=0\n",
    "    l=len(array)\n",
    "    for i in range(l):\n",
    "        som=som+(array[i]-m)**2/(l-1)\n",
    "    \n",
    "    return som"
   ]
  },
  {
   "cell_type": "code",
   "execution_count": 4,
   "metadata": {
    "slideshow": {
     "slide_type": "slide"
    }
   },
   "outputs": [
    {
     "name": "stdout",
     "output_type": "stream",
     "text": [
      "The mean of the sample is = 22.457775353647918\n",
      "The Variance (with bias) is= 13.672959560525635\n",
      "The Variance (without bias) is= 17.09119945065704\n"
     ]
    }
   ],
   "source": [
    "av=sample.mean()\n",
    "\n",
    "print(\"The mean of the sample is =\", av)\n",
    "print(\"The Variance (with bias) is=\", variance1(sample,av))\n",
    "print(\"The Variance (without bias) is=\", variance2(sample,av))"
   ]
  },
  {
   "cell_type": "markdown",
   "metadata": {
    "slideshow": {
     "slide_type": "slide"
    }
   },
   "source": [
    "We now repeat the previous test 10000 times and we calculate each time the mean and variances"
   ]
  },
  {
   "cell_type": "code",
   "execution_count": 5,
   "metadata": {
    "slideshow": {
     "slide_type": "slide"
    }
   },
   "outputs": [],
   "source": [
    "NNN=100000\n",
    "\n",
    "ave=[]\n",
    "var1=[]\n",
    "var2=[]\n",
    "\n",
    "for j in range(NNN):\n",
    "    students=5\n",
    "    sample=[]\n",
    "    for i in range(students):  \n",
    "        sample.append(random.gauss(M1, S1) )\n",
    "    \n",
    "    sample=np.array(sample) \n",
    "    av=sample.mean()\n",
    "    ave.append(av)\n",
    "    var1.append(variance1(sample,av))\n",
    "    var2.append(variance2(sample,av))"
   ]
  },
  {
   "cell_type": "code",
   "execution_count": 6,
   "metadata": {
    "slideshow": {
     "slide_type": "slide"
    }
   },
   "outputs": [
    {
     "data": {
      "image/png": "[encoded data removed]",
      "text/plain": [
       "<Figure size 432x288 with 1 Axes>"
      ]
     },
     "metadata": {
      "needs_background": "light"
     },
     "output_type": "display_data"
    }
   ],
   "source": [
    "import matplotlib.pyplot as plt  \n",
    "      \n",
    "# plotting a graph  \n",
    "plt.hist(ave)\n",
    "plt.ylabel(\"Counts\")\n",
    "plt.axvline(M1, color='k', linestyle='dashed', linewidth=1)\n",
    "plt.xlabel(\"Average\")\n",
    "plt.show() "
   ]
  },
  {
   "cell_type": "markdown",
   "metadata": {
    "slideshow": {
     "slide_type": "slide"
    }
   },
   "source": [
    "The mean (as expected) works very well to estimate the 'mean' of the population.\n",
    "what about the 2 definitions of variance?\n",
    "\n"
   ]
  },
  {
   "cell_type": "code",
   "execution_count": 7,
   "metadata": {
    "slideshow": {
     "slide_type": "slide"
    }
   },
   "outputs": [
    {
     "data": {
      "image/png": "[encoded data removed]",
      "text/plain": [
       "<Figure size 432x288 with 1 Axes>"
      ]
     },
     "metadata": {
      "needs_background": "light"
     },
     "output_type": "display_data"
    }
   ],
   "source": [
    "plt.hist(var1,bins=30)\n",
    "plt.hist(var2,bins=30,alpha=0.6)\n",
    "plt.ylabel(\"Counts\")\n",
    "plt.axvline(S1**2, color='k', linestyle='dashed', linewidth=1)\n",
    "plt.xlabel(\"Average\")\n",
    "plt.show() "
   ]
  },
  {
   "cell_type": "code",
   "execution_count": 8,
   "metadata": {
    "slideshow": {
     "slide_type": "slide"
    }
   },
   "outputs": [],
   "source": [
    "var1=np.array(var1)\n",
    "var2=np.array(var2)"
   ]
  },
  {
   "cell_type": "markdown",
   "metadata": {
    "slideshow": {
     "slide_type": "slide"
    }
   },
   "source": [
    "We see that the variance follows a $\\chi^2$ distribution. We can calculate the average values of these 2 distributions"
   ]
  },
  {
   "cell_type": "code",
   "execution_count": 9,
   "metadata": {
    "slideshow": {
     "slide_type": "slide"
    }
   },
   "outputs": [
    {
     "name": "stdout",
     "output_type": "stream",
     "text": [
      "The average value of the variance (biased)is  20.02812488363581\n",
      "The average value of the variance (unbiased)is  25.035156104544765\n"
     ]
    }
   ],
   "source": [
    "print(\"The average value of the variance (biased)is \",var1.mean())\n",
    "print(\"The average value of the variance (unbiased)is \",var2.mean())"
   ]
  },
  {
   "cell_type": "code",
   "execution_count": null,
   "metadata": {},
   "outputs": [],
   "source": []
  }
 ],
 "metadata": {
  "celltoolbar": "Slideshow",
  "kernelspec": {
   "display_name": "Python 3 (ipykernel)",
   "language": "python",
   "name": "python3"
  },
  "language_info": {
   "codemirror_mode": {
    "name": "ipython",
    "version": 3
   },
   "file_extension": ".py",
   "mimetype": "text/x-python",
   "name": "python",
   "nbconvert_exporter": "python",
   "pygments_lexer": "ipython3",
   "version": "3.9.7"
  }
 },
 "nbformat": 4,
 "nbformat_minor": 2
}
