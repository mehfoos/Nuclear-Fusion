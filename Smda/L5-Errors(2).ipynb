{
 "cells": [
  {
   "cell_type": "markdown",
   "metadata": {
    "slideshow": {
     "slide_type": "slide"
    }
   },
   "source": [
    "# Error propagation"
   ]
  },
  {
   "cell_type": "markdown",
   "metadata": {
    "slideshow": {
     "slide_type": "slide"
    }
   },
   "source": [
    "# Outline\n",
    "\n",
    "1. Basic rules\n",
    "\n",
    "2. Functions of several variables\n",
    "\n",
    "3. G-matrix formalism\n",
    "\n",
    "4. Systematic errors\n",
    "\n",
    "5. Monte Carlo (brief example)\n"
   ]
  },
  {
   "cell_type": "markdown",
   "metadata": {
    "slideshow": {
     "slide_type": "slide"
    }
   },
   "source": [
    "## What do we mean by errors?\n",
    "#### The CLT tells us (see lecture from last week) that when we repeat a measurements several times the distribution of the mean of our measurements $\\mu_i$ will follow a Gaussian distribution with mean $\\mu=\\frac{1}{N}\\sum_i \\mu_i$ and a variance of $V(\\overline{x})=\\frac{\\sigma^2}{N}$\n",
    "\n",
    "### Therefore, the standard deviation of this average falls like $1/\\sqrt{N}$. \"Averaging is good for you\" or \"Law of diminishing return\" "
   ]
  },
  {
   "cell_type": "markdown",
   "metadata": {
    "slideshow": {
     "slide_type": "slide"
    }
   },
   "source": [
    "### Averaging measurments that have different standard deviations:\n",
    "#### Example: We measure a voltage using two voltmeters with voltmeter A giving a value of 3.11 V and voltmeter B a value of 3.13 V. Voltmeter A has an uncertainty in the measurement (std) of 0.02 V and voltmeter B an uncertainty of 0.01V.\n",
    "\n",
    "#### Q1) How many measurements with voltmeter A do I need to obtain an average value with the same uncertainty from one measurement using voltmeter B?\n",
    "\n",
    "#### Q2) What is the average value of my two measurements and what is its uncertainty?"
   ]
  },
  {
   "cell_type": "markdown",
   "metadata": {
    "slideshow": {
     "slide_type": "slide"
    }
   },
   "source": [
    "#### Q1) From CLT: $V(B)=\\frac{V(A)}{N}\\therefore N=\\frac{V(A)}{V(B)}=\\frac{0.02^2}{0.01^1}=4$\n",
    "\n",
    "#### Q2) From Q1 the average value should reflect the relative weight, i.e. one of the more precice measurements should be given N times the weight of the poorer one: $\\overline{V}=\\frac{1/5}{3.11}+\\frac{4}{5}3.13=3.126~V$"
   ]
  },
  {
   "cell_type": "markdown",
   "metadata": {
    "slideshow": {
     "slide_type": "slide"
    }
   },
   "source": [
    "### In general:\n",
    "\\begin{eqnarray}\n",
    "\\overline{x}=\\frac{\\sum_i x_i/\\sigma_i^2}{\\sum_i1/\\sigma_i^2}\\\\\n",
    "V(\\overline{x})=\\frac{1}{\\sum_i1/\\sigma_i^2}\n",
    "\\end{eqnarray}\n",
    "### Note of caution: If two results are in blatant and obvious disagreement any average is meaningless and wrong. "
   ]
  },
  {
   "cell_type": "markdown",
   "metadata": {
    "slideshow": {
     "slide_type": "slide"
    }
   },
   "source": [
    "# Basic rules: how to handle errors"
   ]
  },
  {
   "cell_type": "markdown",
   "metadata": {
    "slideshow": {
     "slide_type": "slide"
    }
   },
   "source": [
    "To understand the concept of error propagation, let's consider a function $f(x)$, which is calculated starting from the stochastic variable $x$ \n",
    "\n",
    "\\begin{eqnarray}\n",
    "f(x)=ax+b\n",
    "\\end{eqnarray}\n",
    "\n",
    "  $a$ and $b$ are constants. The variance of $V(f)$ reads \n",
    "\n",
    "\\begin{eqnarray*}\n",
    "\tV(f)& = &\\frac{1}{N}\\sum_i(f(x_i)-\\overline{f}) \\\\\n",
    "        & = & \\langle f^2 \\rangle - \\langle f \\rangle^2 \\\\\n",
    "\t\t& = & \\langle a^2x^2 + 2abx +b^2 \\rangle - (a\\langle x \\rangle + b)^2\\\\\n",
    "\t\t& = & a^2\\langle x^2 \\rangle + 2ab\\langle x \\rangle + b^2 - a^2\\langle x \\rangle^2 - 2ab\\langle x \\rangle - b^2 \\\\\n",
    "\t\t& = & a^2\\left( \\langle x^2 \\rangle - \\langle x \\rangle^2 \\right) \\\\\n",
    "\t\t& = & a^2 V(x) \\\\\n",
    "\\sigma_f\t& = & |a|\\sigma_x\\\\\n",
    "\\end{eqnarray*}\n",
    "\n",
    "NOTE: Expectation values add, but do NOT multiply\n",
    "\\begin{eqnarray*}\n",
    "\\langle f+g \\rangle=\\langle f \\rangle+\\langle g\\rangle \\\\\n",
    "\\langle f\\cdot g \\rangle\\ne \\langle f \\rangle\\cdot\\langle g\\rangle\n",
    "\\end{eqnarray*}\n"
   ]
  },
  {
   "cell_type": "markdown",
   "metadata": {
    "slideshow": {
     "slide_type": "slide"
    }
   },
   "source": [
    "### Does this makes sense? Why doesnt $b$ affect the variance?"
   ]
  },
  {
   "cell_type": "markdown",
   "metadata": {
    "slideshow": {
     "slide_type": "slide"
    }
   },
   "source": [
    "### Assuming that errors are small, we can Taylor expand the function f(x) around the observed value $x_0$\n",
    "\n",
    "\\begin{eqnarray}\n",
    "V(f)\\approx \\left(\\frac{df}{dx}\\right)^2 V(x)\\\\\n",
    "\\sigma_f\\approx \\left| \\frac{df}{dx}\\right| \\sigma_x\n",
    "\\end{eqnarray}\n",
    "\n",
    "### Only applicable when f(x) is differentiable, and the first differential does not change much over a few $\\sigma$ (i.e. trancation holds).\n",
    "### Alternative methods using MC can be employed (bootstrap examples later). \n"
   ]
  },
  {
   "cell_type": "markdown",
   "metadata": {
    "slideshow": {
     "slide_type": "slide"
    }
   },
   "source": [
    "# Example\n",
    "\n",
    "### $\\theta$ is an angle with error $\\sigma_\\theta=\\pm0.01$ rad. Which is the error on $\\sin\\theta$?\n",
    "\n",
    "\\begin{eqnarray}\n",
    "\\sigma_{\\sin\\theta}=\\left| \\frac{d\\sin \\theta}{d\\theta}\\right|\\sigma_\\theta=0.01|\\cos\\theta|\n",
    "\\end{eqnarray}"
   ]
  },
  {
   "cell_type": "markdown",
   "metadata": {
    "slideshow": {
     "slide_type": "slide"
    }
   },
   "source": [
    "# Summary\n",
    "\n",
    "\n",
    "### Assuming small errors, it is possible to do a simple error propgagation on any function of depending on 1 variable using a simple Taylor expansion.\n",
    "\n",
    "### If errors are not small it is then necessary to use Monte Carlo methods."
   ]
  },
  {
   "cell_type": "markdown",
   "metadata": {
    "slideshow": {
     "slide_type": "slide"
    }
   },
   "source": [
    "# Functions of two (or more) variables"
   ]
  },
  {
   "cell_type": "markdown",
   "metadata": {
    "slideshow": {
     "slide_type": "slide"
    }
   },
   "source": [
    "Let's consider $f(x,y)=ax + by + c $.\n",
    "\n",
    "\n",
    "The error reads\n",
    "\n",
    "\n",
    "\\begin{eqnarray}\n",
    "V(f)&=& \\langle (ax + by + c)^2 \\rangle - (\\langle ax + by + c \\rangle)^2\\\\\n",
    "&=&\\langle a^2 x^2 +b^2 y^2 +c^2 +2ab xy+2ac x+2 bc y \\rangle -(a \\langle x \\rangle +b \\langle y \\rangle +c)^2\\nonumber\\\\\n",
    "&=&a^2 \\langle x^2 \\rangle+b^2 \\langle y^2 \\rangle +2ab \\langle xy \\rangle +2ac \\langle x \\rangle \\nonumber \\\\\n",
    "&+&2bc \\langle y \\rangle+c^2 -a^2  \\langle x \\rangle ^2-b^2  \\langle y \\rangle^2-c^2 -2ab  \\langle x \\rangle \\langle y \\rangle -2ac  \\langle x \\rangle -2bc  \\langle y \\rangle\\nonumber\\\\\n",
    "&=&a^2 [ \\langle x^2 \\rangle-  \\langle x \\rangle^2]+b^2[ \\langle y^2 \\rangle-  \\langle y \\rangle^2]+2ab [ \\langle xy \\rangle-  \\langle x \\rangle \\langle y \\rangle] \\nonumber\n",
    "\\end{eqnarray}"
   ]
  },
  {
   "cell_type": "markdown",
   "metadata": {
    "slideshow": {
     "slide_type": "slide"
    }
   },
   "source": [
    "The previous expression can be re-written as\n",
    "\n",
    "\n",
    "\\begin{eqnarray*}\n",
    "\tV(f)\t& = & a^2 V(x) + b^2 V(y) + 2ab \\;cov(x,y) \\\\\n",
    "cov(x,y)& = &\\langle xy \\rangle - \\langle x \\rangle \\langle y \\rangle\n",
    " \\end{eqnarray*}\n",
    " \n",
    " \n",
    " The term ${cov}(x,y)$ indicates that the variables are correlated. In particular cases we can assume independent variables so $\\mathrm{cov}(x,y)=0$ \n"
   ]
  },
  {
   "cell_type": "markdown",
   "metadata": {
    "slideshow": {
     "slide_type": "slide"
    }
   },
   "source": [
    "### Utilising a taylor expansion:\n",
    "#### in the case of independent variables we have\n",
    "\n",
    "\n",
    "\\begin{eqnarray}\n",
    "V(f_i)&=&\\sum_j \\left( \\frac{\\partial f_i}{\\partial x_j}\\right)^2 V(x_j)\n",
    "\\end{eqnarray}\n",
    "\n",
    "#### In the case of dependent variables we have\n",
    "\n",
    "\\begin{eqnarray}\n",
    "V(f_i)&=&\\sum_j \\left( \\frac{\\partial f_i}{\\partial x_j}\\right)^2 V(x_j)+\\sum_j \\sum_{k\\ne j} \\frac{\\partial f_i}{\\partial x_j}\\frac{\\partial f_i}{\\partial x_k} cov(x_j,x_k)\n",
    "\\end{eqnarray}\n"
   ]
  },
  {
   "cell_type": "markdown",
   "metadata": {
    "slideshow": {
     "slide_type": "slide"
    }
   },
   "source": [
    "### Percentage Errors\n",
    "#### Several results can be expressed neatly using percentage (or fractional errors):\n",
    "\\begin{eqnarray}\n",
    "f(x)&=&xy\\\\\n",
    "V(f)&=&y^2 V(x)+x^2 V(y)\\\\\n",
    "\\left(\\frac{\\sigma_f}{f} \\right)^2&=&\\left(\\frac{\\sigma_x}{x} \\right)^2+\\left(\\frac{\\sigma_y}{y} \\right)^2 \\mbox{ When x, y are independent}\n",
    "\\end{eqnarray}"
   ]
  },
  {
   "cell_type": "markdown",
   "metadata": {
    "slideshow": {
     "slide_type": "slide"
    }
   },
   "source": [
    "# G-matrix formalism"
   ]
  },
  {
   "cell_type": "markdown",
   "metadata": {
    "slideshow": {
     "slide_type": "slide"
    }
   },
   "source": [
    "We define the error matrix as\n",
    "\n",
    "\\begin{equation}\n",
    "V_{ij}=cov(x_{(i)},x_{(j)})\n",
    "\\end{equation}\n",
    "\n",
    " notice that for $i=j$ this is the variance!"
   ]
  },
  {
   "cell_type": "markdown",
   "metadata": {
    "slideshow": {
     "slide_type": "slide"
    }
   },
   "source": [
    "We define the G matrix as\n",
    "\n",
    "\\begin{eqnarray}\n",
    "G_{ki} =\\frac{\\partial f_k}{\\partial x_i}\n",
    "\\end{eqnarray}\n"
   ]
  },
  {
   "cell_type": "markdown",
   "metadata": {
    "slideshow": {
     "slide_type": "slide"
    }
   },
   "source": [
    "So the error on the function $f$  can be obtained by a simple matrix manipulation\n",
    "\n",
    "\n",
    "$V_f = GV_x\\tilde{G}$\n",
    "\n",
    "\n",
    "where the matrix $G$ is defined with entries $G_{ki} = \\frac{\\partial f_k}{\\partial x_i}$, and $\\widetilde{G}$ is the transposed of $G$, in Matlab and Octave defined as $G$'."
   ]
  },
  {
   "cell_type": "markdown",
   "metadata": {
    "slideshow": {
     "slide_type": "slide"
    }
   },
   "source": [
    "# Example"
   ]
  },
  {
   "cell_type": "markdown",
   "metadata": {
    "slideshow": {
     "slide_type": "slide"
    }
   },
   "source": [
    "Let's consider a traking chamber. The position of a particle is measured in cylindrical polar coordinates $(r,\\phi,z)$. Assuming that the error over $r$ is zero, while we have $\\sigma^2_{\\phi},\\sigma^2_z$ for the other 2 coordinates (no correlation!).\n",
    "What are the errors on the cartesian coordinates $(x,y,z)$?\n"
   ]
  },
  {
   "cell_type": "markdown",
   "metadata": {
    "slideshow": {
     "slide_type": "slide"
    }
   },
   "source": [
    "Having the transformation\n",
    "\n",
    "\\begin{eqnarray*}\n",
    "x=r cos\\phi\\\\\n",
    "y=r sin\\phi\\\\\n",
    "z=z\n",
    "\\end{eqnarray*}\n",
    "\n",
    "we can calculate the $G$ matrix as\n",
    "\n",
    "\\begin{eqnarray}\n",
    "G=\\left( \\begin{array}{ccc} cos\\phi & -r sin \\phi & 0\\\\\n",
    "sin \\phi & r cos\\phi & 0\\\\\n",
    "0 & 0& 1\n",
    "\\end{array}\\right)\\;;\\;V_{(r,\\phi,z)}=\\left( \\begin{array}{ccc}0 & 0 & 0\\\\\n",
    "0 & \\sigma_{\\phi}^2 & 0\\\\\n",
    "0 & 0& \\sigma_{z}^2\n",
    "\\end{array}\\right)\n",
    "\\end{eqnarray}\n"
   ]
  },
  {
   "cell_type": "markdown",
   "metadata": {
    "slideshow": {
     "slide_type": "slide"
    }
   },
   "source": [
    "so that we have\n",
    "\n",
    "\\begin{eqnarray}\\label{mat:cov}\n",
    "V_{f}=\\left( \\begin{array}{ccc}\\sigma_{\\phi}^2 y^2 & -\\sigma_{\\phi}^2 xy  & 0\\\\\n",
    "-\\sigma_{\\phi}^2 xy & \\sigma_{\\phi}^2 x^2& 0\\\\\n",
    "0 & 0& \\sigma_{z}^2\n",
    "\\end{array}\\right)\n",
    "\\end{eqnarray}\n"
   ]
  },
  {
   "cell_type": "markdown",
   "metadata": {
    "slideshow": {
     "slide_type": "slide"
    }
   },
   "source": [
    "# Alternative way\n",
    "\n",
    "We can calculate directly the variance as\n",
    "\n",
    "\n",
    "\\begin{eqnarray}\n",
    "V_f(1,1)&=& \\left|\\frac{\\partial x}{\\partial r} \\right|^2 \\sigma_r^2+\\left|\\frac{\\partial x}{\\partial \\phi} \\right|^2 \\sigma_\\phi^2+\\left|\\frac{\\partial x}{\\partial z} \\right|^2 \\sigma_z^2=r^2\\sin^2 \\phi  \\sigma_\\phi^2=y^2\\sigma_\\phi^2\\\\\n",
    "V_f(2,2)&=& \\left|\\frac{\\partial y}{\\partial r} \\right|^2 \\sigma_r^2+\\left|\\frac{\\partial y}{\\partial \\phi} \\right|^2 \\sigma_\\phi^2+\\left|\\frac{\\partial y}{\\partial z} \\right|^2 \\sigma_z^2=r^2\\cos2 \\phi  \\sigma_\\phi^2=x^2\\sigma_\\phi^2\\\\\n",
    "V_f(3,3)&=& \\left|\\frac{\\partial z}{\\partial r} \\right|^2 \\sigma_r^2+\\left|\\frac{\\partial z}{\\partial \\phi} \\right|^2 \\sigma_\\phi^2+\\left|\\frac{\\partial z}{\\partial z} \\right|^2 \\sigma_z^2=  \\sigma_z^2\\\\\n",
    "\\end{eqnarray}\n",
    "\n"
   ]
  },
  {
   "cell_type": "markdown",
   "metadata": {
    "slideshow": {
     "slide_type": "slide"
    }
   },
   "source": [
    "If we want to calculate the covariance of this matrix. I should calculate in principle 3 matrix elements again (the error matrix is symmetric!).\n",
    "I will do only one for exercise\n",
    "\n",
    "\\begin{eqnarray}\n",
    "V_f(2,1)&=& \\frac{\\partial x}{\\partial r} \\frac{\\partial y}{\\partial r}  \\sigma_r^2+ \\frac{\\partial x}{\\partial \\phi} \\frac{\\partial y}{\\partial \\phi} \\sigma_\\phi^2+ \\frac{\\partial x}{\\partial z} \\frac{\\partial y}{\\partial z} \\sigma_z^2\\\\\n",
    "&=&-r^2\\sin \\phi\\cos \\phi  \\sigma_\\phi^2=-xy\\sigma_\\phi^2\\\\\n",
    "\\end{eqnarray}\n",
    "\n",
    "and so on for all the others.\n",
    "You see matrix formluations is way simpler and effective!"
   ]
  },
  {
   "cell_type": "markdown",
   "metadata": {
    "slideshow": {
     "slide_type": "slide"
    }
   },
   "source": [
    "# Example\n",
    "\n",
    "Repeat the previous example now assuming that there is a correlation between $\\phi,z$ $cov(\\phi,z)=\\sigma_{\\phi,z}^2$.\n",
    "\n",
    "\n"
   ]
  },
  {
   "cell_type": "markdown",
   "metadata": {
    "slideshow": {
     "slide_type": "slide"
    }
   },
   "source": [
    "We use the result of previous example\n",
    "\n",
    "\n",
    "\\begin{eqnarray}\n",
    "G=\\left( \\begin{array}{ccc} cos\\phi & -r sin \\phi & 0\\\\\n",
    "sin \\phi & r cos\\phi & 0\\\\\n",
    "0 & 0& 1\n",
    "\\end{array}\\right)\\;;\\;V_x=\\left( \\begin{array}{ccc}0 & 0 & 0\\\\\n",
    "0 & \\sigma_{\\phi}^2 & \\sigma_{\\phi,z}^2\\\\\n",
    "0 & \\sigma_{\\phi,z}^2& \\sigma_{z}^2\n",
    "\\end{array}\\right)\n",
    "\\end{eqnarray}"
   ]
  },
  {
   "cell_type": "markdown",
   "metadata": {
    "slideshow": {
     "slide_type": "slide"
    }
   },
   "source": [
    "We get \n",
    "\n",
    "\n",
    "\\begin{eqnarray}\n",
    "V_{f}=\\left( \\begin{array}{ccc}\\sigma_{\\phi}^2 y^2 & -\\sigma_{\\phi}^2 xy  &-\\sigma_{\\phi,z}^2 y \\\\\n",
    "-\\sigma_{\\phi}^2 xy & \\sigma_{\\phi}^2 x^2& \\sigma_{\\phi,z}^2 x\\\\\n",
    "-\\sigma_{\\phi,z}^2 y & \\sigma_{\\phi,z}^2 x& \\sigma_{z}^2\n",
    "\\end{array}\\right)\n",
    "\\end{eqnarray}\n",
    "\n",
    "\n",
    "\n",
    "We see that the matrix is sparse!"
   ]
  },
  {
   "cell_type": "markdown",
   "metadata": {
    "slideshow": {
     "slide_type": "slide"
    }
   },
   "source": [
    "# Systematic errors\n",
    "\n",
    "\n",
    "An error that affects several measurements in the same way are denoted systematic.  As an example we can consider a voltmeter measurements which have a built-in systematic error (percentage of the measured value). Background on measurements introduce a systematic zero-point error. Systematic errors always introduce correlations between measurements, and are therefore cases where the previous formalism is particularly useful. \n",
    "\n",
    "Naturally, if you explicitly know the exact value of a systematic shift, it is no longer an error, but you can simply correct for it thereby eliminating the error. Very often, however, we cannot correct for all errors, and will have to include the systematic errors in the calculation of the uncertainty of the result in question. "
   ]
  },
  {
   "cell_type": "markdown",
   "metadata": {},
   "source": [
    "#### Example: Any measurements with a ruler are associated with a statistical error (random error), lets say of 1%. This means readings will sometimes be smaller or larger by about 1%. Repeated measurements can improve on this uncertainty due to CLT. \n",
    "\n",
    "#### If your ruler was wrong then it would CONSISTENTLY lead to a 1% different measurement, but this time it will not be in a random way (it will either be consistently smaller or lager). Because of this (measurements share a systematic effect and are thus not independent), the CLT does not hold. In this case repeated measurements will not imporve on your estimate; i.e. there is nothing to be gained from repeated measurements (repeating your mistake)"
   ]
  },
  {
   "cell_type": "markdown",
   "metadata": {
    "slideshow": {
     "slide_type": "slide"
    }
   },
   "source": [
    "These systematic errors come in three categories:\n",
    "\n",
    "\n",
    "1. Explicitly known errors (such as that of the voltmeter).\n",
    "\n",
    "\n",
    "2.  Known but must be evaluated (this is the usual case, and an example is given in the following).\n",
    "\n",
    "\n",
    "3.  Unexpected and unidentified (means your result is wrong, but you won't even know that).\n",
    "\n"
   ]
  },
  {
   "cell_type": "markdown",
   "metadata": {
    "slideshow": {
     "slide_type": "slide"
    }
   },
   "source": [
    "As an example of the second case where we can evaluate the potential error, let us assume that we are using a $^{210}$Pb source of an (original) activity of 370\\,kBq. However, with the half life being only $T_{1/2} = 21$\\,y, the reduction at the time of use must be taken into account if we want to compare to a measured rate in a detector. "
   ]
  },
  {
   "cell_type": "markdown",
   "metadata": {
    "slideshow": {
     "slide_type": "slide"
    }
   },
   "source": [
    "We can estimate the error in the following way:\n",
    "\n",
    "\n",
    "1.  Let's say we know it to be very unlikely for the source to be more than 5 years old.\n",
    "\n",
    "2.  This means the minimum possible activity is 314\\,kBq, so the actual activity must be somewhere in this range.\n",
    "\n",
    "3.  If we assume a uniform distribution over the possible activity range, we get $\\sigma = (\\textrm{max}-\\textrm{min})/\\sqrt{12}=16$\\,kBq.\n",
    "\n",
    "\n",
    "Assuming an actual activity of $342\\pm16$\\,kBq is therefore a good (and probably conservative) estimate, yielding a systematic uncertainty of 5\\,\\% to be taken into account the comparison to measurements."
   ]
  },
  {
   "cell_type": "markdown",
   "metadata": {
    "slideshow": {
     "slide_type": "slide"
    }
   },
   "source": [
    "# Handling systematic errors\n",
    "\n",
    "Let's assume that two stochastic variables $x$ and $y$ have (independent) random errors $\\sigma_x$,$\\sigma_y$ and a common systematic error $s$. To describe the errors in $x,y$ data, we must describe both the errors on $x$ and $y$ as well as the $x,y$ covariance. For this, it is practical to describe the values of $x$ and $y$ as arising from the sum of two components, one carrying only the random error and one carrying only the systematic error:\n",
    "\\begin{eqnarray*}\n",
    "\tV(x)\t& = &  \\sigma_1^2 + s^2 \\\\\n",
    "\tV(y)\t& = & \\sigma_2^2 + s^2\\\\\n",
    "\tcov(x,y)=s^2\n",
    "\\end{eqnarray*}\t\n",
    "\n"
   ]
  },
  {
   "cell_type": "markdown",
   "metadata": {
    "slideshow": {
     "slide_type": "slide"
    }
   },
   "source": [
    "So that we can write the error matrix as\n",
    "\n",
    "\\begin{equation}\n",
    "V_{xy} = \\left(\n",
    "\\begin{array}{cc}\n",
    "\\sigma_x^2+s^2 & s^2 \\\\\n",
    "s^2 & \\sigma_y^2+s^2 \\\\\n",
    "\\end{array}\n",
    "\\right)\n",
    "\\end{equation}\n",
    "\n",
    "\n",
    "A similar calculation can be carried out if the systematic error is a relative error, or in cases where more than two variables are in play.This is detailed by R.J. Barlow (p. 66).\n"
   ]
  },
  {
   "cell_type": "markdown",
   "metadata": {
    "slideshow": {
     "slide_type": "slide"
    }
   },
   "source": [
    "# G-matrix example\n",
    "\n",
    "As an example in the use of the G-matrix notation, let's say we have the two measurements $x$, $y$ with the above errors. Now if the physical parameter we are after is instead: $f(x,y) = ax+by$, then:\n",
    "\\begin{eqnarray*}\n",
    "G &=& \\left( \\frac{\\partial f}{\\partial x}, \\frac{\\partial f}{\\partial y}\\right) = \\left( a, b \\right) \\\\\n",
    "\\widetilde{G} &=&\n",
    " \\left(\n",
    "\\begin{array}{cc}\n",
    "a \\\\\n",
    "b \\\\\n",
    "\\end{array}\n",
    "\\right).\n",
    "\\end{eqnarray*}\n"
   ]
  },
  {
   "cell_type": "markdown",
   "metadata": {
    "slideshow": {
     "slide_type": "slide"
    }
   },
   "source": [
    "This yields for the ($1\\times1$) error matrix for $f$ as\n",
    "\n",
    "$V_f = G V_{xy}\\widetilde{G}$\n",
    "\n",
    "\\begin{eqnarray}\n",
    "V_f &=& \\left( a, b \\right)\n",
    "\\left(\n",
    "\\begin{array}{cc}\n",
    "\\sigma_x^2+s^2 & s^2 \\\\\n",
    "s^2 & \\sigma_y^2+s^2 \\\\\n",
    "\\end{array}\n",
    "\\right)\n",
    " \\left(\n",
    "\\begin{array}{cc}\n",
    "a \\\\\n",
    "b \\\\\n",
    "\\end{array}\n",
    "\\right) \\\\\n",
    "\\end{eqnarray}\n"
   ]
  },
  {
   "cell_type": "markdown",
   "metadata": {
    "slideshow": {
     "slide_type": "slide"
    }
   },
   "source": [
    "The previous expression can also be re-written as\n",
    "\n",
    "\\begin{eqnarray*}\n",
    "V_f =  a^2\\left(\\sigma_x^2 + s^2\\right) + b^2\\left(\\sigma_y^2 + s^2\\right) + 2ab \\cdot s^2 \n",
    "\\end{eqnarray*}\n",
    "\n",
    "\n",
    "which is exactly the same as was derived for a general function of two variables. This is seen as the total errors on $x$ and $y$ in the present case are $\\sqrt{\\sigma_x^2 + s^2}$ and $\\sqrt{\\sigma_y^2 + s^2}$ with the covariance between $x$ and $y$  being $s^2$."
   ]
  },
  {
   "cell_type": "markdown",
   "metadata": {
    "slideshow": {
     "slide_type": "slide"
    }
   },
   "source": [
    "The last expression emphasises that the effect of the systematic error depends critically on the values of $a$ and $b$, particularly whether they are of the same or opposite sign. If the systematic uncertainty is an absolute uncertainty (rather than relative) and if $a$ and $b$ are of the same absolute value but of opposite sign, the systematic uncertainty cancels out because it affects $x$ and $y$ in the same way, and therefore cancels out in the difference. A similar argument can be made for ratios $x/y$ when the error is a relative error."
   ]
  },
  {
   "cell_type": "markdown",
   "metadata": {
    "slideshow": {
     "slide_type": "slide"
    }
   },
   "source": [
    "# Monte-Carlo Error Propagation"
   ]
  },
  {
   "cell_type": "markdown",
   "metadata": {
    "slideshow": {
     "slide_type": "slide"
    }
   },
   "source": [
    "Monte-Carlo methods are based on the use of random numbers. We will discuss this later in connection with Parametric Bootstrap.\n",
    "For the moment we provide a simple introduction based on an example"
   ]
  },
  {
   "cell_type": "markdown",
   "metadata": {
    "slideshow": {
     "slide_type": "slide"
    }
   },
   "source": [
    "let us consider the following equation:\n",
    "\n",
    "$F=G \\frac{M_1 M_2}{r^2}$\n",
    " \n",
    "which gives the gravitational force between two masses  $M_1$  and  $M_2$  separated by a distance  r ."
   ]
  },
  {
   "cell_type": "markdown",
   "metadata": {
    "slideshow": {
     "slide_type": "slide"
    }
   },
   "source": [
    "Let us now imagine that we have two masses:\n",
    "\n",
    "$M_1=40×10^4\\pm0.05×10^4kg$\n",
    " \n",
    "and\n",
    "\n",
    "$M_2=30×10^4\\pm0.1×10^4kg$\n",
    " \n",
    "separated by a distance:\n",
    "\n",
    "$r=3.2\\pm0.01 m$\n",
    " \n",
    "where the uncertaintes are the standard deviations of Gaussian distributions which could be e.g. measurement errors.\n",
    "\n"
   ]
  },
  {
   "cell_type": "markdown",
   "metadata": {
    "slideshow": {
     "slide_type": "slide"
    }
   },
   "source": [
    "We also know:\n",
    "\n",
    "$G=6.67384×10^{−11} m^3 kg^{−1} s^{−2}$\n",
    " \n",
    "(exact value, no uncertainty)\n",
    "\n",
    "We aslso assume no correlations between the errors on $M_1,M_2,r$ "
   ]
  },
  {
   "cell_type": "markdown",
   "metadata": {
    "slideshow": {
     "slide_type": "slide"
    }
   },
   "source": [
    "We first use the previous methodology\n",
    "\n",
    "$\\sigma_F=\\left[ \\left(G \\frac{ M_2}{r^2} \\right)^2 \\sigma_{M_1}^2+\\left(G \\frac{ M_1}{r^2} \\right)^2 \\sigma_{M_2}^2 +\\left(-2 G \\frac{M_1 M_2}{r^3} \\right)^2 \\sigma_{r}^2\\right]^{1/2}$"
   ]
  },
  {
   "cell_type": "code",
   "execution_count": 1,
   "metadata": {
    "slideshow": {
     "slide_type": "slide"
    }
   },
   "outputs": [],
   "source": [
    "M1=40*10**4\n",
    "M2=30*10**4\n",
    "sm1=0.05*10**4\n",
    "sm2=0.1*10**4\n",
    "R=3.2\n",
    "sr=0.01"
   ]
  },
  {
   "cell_type": "code",
   "execution_count": 2,
   "metadata": {
    "slideshow": {
     "slide_type": "slide"
    }
   },
   "outputs": [],
   "source": [
    "def errorF(M1,M2,sm1,sm2,R,sr):\n",
    "    G=6.67384*10**(-11)\n",
    "    R2=R*R\n",
    "    R3=R2*R\n",
    "    som=(G*M2/R2*sm1)**2+(G*M1/R2*sm2)**2+(-2*G*M1*M2/R3*sr)**2\n",
    "    som=som**(0.5)\n",
    "    print(\"Error on the force is=\",som,\" N \")\n",
    "    \n",
    "\n",
    "def force(M1,M2,R):\n",
    "    G=6.67384*10**(-11)\n",
    "    R2=R*R\n",
    "    som=G*M1*M2/R2\n",
    "    print(\"The force is=\",som,\" N \")\n"
   ]
  },
  {
   "cell_type": "code",
   "execution_count": 3,
   "metadata": {
    "slideshow": {
     "slide_type": "slide"
    }
   },
   "outputs": [
    {
     "name": "stdout",
     "output_type": "stream",
     "text": [
      "The force is= 0.7820906249999999  N \n",
      "Error on the force is= 0.005625407272639264  N \n"
     ]
    }
   ],
   "source": [
    "force(M1,M2,R)\n",
    "\n",
    "errorF(M1,M2,sm1,sm2,R,sr)"
   ]
  },
  {
   "cell_type": "markdown",
   "metadata": {
    "slideshow": {
     "slide_type": "slide"
    }
   },
   "source": [
    "Now, we can try using a Monte-Carlo technique instead. The idea behind Monte-Carlo techniques is to generate many possible solutions using random numbers and using these to look at the overall results. In the above case, you can propagate uncertainties with a Monte-Carlo method by doing the following:\n",
    "\n",
    "1. randomly sample values of  $M_1$ ,  $M_2$ , and  r , 100000 times, using the means and standard deviations given above\n",
    "\n",
    "2. compute the gravitational force for each set of values"
   ]
  },
  {
   "cell_type": "code",
   "execution_count": 4,
   "metadata": {
    "slideshow": {
     "slide_type": "slide"
    }
   },
   "outputs": [],
   "source": [
    "import random  \n",
    "    \n",
    "# Generate random vectors for M1 M2 R  \n",
    "# list  \n",
    "M1random= []  \n",
    "M2random= []\n",
    "Rrandom=[]    \n",
    "NNN=100000\n",
    "for i in range(NNN):  \n",
    "    M1random.append(random.gauss(M1, sm1) )\n",
    "    M2random.append(random.gauss(M2, sm2) )\n",
    "    Rrandom.append(random.gauss(R, sr) )"
   ]
  },
  {
   "cell_type": "code",
   "execution_count": 5,
   "metadata": {
    "slideshow": {
     "slide_type": "slide"
    }
   },
   "outputs": [
    {
     "data": {
      "image/png": "[encoded data removed]",
      "text/plain": [
       "<Figure size 432x288 with 1 Axes>"
      ]
     },
     "metadata": {
      "needs_background": "light"
     },
     "output_type": "display_data"
    }
   ],
   "source": [
    "import matplotlib.pyplot as plt  \n",
    "\n",
    "        \n",
    "# plotting a graph  \n",
    "plt.hist(M1random)\n",
    "plt.xlabel(\"Mass\")\n",
    "plt.show() "
   ]
  },
  {
   "cell_type": "markdown",
   "metadata": {
    "slideshow": {
     "slide_type": "-"
    }
   },
   "source": [
    "We calculate now the value of the force from the vectors we calculated before"
   ]
  },
  {
   "cell_type": "code",
   "execution_count": 6,
   "metadata": {
    "slideshow": {
     "slide_type": "skip"
    }
   },
   "outputs": [],
   "source": [
    "import numpy as np\n",
    "\n",
    "M1random=np.array(M1random)\n",
    "M2random=np.array(M2random)\n",
    "Rrandom=np.array(Rrandom)"
   ]
  },
  {
   "cell_type": "code",
   "execution_count": 7,
   "metadata": {
    "slideshow": {
     "slide_type": "slide"
    }
   },
   "outputs": [],
   "source": [
    "F=np.zeros(NNN)\n",
    "G=6.67384*10**(-11)\n",
    "for i in range(NNN):\n",
    "    F[i]=G*M1random[i]*M2random[i]/(Rrandom[i]**2)"
   ]
  },
  {
   "cell_type": "code",
   "execution_count": 8,
   "metadata": {
    "slideshow": {
     "slide_type": "slide"
    }
   },
   "outputs": [],
   "source": [
    "import numpy as np\n",
    "\n",
    "\n",
    "x=np.linspace(0.5,1.5,1000)\n",
    "mm=0.782090624999999\n",
    "ss=0.0056254072726392\n",
    "\n",
    "def gaussian(x, mu, sig):\n",
    "    return np.exp(-np.power(x - mu, 2.) / (2 * np.power(sig, 2.)))\n"
   ]
  },
  {
   "cell_type": "code",
   "execution_count": 10,
   "metadata": {
    "slideshow": {
     "slide_type": "slide"
    }
   },
   "outputs": [
    {
     "data": {
      "image/png": "[encoded data removed]",
      "text/plain": [
       "<Figure size 432x288 with 1 Axes>"
      ]
     },
     "metadata": {
      "needs_background": "light"
     },
     "output_type": "display_data"
    }
   ],
   "source": [
    "# plotting a graph  \n",
    "factor=0.0009\n",
    "plt.hist(F, bins=300,weights=factor*np.ones_like(F))\n",
    "plt.plot(x,gaussian(x,mm,ss))\n",
    "plt.xlim(0.76,0.81)\n",
    "plt.xlabel(\"Force\")\n",
    "plt.show() "
   ]
  },
  {
   "cell_type": "code",
   "execution_count": null,
   "metadata": {},
   "outputs": [],
   "source": []
  }
 ],
 "metadata": {
  "celltoolbar": "Slideshow",
  "kernelspec": {
   "display_name": "Python 3 (ipykernel)",
   "language": "python",
   "name": "python3"
  },
  "language_info": {
   "codemirror_mode": {
    "name": "ipython",
    "version": 3
   },
   "file_extension": ".py",
   "mimetype": "text/x-python",
   "name": "python",
   "nbconvert_exporter": "python",
   "pygments_lexer": "ipython3",
   "version": "3.9.7"
  },
  "varInspector": {
   "cols": {
    "lenName": 16,
    "lenType": 16,
    "lenVar": 40
   },
   "kernels_config": {
    "python": {
     "delete_cmd_postfix": "",
     "delete_cmd_prefix": "del ",
     "library": "var_list.py",
     "varRefreshCmd": "print(var_dic_list())"
    },
    "r": {
     "delete_cmd_postfix": ") ",
     "delete_cmd_prefix": "rm(",
     "library": "var_list.r",
     "varRefreshCmd": "cat(var_dic_list()) "
    }
   },
   "types_to_exclude": [
    "module",
    "function",
    "builtin_function_or_method",
    "instance",
    "_Feature"
   ],
   "window_display": false
  }
 },
 "nbformat": 4,
 "nbformat_minor": 2
}
