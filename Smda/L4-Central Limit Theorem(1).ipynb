{
 "cells": [
  {
   "cell_type": "markdown",
   "metadata": {
    "slideshow": {
     "slide_type": "slide"
    }
   },
   "source": [
    "# The Central Limit Theorem (CLT)"
   ]
  },
  {
   "cell_type": "markdown",
   "metadata": {
    "slideshow": {
     "slide_type": "slide"
    }
   },
   "source": [
    "# OUTLINE\n",
    "\n",
    "1. Definition\n",
    "\n",
    "2. CLT at work\n",
    "\n",
    "3. Failure of CLT\n",
    "\n"
   ]
  },
  {
   "cell_type": "markdown",
   "metadata": {
    "slideshow": {
     "slide_type": "slide"
    }
   },
   "source": [
    "The central limit theorem states:\n",
    "\n",
    "If $\\{x_1,x_2,\\dots,x_N\\}$ are independent stochastic variables each with mean $\\mu_i$ and variances $V_i$, and we define $X = \\sum_i x_i$, then:\n",
    "\n",
    "\\begin{eqnarray*}\n",
    "\\mathrm{(a)} & &\\mu_X= \\langle X \\rangle = \\sum_i \\mu_i \\hspace{4cm}(\\mathrm{always})\\\\\n",
    "\\mathrm{(b)} & & V(X) = \\sum_i V_i \\hspace{3.7cm}(\\mathrm{independent})\\\\\n",
    "\\mathrm{(c)} & & X\\ \\textrm{becomes Gaussian for}\\ N \\to \\infty \\hspace{0.4cm}(\\mathrm{``well~behaved\"})\\\\[-0.6cm]\n",
    "\\end{eqnarray*}\n",
    "\n",
    "For (c), $x_i$ must be 'nicely behaved' which particularly means that $\\langle x^r \\rangle$ must be well-defined for all $r$ (and not increase too rapidly with $r$). Furthermore, is should be noted that (c) is best ($i.e.$ the convergence is fastest) for the central part of the distribution, slower for the tails of the distribution.\n",
    "The notation $\\langle A\\rangle$ is called expectation value of the estimator and it refers to value that such a quantity has for the population.\n",
    "\n"
   ]
  },
  {
   "cell_type": "markdown",
   "metadata": {
    "slideshow": {
     "slide_type": "slide"
    }
   },
   "source": [
    "Proof --> See notes (optional)"
   ]
  },
  {
   "cell_type": "markdown",
   "metadata": {
    "slideshow": {
     "slide_type": "slide"
    }
   },
   "source": [
    "# What does it mean?\n",
    "### A quantity produced by the cumulative effect of many independent variables will be (at least approximately) Gaussian, no matter what the distributions of the original variables may have been."
   ]
  },
  {
   "cell_type": "code",
   "execution_count": 2,
   "metadata": {
    "slideshow": {
     "slide_type": "skip"
    }
   },
   "outputs": [],
   "source": [
    "import numpy as np\n",
    "import matplotlib.pyplot as plt\n",
    "x=[]\n",
    "from statistics import variance\n",
    "from statistics import mean "
   ]
  },
  {
   "cell_type": "code",
   "execution_count": 5,
   "metadata": {
    "slideshow": {
     "slide_type": "slide"
    }
   },
   "outputs": [
    {
     "data": {
      "image/png": "[encoded data removed]",
      "text/plain": [
       "<Figure size 432x288 with 1 Axes>"
      ]
     },
     "metadata": {
      "needs_background": "light"
     },
     "output_type": "display_data"
    }
   ],
   "source": [
    "ntrial=100000\n",
    "\n",
    "for i in range(ntrial):\n",
    "    x.append(np.random.uniform(1,0))\n",
    "    \n",
    "plt.hist(x,150)\n",
    "plt.xlabel(\"x\")\n",
    "plt.ylabel(\"Count\")\n",
    "plt.show()"
   ]
  },
  {
   "cell_type": "markdown",
   "metadata": {
    "slideshow": {
     "slide_type": "slide"
    }
   },
   "source": [
    "### What is the mean and the variance? "
   ]
  },
  {
   "cell_type": "code",
   "execution_count": 48,
   "metadata": {
    "slideshow": {
     "slide_type": "slide"
    }
   },
   "outputs": [
    {
     "data": {
      "image/png": "[encoded data removed]",
      "text/plain": [
       "<Figure size 432x288 with 1 Axes>"
      ]
     },
     "metadata": {
      "needs_background": "light"
     },
     "output_type": "display_data"
    },
    {
     "name": "stdout",
     "output_type": "stream",
     "text": [
      "Variance= 0.08343260069146462\n",
      "Mean= 0.5004040082283358\n"
     ]
    }
   ],
   "source": [
    "plt.hist(x,100)\n",
    "plt.xlabel(\"x\")\n",
    "plt.ylabel(\"Count\")\n",
    "plt.show()\n",
    "\n",
    "print(\"Variance=\" ,variance(x))\n",
    "print(\"Mean=\" ,mean(x))"
   ]
  },
  {
   "cell_type": "markdown",
   "metadata": {
    "slideshow": {
     "slide_type": "slide"
    }
   },
   "source": [
    "### Remember that for a uniform (between a and b) distribution the mean is\n",
    "\n",
    "$\\bar{x}=\\frac{b+a}{2}$\n",
    "\n",
    "### and the variance\n",
    "\n",
    "$V(x)=\\frac{(b-a)^2}{12}$\n",
    "\n",
    "\n",
    "### In this case b=1, a=0 so\n",
    "\n",
    "\n",
    "$\\bar{x}=0.5$\n",
    "\n",
    "$V(x)=0.083333$"
   ]
  },
  {
   "cell_type": "markdown",
   "metadata": {
    "slideshow": {
     "slide_type": "slide"
    }
   },
   "source": [
    "### We now build a few data-sets named A,B,C,D... build in the same way"
   ]
  },
  {
   "cell_type": "code",
   "execution_count": 6,
   "metadata": {
    "slideshow": {
     "slide_type": "slide"
    }
   },
   "outputs": [],
   "source": [
    "A=[]\n",
    "B=[]\n",
    "C=[]\n",
    "D=[]\n",
    "E=[]\n",
    "F=[]\n",
    "G=[]\n",
    "H=[]\n",
    "J=[]\n",
    "K=[]\n",
    "L=[]\n",
    "M=[]\n",
    "\n",
    "for i in range(ntrial):\n",
    "    A.append(np.random.uniform(1,0))\n",
    "    B.append(np.random.uniform(1,0))\n",
    "    C.append(np.random.uniform(1,0))\n",
    "    D.append(np.random.uniform(1,0))\n",
    "    E.append(np.random.uniform(1,0))\n",
    "    F.append(np.random.uniform(1,0))\n",
    "    G.append(np.random.uniform(1,0))\n",
    "    H.append(np.random.uniform(1,0))\n",
    "    J.append(np.random.uniform(1,0))\n",
    "    K.append(np.random.uniform(1,0))\n",
    "    L.append(np.random.uniform(1,0))\n",
    "    M.append(np.random.uniform(1,0))\n",
    "        "
   ]
  },
  {
   "cell_type": "code",
   "execution_count": 51,
   "metadata": {
    "slideshow": {
     "slide_type": "slide"
    }
   },
   "outputs": [],
   "source": [
    "AB=np.zeros(ntrial)\n",
    "ABC=np.zeros(ntrial)\n",
    "ABCD=np.zeros(ntrial)\n",
    "ABCDEFGHJKLM=np.zeros(ntrial)\n",
    "\n",
    "for i in range(ntrial):\n",
    "    AB[i]=A[i]+B[i]\n",
    "    ABC[i]=A[i]+B[i]+C[i]\n",
    "    ABCD[i]=A[i]+B[i]+C[i]+D[i]\n",
    "    ABCDEFGHJKLM[i]=A[i]+B[i]+C[i]+D[i]+E[i]+F[i]+G[i]+H[i]+J[i]+K[i]+L[i]+M[i]\n"
   ]
  },
  {
   "cell_type": "code",
   "execution_count": 52,
   "metadata": {
    "slideshow": {
     "slide_type": "slide"
    }
   },
   "outputs": [
    {
     "data": {
      "image/png": "[encoded data removed]",
      "text/plain": [
       "<Figure size 432x288 with 1 Axes>"
      ]
     },
     "metadata": {
      "needs_background": "light"
     },
     "output_type": "display_data"
    }
   ],
   "source": [
    "plt.hist(AB,100)\n",
    "plt.xlabel(\"x\")\n",
    "plt.title('Set A+B')\n",
    "plt.ylabel(\"Count\")\n",
    "plt.show()"
   ]
  },
  {
   "cell_type": "code",
   "execution_count": 53,
   "metadata": {
    "slideshow": {
     "slide_type": "slide"
    }
   },
   "outputs": [
    {
     "data": {
      "image/png": "[encoded data removed]",
      "text/plain": [
       "<Figure size 432x288 with 1 Axes>"
      ]
     },
     "metadata": {
      "needs_background": "light"
     },
     "output_type": "display_data"
    }
   ],
   "source": [
    "plt.hist(ABC,100)\n",
    "plt.xlabel(\"x\")\n",
    "plt.title('Set A+B+C')\n",
    "plt.ylabel(\"Count\")\n",
    "plt.show()"
   ]
  },
  {
   "cell_type": "code",
   "execution_count": 54,
   "metadata": {
    "slideshow": {
     "slide_type": "slide"
    }
   },
   "outputs": [
    {
     "data": {
      "image/png": "[encoded data removed]",
      "text/plain": [
       "<Figure size 432x288 with 1 Axes>"
      ]
     },
     "metadata": {
      "needs_background": "light"
     },
     "output_type": "display_data"
    }
   ],
   "source": [
    "plt.hist(ABCD,100)\n",
    "plt.xlabel(\"x\")\n",
    "plt.title('Set A+B+C+D')\n",
    "plt.ylabel(\"Count\")\n",
    "plt.show()"
   ]
  },
  {
   "cell_type": "code",
   "execution_count": 55,
   "metadata": {
    "slideshow": {
     "slide_type": "slide"
    }
   },
   "outputs": [
    {
     "data": {
      "image/png": "[encoded data removed]",
      "text/plain": [
       "<Figure size 432x288 with 1 Axes>"
      ]
     },
     "metadata": {
      "needs_background": "light"
     },
     "output_type": "display_data"
    }
   ],
   "source": [
    "plt.hist(ABCDEFGHJKLM,100)\n",
    "plt.xlabel(\"x\")\n",
    "plt.title('Set A+B+C+D+...M')\n",
    "plt.ylabel(\"Count\")\n",
    "plt.show()"
   ]
  },
  {
   "cell_type": "markdown",
   "metadata": {
    "slideshow": {
     "slide_type": "slide"
    }
   },
   "source": [
    "### We can calculate the mean and the variance"
   ]
  },
  {
   "cell_type": "code",
   "execution_count": 56,
   "metadata": {
    "slideshow": {
     "slide_type": "slide"
    }
   },
   "outputs": [
    {
     "name": "stdout",
     "output_type": "stream",
     "text": [
      "Variance= 0.3335422661574714\n",
      "Variance CLT= 0.3333333333333333\n",
      "\n",
      "Mean= 1.9994856414643734\n",
      "Mean CLT= 2.0\n"
     ]
    }
   ],
   "source": [
    "print(\"Variance=\" ,variance(ABCD))\n",
    "print(\"Variance CLT=\",4/12)\n",
    "print()\n",
    "print(\"Mean=\" ,mean(ABCD))\n",
    "print(\"Mean CLT=\" ,4*0.5)"
   ]
  },
  {
   "cell_type": "code",
   "execution_count": 57,
   "metadata": {
    "slideshow": {
     "slide_type": "slide"
    }
   },
   "outputs": [
    {
     "name": "stdout",
     "output_type": "stream",
     "text": [
      "Variance= 0.992883488638143\n",
      "Variance CLT= 1.0\n",
      "\n",
      "Mean= 6.000813068035749\n",
      "Mean CLT= 6.0\n"
     ]
    }
   ],
   "source": [
    "print(\"Variance=\" ,variance(ABCDEFGHJKLM))\n",
    "print(\"Variance CLT=\",12/12)\n",
    "print()\n",
    "print(\"Mean=\" ,mean(ABCDEFGHJKLM))\n",
    "print(\"Mean CLT=\" ,12*0.5)"
   ]
  },
  {
   "cell_type": "markdown",
   "metadata": {
    "slideshow": {
     "slide_type": "slide"
    }
   },
   "source": [
    "### The central limit theorem is perhaps the most fundamental result in all of statistics. It allows us to understand the behavior of estimates across repeated sampling and thereby conclude if a result from a given sample can be declared to be “statistically significant,” that is, different from some null hypothesis value.\n",
    "\n",
    "### The central limit theorem tells us exactly what the shape of the distribution of means will be when we draw repeated samples from a given population. Specifically, as the sample sizes get larger, the distribution of means calculated from repeated sampling will approach normality. What makes the central limit theorem so remarkable is that this result holds no matter what shape the original population distribution may have been."
   ]
  },
  {
   "cell_type": "markdown",
   "metadata": {
    "slideshow": {
     "slide_type": "slide"
    }
   },
   "source": [
    "# Example\n",
    "\n",
    "As an example, say that we find a school that has 1200 students, distributed  in grades from 7 to 12 following a uniform distribution\n"
   ]
  },
  {
   "cell_type": "code",
   "execution_count": 58,
   "metadata": {
    "slideshow": {
     "slide_type": "slide"
    }
   },
   "outputs": [],
   "source": [
    "import random\n",
    "pop=[]\n",
    "nn=1200\n",
    "\n",
    "for i in range(nn):\n",
    "    pop.append(random.randint(7,12))\n",
    "    "
   ]
  },
  {
   "cell_type": "code",
   "execution_count": 59,
   "metadata": {
    "slideshow": {
     "slide_type": "slide"
    }
   },
   "outputs": [
    {
     "data": {
      "image/png": "[encoded data removed]",
      "text/plain": [
       "<Figure size 432x288 with 1 Axes>"
      ]
     },
     "metadata": {
      "needs_background": "light"
     },
     "output_type": "display_data"
    }
   ],
   "source": [
    "plt.hist(pop,6)\n",
    "plt.xlabel(\"Grades\")\n",
    "plt.ylabel(\"Count\")\n",
    "plt.show()"
   ]
  },
  {
   "cell_type": "markdown",
   "metadata": {
    "slideshow": {
     "slide_type": "slide"
    }
   },
   "source": [
    "### Say that we take a sample of 10 students and calculate the mean grade level for the sample. "
   ]
  },
  {
   "cell_type": "code",
   "execution_count": 66,
   "metadata": {
    "slideshow": {
     "slide_type": "slide"
    }
   },
   "outputs": [
    {
     "name": "stdout",
     "output_type": "stream",
     "text": [
      "[11 12 11  8  9 11  9  9 11 11]\n",
      "\n",
      "The mean is =  10.2\n"
     ]
    }
   ],
   "source": [
    "popnew=np.array(pop)\n",
    "\n",
    "\n",
    "n = 10  # for 2 random indices\n",
    "index = np.random.choice(popnew.shape[0], n, replace=False)  \n",
    "sample=popnew[index]\n",
    "print(sample)\n",
    "print()\n",
    "print(\"The mean is = \",sample.mean())"
   ]
  },
  {
   "cell_type": "markdown",
   "metadata": {
    "slideshow": {
     "slide_type": "slide"
    }
   },
   "source": [
    "### By the nature of random sampling, we will get a slightly different result each time we take a new sample. We calculate several samples and for each of them we calculate the mean."
   ]
  },
  {
   "cell_type": "code",
   "execution_count": 67,
   "metadata": {
    "slideshow": {
     "slide_type": "slide"
    }
   },
   "outputs": [],
   "source": [
    "nsample=1000\n",
    "n = 10  # for 2 random indices\n",
    "meansample=[]\n",
    "\n",
    "for i in range(nsample):\n",
    "    index = np.random.choice(popnew.shape[0], n, replace=False)  \n",
    "    sample=popnew[index]\n",
    "    meansample.append(sample.mean())"
   ]
  },
  {
   "cell_type": "markdown",
   "metadata": {
    "slideshow": {
     "slide_type": "slide"
    }
   },
   "source": [
    "## Sampling distribution\n",
    "### If we keep taking samples and calculating the mean each time, these means will begin to form their own distribution. We call this distribution of means the sampling distribution because it represents the distribution of estimates across repeated samples"
   ]
  },
  {
   "cell_type": "code",
   "execution_count": 76,
   "metadata": {
    "slideshow": {
     "slide_type": "slide"
    }
   },
   "outputs": [
    {
     "data": {
      "image/png": "[encoded data removed]",
      "text/plain": [
       "<Figure size 432x288 with 1 Axes>"
      ]
     },
     "metadata": {
      "needs_background": "light"
     },
     "output_type": "display_data"
    }
   ],
   "source": [
    "plt.hist(meansample,7)\n",
    "plt.xlabel(\"Average grades\")\n",
    "plt.ylabel(\"Count\")\n",
    "plt.show()"
   ]
  },
  {
   "cell_type": "markdown",
   "metadata": {
    "slideshow": {
     "slide_type": "slide"
    }
   },
   "source": [
    "## Why the Central Limit Theorem is Important\n",
    "\n",
    "\n",
    "### If we know the population mean and standard deviation, we know the following will be true:\n",
    "\n",
    "\n",
    "### \"The distribution of means across repeated samples (n) will be normal with a mean equal to the population mean and a standard deviation equal to the population standard deviation divided by the square root of n.\n",
    "\n",
    "\n",
    "### Since we know exactly what the distribution of means will look like for a given population, we can take the mean from a single sample and compare it to the sampling distribution to assess the likelihood that our sample comes from the same population. In other words, we can test the hypothesis that our sample represents a population distinct from the known population."
   ]
  },
  {
   "cell_type": "markdown",
   "metadata": {
    "slideshow": {
     "slide_type": "slide"
    }
   },
   "source": [
    "### The Central Limit Theorem is important for statistics because it allows us to safely assume that the sampling distribution of the mean will be normal in most cases. This means that we can take advantage of statistical techniques that assume a normal distribution.\n",
    "\n"
   ]
  },
  {
   "cell_type": "markdown",
   "metadata": {
    "slideshow": {
     "slide_type": "slide"
    }
   },
   "source": [
    "### Here is an example. The population distribution of IQ in the general public is known to have a mean of 100 with a standard deviation of 15.\n",
    "\n",
    "<img src=\"unnamed-chunk-7-1.png\" style=\"width:550px;height:550px\"/>"
   ]
  },
  {
   "cell_type": "markdown",
   "metadata": {
    "slideshow": {
     "slide_type": "slide"
    }
   },
   "source": [
    "### We take a sample of 36 students who have received a novel form of education and wish to determine if these individuals are systematically smarter than the rest of the population. To do so, we calculate the mean for our sample and consider how likely we would be to observe this value if the students were actually not any different (the null hypothesis).\n",
    "\n",
    "### The sample mean IQ we observe is 105. We know that, even if our students were not any different from the general public, we may still observe a 105 simply due to random sampling. Is this value sufficiently rare under repeated sampling that we can say our sample is different?"
   ]
  },
  {
   "cell_type": "markdown",
   "metadata": {
    "slideshow": {
     "slide_type": "slide"
    }
   },
   "source": [
    "### Given the central limit theorem, we know that the distribution of means will be normal with a mean of 100 and a standard deviation of $\\frac{15}{\\sqrt{36}}=2.5$. We can compare our own mean to this distribution as follows:\n",
    "\n",
    "<img src=\"unnamed-chunk-8-1.png\" style=\"width:450px;height:450px\"/>"
   ]
  },
  {
   "cell_type": "markdown",
   "metadata": {
    "slideshow": {
     "slide_type": "slide"
    }
   },
   "source": [
    "### If the probability of observing our sample mean or something larger is sufficiently small (say, less than .05), then we can reject the assertion that our sample is just like the general public. This probability will be equal to the area under the normal curve above our observed sample value. "
   ]
  },
  {
   "cell_type": "markdown",
   "metadata": {
    "slideshow": {
     "slide_type": "slide"
    }
   },
   "source": [
    "## CLT Failure..\n",
    "\n",
    "### The Central Limit Theorem requires that data come from a distribution with finite variance. The Cauchy distribution (which is a special case of a t-distribution) is an example of a distribution that does not have a finite variance – in fact, the Cauchy distribution does not even have a finite mean."
   ]
  },
  {
   "cell_type": "markdown",
   "metadata": {
    "slideshow": {
     "slide_type": "slide"
    }
   },
   "source": [
    "The probability density function for Cauchy is\n",
    "\n",
    "$f=\\frac{1}{\\pi \\gamma(1+\\left(\\frac{x-x_0}{\\gamma}\\right)^2)}$\n",
    "\n",
    "for $x$ a real number .\n",
    "The special case $x_0=0$ and $\\gamma=1$"
   ]
  },
  {
   "cell_type": "code",
   "execution_count": 19,
   "metadata": {
    "slideshow": {
     "slide_type": "slide"
    }
   },
   "outputs": [
    {
     "data": {
      "image/png": "[encoded data removed]",
      "text/plain": [
       "<Figure size 432x288 with 1 Axes>"
      ]
     },
     "metadata": {
      "needs_background": "light"
     },
     "output_type": "display_data"
    }
   ],
   "source": [
    "from scipy.stats import cauchy\n",
    "from scipy.stats import norm\n",
    "import matplotlib.pyplot as plt\n",
    "\n",
    "x = np.linspace(-5,5, 100)\n",
    "plt.xlabel(\"x\")\n",
    "plt.plot(x, cauchy.pdf(x),'r-', lw=5, alpha=0.6, label='cauchy pdf')\n",
    "plt.plot(x, norm.pdf(x),'g-', lw=5, alpha=0.6, label='normal pdf')\n",
    "plt.legend()\n",
    "plt.show()\n"
   ]
  },
  {
   "cell_type": "markdown",
   "metadata": {
    "slideshow": {
     "slide_type": "slide"
    }
   },
   "source": [
    " Note that the Cauchy distribution has a shorter, narrower peak than the normal distribution, but has “fatter” tails."
   ]
  },
  {
   "cell_type": "markdown",
   "metadata": {
    "slideshow": {
     "slide_type": "slide"
    }
   },
   "source": [
    "To illustrate the problem with the CLT for the Cauchy distribution, 1000 samples of size\n",
    "100 were drawn from a Cauchy distribution. The mean for each sample was calculated.\n",
    "Looking at these 1000 sample means should give us some idea of the sampling\n",
    "distribution of means for samples of size 100 from the Cauchy distribution"
   ]
  },
  {
   "cell_type": "code",
   "execution_count": 28,
   "metadata": {
    "slideshow": {
     "slide_type": "slide"
    }
   },
   "outputs": [],
   "source": [
    "ntest=100000\n",
    "m=[]\n",
    "for i in range(ntest):\n",
    "    s = np.random.standard_cauchy(100)\n",
    "    m.append(s.mean())\n"
   ]
  },
  {
   "cell_type": "code",
   "execution_count": 29,
   "metadata": {
    "slideshow": {
     "slide_type": "slide"
    }
   },
   "outputs": [
    {
     "data": {
      "image/png": "[encoded data removed]",
      "text/plain": [
       "<Figure size 432x288 with 1 Axes>"
      ]
     },
     "metadata": {
      "needs_background": "light"
     },
     "output_type": "display_data"
    }
   ],
   "source": [
    "plt.hist(s)\n",
    "plt.xlabel(\"Mean\")\n",
    "plt.ylabel(\"Count\")\n",
    "plt.show()"
   ]
  },
  {
   "cell_type": "markdown",
   "metadata": {
    "slideshow": {
     "slide_type": "slide"
    }
   },
   "source": [
    "The resulting distribution is far from being normal!!!\n",
    "\n",
    "\n",
    "Distributions for which the CLT fails are sometimes considered pathological. In many fields of study, such distributions never arise. But in other fields, they do arise in important ways. For example, in biology, the distribution of the distance that seeds end up from the parent plant may have a “fat-tailed” distribution if most fall by the plant but many are dispersed by wind, water, or animals. \n",
    "assumptions."
   ]
  },
  {
   "cell_type": "markdown",
   "metadata": {
    "slideshow": {
     "slide_type": "slide"
    }
   },
   "source": [
    "<img src=\"Taleb.png\" style=\"width:950px;height:950px\"/>"
   ]
  },
  {
   "cell_type": "code",
   "execution_count": null,
   "metadata": {},
   "outputs": [],
   "source": []
  }
 ],
 "metadata": {
  "celltoolbar": "Slideshow",
  "kernelspec": {
   "display_name": "Python 3 (ipykernel)",
   "language": "python",
   "name": "python3"
  },
  "language_info": {
   "codemirror_mode": {
    "name": "ipython",
    "version": 3
   },
   "file_extension": ".py",
   "mimetype": "text/x-python",
   "name": "python",
   "nbconvert_exporter": "python",
   "pygments_lexer": "ipython3",
   "version": "3.9.7"
  }
 },
 "nbformat": 4,
 "nbformat_minor": 2
}
